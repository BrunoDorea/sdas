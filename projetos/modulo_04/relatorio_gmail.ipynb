{
 "cells": [
  {
   "cell_type": "code",
   "execution_count": null,
   "metadata": {},
   "outputs": [],
   "source": [
    "# %pip install seaborn"
   ]
  },
  {
   "cell_type": "code",
   "execution_count": null,
   "metadata": {},
   "outputs": [],
   "source": [
    "import pandas as pd\n",
    "import numpy as np\n",
    "import matplotlib.pyplot as plt\n",
    "import mailbox\n",
    "import re\n",
    "import pytz\n",
    "import seaborn as sns"
   ]
  },
  {
   "cell_type": "code",
   "execution_count": 9,
   "metadata": {},
   "outputs": [
    {
     "name": "stderr",
     "output_type": "stream",
     "text": [
      "unzip:  cannot find either /content/takeout-20230928T170442Z-001.zip or /content/takeout-20230928T170442Z-001.zip.zip.\n"
     ]
    }
   ],
   "source": [
    "!unzip /content/takeout-20230928T170442Z-001.zip"
   ]
  },
  {
   "cell_type": "code",
   "execution_count": null,
   "metadata": {},
   "outputs": [],
   "source": [
    "mbox = mailbox.mbox(\"/content/Takeout/E-mail/Todos os e-mails, incluindo Spam e Lixeira.mbox\")"
   ]
  },
  {
   "cell_type": "markdown",
   "metadata": {},
   "source": [
    "mbox[0].keys()"
   ]
  },
  {
   "cell_type": "code",
   "execution_count": null,
   "metadata": {},
   "outputs": [],
   "source": [
    "email_dict = {\n",
    "    'date': [],\n",
    "    'from': [],\n",
    "    'to': [],\n",
    "    'subject': [],\n",
    "    'labels': []\n",
    "}\n",
    "\n",
    "# coletando os dados\n",
    "for message in mbox:\n",
    "    email_dict['date'].append(message['date'])\n",
    "    email_dict['from'].append(message['from'])\n",
    "    email_dict['to'].append(message['to'])\n",
    "    email_dict['subject'].append(message['subject'])\n",
    "    email_dict['labels'].append(message['X-Gmail-Labels'])"
   ]
  },
  {
   "cell_type": "code",
   "execution_count": null,
   "metadata": {},
   "outputs": [],
   "source": [
    "df = pd.DataFrame(email_dict)\n",
    "df.head()"
   ]
  },
  {
   "cell_type": "code",
   "execution_count": null,
   "metadata": {},
   "outputs": [],
   "source": [
    "df.dtypes"
   ]
  },
  {
   "cell_type": "code",
   "execution_count": null,
   "metadata": {},
   "outputs": [],
   "source": [
    "df['date'] = pd.to_datetime(df['date'], utc=True)"
   ]
  },
  {
   "cell_type": "code",
   "execution_count": null,
   "metadata": {},
   "outputs": [],
   "source": [
    "df[\"date\"] = df[\"date\"].apply(lambda x: x.astimezone(pytz.timezone(\"America/Sao_Paulo\")))\n",
    "df.head()"
   ]
  },
  {
   "cell_type": "code",
   "execution_count": null,
   "metadata": {},
   "outputs": [],
   "source": [
    "df.isnull().sum()\n",
    "df.dropna(how='any', inplace=True)\n",
    "df.isnull().sum()"
   ]
  },
  {
   "cell_type": "code",
   "execution_count": null,
   "metadata": {},
   "outputs": [],
   "source": [
    "# criando a função\n",
    "def extrair_email(string_email):\n",
    "    email = re.findall(r'<(.+?)>', string_email)\n",
    "    if email:\n",
    "        return email[0]\n",
    "    else:\n",
    "        return string_email"
   ]
  },
  {
   "cell_type": "code",
   "execution_count": null,
   "metadata": {},
   "outputs": [],
   "source": [
    "df['to'] = df['to'].apply(extrair_email)\n",
    "df['from'] = df['from'].apply(extrair_email)\n",
    "df.head()"
   ]
  },
  {
   "cell_type": "code",
   "execution_count": null,
   "metadata": {},
   "outputs": [],
   "source": [
    "def extrair_label(string_labels):\n",
    "    return string_labels.replace(\"=?UTF-8?Q?\", \"\").split(\",\")[0]\n",
    "\n",
    "df[\"labels\"] = df[\"labels\"].apply(extrair_label)"
   ]
  },
  {
   "cell_type": "code",
   "execution_count": null,
   "metadata": {},
   "outputs": [],
   "source": [
    "df[df[\"labels\"] == \"Caixa_de_entrada\"][\"from\"].value_counts()[0:5]"
   ]
  },
  {
   "cell_type": "code",
   "execution_count": null,
   "metadata": {},
   "outputs": [],
   "source": [
    "df[\"weekday\"] = df[\"date\"].dt.weekday\n",
    "dias_semana = {0:\"Segunda\", 1:\"Terça\", 2:\"Quarta\",3:\"Quinta\", 4:\"Sexta\", 5:\"Sábado\", 6:\"Domingo\"}\n",
    "df[\"weekday\"] = df[\"weekday\"].replace(dias_semana)\n",
    "df.head()"
   ]
  },
  {
   "cell_type": "code",
   "execution_count": null,
   "metadata": {},
   "outputs": [],
   "source": [
    "sns.countplot(df[\"weekday\"], order=[\"Segunda\", \"Terça\", \"Quarta\", \"Quinta\", \"Sexta\", \"Sábado\", \"Domingo\"]);"
   ]
  },
  {
   "cell_type": "code",
   "execution_count": null,
   "metadata": {},
   "outputs": [],
   "source": [
    "df[\"hora\"] = df[\"date\"].dt.hour\n",
    "df.head()"
   ]
  },
  {
   "cell_type": "code",
   "execution_count": null,
   "metadata": {},
   "outputs": [],
   "source": [
    "sns.countplot(df[\"hora\"]);"
   ]
  },
  {
   "cell_type": "code",
   "execution_count": null,
   "metadata": {},
   "outputs": [],
   "source": [
    "df['date'] = df['date'].apply(lambda a: pd.to_datetime(a).date())"
   ]
  },
  {
   "cell_type": "code",
   "execution_count": null,
   "metadata": {},
   "outputs": [],
   "source": [
    "df.to_excel(\"meu_gmail.xlsx\", index=False)"
   ]
  }
 ],
 "metadata": {
  "kernelspec": {
   "display_name": "Python 3",
   "language": "python",
   "name": "python3"
  },
  "language_info": {
   "codemirror_mode": {
    "name": "ipython",
    "version": 3
   },
   "file_extension": ".py",
   "mimetype": "text/x-python",
   "name": "python",
   "nbconvert_exporter": "python",
   "pygments_lexer": "ipython3",
   "version": "3.11.5"
  },
  "orig_nbformat": 4
 },
 "nbformat": 4,
 "nbformat_minor": 2
}
