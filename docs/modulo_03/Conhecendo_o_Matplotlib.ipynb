{
  "cells": [
    {
      "cell_type": "markdown",
      "metadata": {
        "id": "tON3t7VCqEiz"
      },
      "source": [
        "<img alt=\"Colaboratory logo\" width=\"15%\" src=\"https://raw.githubusercontent.com/carlosfab/escola-data-science/master/img/novo_logo_bg_claro.png\">\n",
        "\n",
        "#### **Python do Zero**\n",
        "*by [sigmoidal.ai](https://sigmoidal.ai)*\n",
        "\n",
        "---\n",
        "\n",
        "# Conhecendo o Matplotlib\n",
        "\n",
        "<center><img src=\"https://matplotlib.org/_static/logo2_compressed.svg\" width=\"40%\"></center>\n",
        "\n",
        "Muitos usam, poucos entendem. Matplotlib é a principal biblioteca para visualização do Python. Construída em cima de *arrays* do `numpy` e concebida para integrar com as principais ferramentes de *Data Science*, Matplotlib foi criada em 2002 pelo John Hunter.\n",
        "\n",
        "John era um neurobiologista que analisava sinais de eletrocorticografia, juntamente com um time de pesquisadores. Como eles usavam um *software* proprietário e tinham apenas uma licença, o pesquisador criou o Matplotlib para suprir essa necessidade original, insipirando-se na interface scriptada que o MATLAB proporcionava.\n",
        "\n",
        "Quando eu disse na primeira linha que muitas pessoas usam a biblioteca, mas poucas de fato a entendem, eu quis dizer que  elas desconhecem a maneira como a arquitetura do `matplotlib` foi pensada."
      ]
    },
    {
      "cell_type": "markdown",
      "metadata": {
        "id": "9sd6dRChqwA2"
      },
      "source": [
        "## Arquitetura do Matplotlib\n",
        "\n",
        "Basicamente, a arquitetura do `matplotlib` é composta de 3 camadas:\n",
        "\n",
        "1. ***Scripting Layer***\n",
        "2. ***Artist Layer***\n",
        "3. ***Backend Layer***\n",
        "\n",
        "Para entender como o pacote funciona, é preciso entender que a arquitetura do Matplotlib foi feita para permitir aos seus usuários criarem, renderizarem e atualizarem objetos do tipo `Figure`. Essas *Figuras* são exibidas na tela e interagem com eventos como os *inputs* do teclado e mouse. Esse tipo de interação é realizada na camada ***backend***.\n",
        "\n",
        "O Matplotlib permite que você crie um gráfico composto por múltiplos objetos diferentes. É como se ele não gerasse uma coisa única, mas uma imagem que é composta de vários pedaços isolados, como o eixo-y, eixo-y, título, legendas, entre outras. A capacidade de alterar todos múltiplos objetos é proporcionada pela camada ***artist***. Olhe o código abaixo e veja como estamos lidandos com esses \"múltiplos objetos\". Plotamos os dados no plano cartesiano, criamos um título e demos *labels* aos eixos x e y."
      ]
    },
    {
      "cell_type": "code",
      "execution_count": null,
      "metadata": {
        "id": "suwR47btp2kT"
      },
      "outputs": [],
      "source": [
        "# importar pacotes\n",
        "import numpy as np\n",
        "import matplotlib.pyplot as plt"
      ]
    },
    {
      "cell_type": "code",
      "execution_count": null,
      "metadata": {
        "colab": {
          "base_uri": "https://localhost:8080/",
          "height": 295
        },
        "id": "qaVhuckXq3Ok",
        "outputId": "f002ad5d-71ba-4f2d-ba2f-7c213b4e33c3"
      },
      "outputs": [],
      "source": [
        "# gerar valores demonstrativos\n",
        "np.random.seed(42)\n",
        "x = np.arange(10)\n",
        "y = np.random.normal(size=10)\n",
        "\n",
        "# plotar os valores\n",
        "plt.plot(x, y)\n",
        "\n",
        "# para definir o título do plot, utilize plot.title('Nome do Plot')\n",
        "plt.title(\"Exemplo de Título\")\n",
        "\n",
        "# também é possível nomear os eixos, utilizando xlabel e ylabel\n",
        "plt.xlabel(\"Eixo x\")\n",
        "plt.ylabel(\"Eixo y\")\n",
        "\n",
        "# mostando o plot\n",
        "plt.show()"
      ]
    },
    {
      "cell_type": "markdown",
      "metadata": {
        "id": "NxewMzlOrxQL"
      },
      "source": [
        "Para você, usuário, conseguir se comunicar com essas duas camadas, e manipular as `Figures`, existe uma terceira camada, a camada ***scripting***. Ela abstrai em um nível mais alto todo contato com o Matplotlib, e permite que de maneira simples e direta possamos criar nossos *plots*.\n",
        "\n",
        "<center><img src=\"https://raw.githubusercontent.com/carlosfab/curso_data_science_na_pratica/master/modulo_03/matplotlib_arquitetura.jpg\" width=\"400px\"></center>\n",
        "\n",
        "Quero pedir a você para [ler este artigo](https://realpython.com/python-matplotlib-guide/) do *blog* ***Real Python***. É um dos melhores aritogs sobre matplotlib que já tive contato, e vai explicar vários conceitos da ferramenta. Você não precisa saber os detalhes da arquitetura do `matplotlib`, mas precisa ter uma ideia geral sobre seu funcionamento. Caso queira se aprofundar mais ainda, recomendo o livro [*Mastering matplotlib*](https://learning.oreilly.com/library/view/mastering-matplotlib/9781783987542/)."
      ]
    },
    {
      "cell_type": "markdown",
      "metadata": {
        "id": "eQNNs-KhsM0p"
      },
      "source": [
        "## Abordagem Interface Pyplot\n",
        "\n",
        "Como vimos anteriormente, existe grande complexidade por trás dessa biblioteca, e podemos usar esses artifícios e navegar pelo mais baixo nível, ou simplificar o código e utilizara parte mais alto nível da biblioteca. Na abordagem orientada a objetos nós precisamos criar explicitamente figuras e *axes*, mas há uma outra abordagem que delega toda a responsabilidade de se criar e gerenciar as mesmas.\n",
        "\n",
        "Para isso, você vai usar as funções do `pyplot` para plotar. Veja como usar esse *pyplot-style*."
      ]
    },
    {
      "cell_type": "code",
      "execution_count": null,
      "metadata": {
        "colab": {
          "base_uri": "https://localhost:8080/",
          "height": 265
        },
        "id": "KwKYNZtUrtnW",
        "outputId": "c38af742-085b-4c2c-a8bb-b7488e50fd8e"
      },
      "outputs": [],
      "source": [
        "# criando números a serem plotados\n",
        "x = np.arange(10)\n",
        "\n",
        "# plotando gráfico de linhas\n",
        "plt.plot(x, x);"
      ]
    },
    {
      "cell_type": "markdown",
      "metadata": {
        "id": "ldlewd1dsqnf"
      },
      "source": [
        "Se eu quiser adicionar um título ao gráfico, posso fazer diretamente, seguindo a mesma abordagem:"
      ]
    },
    {
      "cell_type": "code",
      "execution_count": null,
      "metadata": {
        "colab": {
          "base_uri": "https://localhost:8080/",
          "height": 295
        },
        "id": "5AflijvIslUZ",
        "outputId": "e8c4e9ca-ba5c-47b5-e1a5-194bdd9e8d0c"
      },
      "outputs": [],
      "source": [
        "# criando o plot\n",
        "plt.plot(x, x)\n",
        "\n",
        "# definindo o título\n",
        "plt.title(\"Linear\")\n",
        "\n",
        "# definindo os título para os eixos\n",
        "plt.xlabel(\"Eixo x\")\n",
        "plt.ylabel(\"Eixo y\")\n",
        "\n",
        "# mostrando o plot\n",
        "plt.show()"
      ]
    },
    {
      "cell_type": "markdown",
      "metadata": {
        "id": "aebmcVXCtHky"
      },
      "source": [
        "De maneira similar, se eu quiser ir acrescentando objetos ao `Axes`, eu vou apenas adicionando novas funções sequencialmente:\n"
      ]
    },
    {
      "cell_type": "code",
      "execution_count": null,
      "metadata": {
        "colab": {
          "base_uri": "https://localhost:8080/",
          "height": 295
        },
        "id": "Z5gxPXDis60s",
        "outputId": "384bfab0-16cd-4690-c56d-966cabb1d318"
      },
      "outputs": [],
      "source": [
        "# criando o plot\n",
        "plt.plot(x, x, label=\"Linear\")\n",
        "\n",
        "# adicionando ao plot\n",
        "plt.plot(x, x**2, label=\"Quadrado\")\n",
        "\n",
        "# definindo títulos\n",
        "plt.title(\"Abordagem Pyplot\")\n",
        "plt.ylabel(\"Valores de y\")\n",
        "plt.xlabel(\"Valores de x\")\n",
        "\n",
        "# plotando a legenda\n",
        "plt.legend()\n",
        "\n",
        "# mostrando o plot\n",
        "plt.show()"
      ]
    },
    {
      "cell_type": "markdown",
      "metadata": {
        "id": "AXGi_m2tuLlb"
      },
      "source": [
        "> Com o `pyplot`, funções simples são usadas para adicionar elementos de *plot* (linhas, imagens, textos, entre outras) ao **`Axes` atual, pertencente à `Figure` atual**.\n",
        "\n",
        "## **Qual abordagem você deve usar?**\n",
        "\n",
        "A documentação oficial considera as duas abordagens, Pyplot e Orientada a Objetos, igualmente poderosas. Você deve se sentir livre para adotar qualquer uma, porém deve buscar não ficar misturando as abordagens.\n",
        "\n",
        "Sugere ainda a documentação, que o uso do pyplot pode ser restrito aos plot interativos (como o caso do Jupyter notebook) e a abordagem Orientada a Objeto como preferencial para plots não-interativos (funcões e scripts utilizados em um projeto maior, por exemplo)."
      ]
    },
    {
      "cell_type": "code",
      "execution_count": null,
      "metadata": {
        "id": "9xN35iVYuDBm"
      },
      "outputs": [],
      "source": []
    }
  ],
  "metadata": {
    "colab": {
      "provenance": []
    },
    "kernelspec": {
      "display_name": "Python 3",
      "name": "python3"
    },
    "language_info": {
      "codemirror_mode": {
        "name": "ipython",
        "version": 3
      },
      "file_extension": ".py",
      "mimetype": "text/x-python",
      "name": "python",
      "nbconvert_exporter": "python",
      "pygments_lexer": "ipython3",
      "version": "3.11.0"
    }
  },
  "nbformat": 4,
  "nbformat_minor": 0
}
