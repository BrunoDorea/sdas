{
  "cells": [
    {
      "cell_type": "markdown",
      "metadata": {
        "id": "eqaHl5qB8UEv"
      },
      "source": [
        "<img alt=\"Colaboratory logo\" width=\"15%\" src=\"https://raw.githubusercontent.com/carlosfab/escola-data-science/master/img/novo_logo_bg_claro.png\">\n",
        "\n",
        "#### **Python do Zero**\n",
        "*by [sigmoidal.ai](https://sigmoidal.ai)*\n",
        "\n",
        "---\n",
        "\n",
        "# Gráfico de Dispersão (*Scatter Plot*)\n",
        "\n",
        "O gráfico de dispersão (*scatter plot*) é um gráfico bi-dimensional para visualização de dados que usa pontos para representar o valor entre duas variáveis diferentes.\n",
        "\n",
        "Uma das variáveis corresponde ao valor $x$ e a outra variável corresponde ao valor $y$.\n",
        "\n",
        "Esse tipo de gráfico é ideal quando você quer mostrar a relação entre duas variáveis, e dá ótimos indícios sobre a correlação existente entre elas.\n",
        "\n",
        "\n",
        "<center><img src=\"https://www.data-to-viz.com/graph/scatter_files/figure-html/unnamed-chunk-1-1.png\" height=\"300px\"></center>\n",
        "\n",
        "Vale ressaltar que nem todas as relações são lineares. Muitas delas seguem outros tipos de padrões não-lineares ou não seguem nenhum  tipo de padrão aparente."
      ]
    },
    {
      "cell_type": "markdown",
      "metadata": {
        "id": "J0QF1_fX8awC"
      },
      "source": [
        "## Plotar o *Scatter Plot*\n",
        "\n",
        "Agora que já sabemos o que é um Scatter plot, vamos plotar um e ver na prática como ele pode nos ajudar."
      ]
    },
    {
      "cell_type": "code",
      "execution_count": null,
      "metadata": {
        "colab": {
          "base_uri": "https://localhost:8080/",
          "height": 224
        },
        "id": "nnQSbRtY8KnT",
        "outputId": "7fb635f9-578c-4307-ca5b-c8b90740b0f6"
      },
      "outputs": [],
      "source": [
        "# importar os pacotes necessários\n",
        "import pandas as pd\n",
        "import matplotlib.pyplot as plt\n",
        "\n",
        "# importar o dataset\n",
        "df = pd.read_csv(\"https://raw.githubusercontent.com/carlosfab/dsnp2/master/datasets/housing.csv\")\n",
        "\n",
        "# ver as primeiras entradas\n",
        "df.head()"
      ]
    },
    {
      "cell_type": "code",
      "execution_count": null,
      "metadata": {
        "colab": {
          "base_uri": "https://localhost:8080/",
          "height": 280
        },
        "id": "wnJg5bfp8hro",
        "outputId": "2eda69c6-7986-47b6-a763-4a4cb619442d"
      },
      "outputs": [],
      "source": [
        "# plotar median_income vs. median_house_value\n",
        "df.plot.scatter(x='median_income', y='median_house_value', s=0.1)\n",
        "\n",
        "plt.show()"
      ]
    },
    {
      "cell_type": "code",
      "execution_count": null,
      "metadata": {
        "id": "w50-KRSi8rKD"
      },
      "outputs": [],
      "source": []
    }
  ],
  "metadata": {
    "colab": {
      "provenance": []
    },
    "kernelspec": {
      "display_name": "Python 3",
      "name": "python3"
    }
  },
  "nbformat": 4,
  "nbformat_minor": 0
}
