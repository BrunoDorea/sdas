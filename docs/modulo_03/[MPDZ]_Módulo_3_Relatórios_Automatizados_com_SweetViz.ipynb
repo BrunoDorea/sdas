{
  "cells": [
    {
      "cell_type": "markdown",
      "metadata": {
        "id": "e0n61gLCNKY6"
      },
      "source": [
        "<img alt=\"Colaboratory logo\" width=\"15%\" src=\"https://raw.githubusercontent.com/carlosfab/escola-data-science/master/img/novo_logo_bg_claro.png\">\n",
        "\n",
        "#### **Missão Python do Zero**\n",
        "*by [sigmoidal.ai](https://sigmoidal.ai)*\n",
        "\n",
        "---\n",
        "\n",
        "# SweetViz\n",
        "\n",
        "<center><img width=\"45%\" src=\"https://miro.medium.com/max/700/1*jx_ShECen95-F_M5PH9HCA.png\"></center>\n",
        "\n",
        "\n",
        "A análise exploratória é fase essencial em qualquer projeto com dados. Entender bem nossos dados vai nos dar insights valiosos e direcionar nosso trabalho com eles.\n",
        "\n",
        "Apesar de demandar muito tempo e atenção, existem ferramentas que podem nos auxiliar e agilizar nosso trabalho. Uma delas é o [Sweet Viz](https://pypi.org/project/sweetviz/).\n",
        "\n",
        "Essa biblioteca é capaz de analisar e criar relatórios sobre nossos dados de forma automatizada, exigindo pouquíssimo código, reduzindo a curva de aprendizado para análises completas, economizando tempo, e nos dando belas visualizações, fáceis de navegar e entender."
      ]
    },
    {
      "cell_type": "markdown",
      "metadata": {
        "id": "_xA12Xb2Q3ui"
      },
      "source": [
        "## Instalando o Sweet Viz\n",
        "\n",
        "Por padrão, o Colab não possui essa biblioteca instalada. Portanto, precisamos fazer a instalação manualmente."
      ]
    },
    {
      "cell_type": "code",
      "execution_count": null,
      "metadata": {
        "colab": {
          "base_uri": "https://localhost:8080/",
          "height": 52
        },
        "id": "EYZ61_ibFG3w",
        "outputId": "e6e5f171-57d3-4297-a0eb-67fa932bb947"
      },
      "outputs": [],
      "source": [
        "# instalando a biblioteca\n",
        "%pip install sweetviz -q"
      ]
    },
    {
      "cell_type": "markdown",
      "metadata": {
        "id": "NOGsZlX7RAh_"
      },
      "source": [
        "Uma vez instalado, é só importar e começar a usar!"
      ]
    },
    {
      "cell_type": "markdown",
      "metadata": {
        "id": "gxercln9RD3J"
      },
      "source": [
        "## Carregando os Dados\n",
        "\n",
        "Agora que estamos com tudo pronto, é hora de importar os pacotes e iniciar nossa análise de dados.\n",
        "\n",
        "Para esse notebook, vamos utilizar um conjunto de dados proveniente de um e-commerce brasileiro. Os dados estão disponíveis no [Kaggle](https://www.kaggle.com/olistbr/brazilian-ecommerce).\n",
        "\n",
        "Originalmente, os dados estão em formato csv, mas organizamos eles em formato de planilha, para emular a realidade da maioria que utiliza planilhas de excel. Os dados organizados podem ser utilizados diretamente pelo link abaixo, e os originais, e mais informações sobre os dados podem ser encontrados [aqui](https://www.kaggle.com/olistbr/brazilian-ecommerce?select=olist_products_dataset.csv).\n",
        "\n",
        "Vamos utilizar o `pandas` para carregar os dados da mesma forma que vínhamos fazendo anteriormente."
      ]
    },
    {
      "cell_type": "code",
      "execution_count": null,
      "metadata": {
        "id": "ShdwkVFqFEjw"
      },
      "outputs": [],
      "source": [
        "# importando os pacotes necessários\n",
        "import sweetviz\n",
        "import pandas as pd"
      ]
    },
    {
      "cell_type": "code",
      "execution_count": null,
      "metadata": {
        "id": "-uHGphODFGdm"
      },
      "outputs": [],
      "source": [
        "# carregando os dados\n",
        "dados = pd.read_excel(\"https://www.dropbox.com/s/6zogl04a1h1sb3d/dados_ecommerce.xlsx?dl=1\", sheet_name=None,)"
      ]
    },
    {
      "cell_type": "markdown",
      "metadata": {
        "id": "p-GfWyIXTSyc"
      },
      "source": [
        "Uma vez carregados, da mesma forma que fizemos anteriormente, precisamos selecionar a aba que iremos trabalhar.\n",
        "\n",
        "O formato em que eles são recebidos não é \"amigável\", e não facilita nosso trabalho. Veja abaixo:"
      ]
    },
    {
      "cell_type": "code",
      "execution_count": null,
      "metadata": {
        "colab": {
          "base_uri": "https://localhost:8080/",
          "height": 743
        },
        "id": "URPl4wQmGcce",
        "outputId": "a991200d-8de6-4aa0-8603-1b5e12f47146"
      },
      "outputs": [],
      "source": [
        "# verificando os dados\n",
        "dados"
      ]
    },
    {
      "cell_type": "markdown",
      "metadata": {
        "id": "3juK0NCIUPEs"
      },
      "source": [
        "Aqui estamos lidando com um dicionário, onde cada aba representa uma chave, com seu conteúdo como valores. Para visualizarmos as abas disponíveis, basta usar o comando `.keys()`."
      ]
    },
    {
      "cell_type": "code",
      "execution_count": null,
      "metadata": {
        "colab": {
          "base_uri": "https://localhost:8080/",
          "height": 35
        },
        "id": "cZsogbiAG2V1",
        "outputId": "77b74b9d-54f7-4234-a77b-4d4d21e7b006"
      },
      "outputs": [],
      "source": [
        "# verificando as abas existentes\n",
        "dados.keys()"
      ]
    },
    {
      "cell_type": "markdown",
      "metadata": {
        "id": "ZsMZi5J3Ufs8"
      },
      "source": [
        "Vamos trabalhar com a aba clientes. Para selecionar uma aba, basta utilizar o código abaixo, com o nome da aba desejada entre aspas (simples ou duplas), dentro de colchetes."
      ]
    },
    {
      "cell_type": "code",
      "execution_count": null,
      "metadata": {
        "colab": {
          "base_uri": "https://localhost:8080/",
          "height": 198
        },
        "id": "UQw-5KMyHXl3",
        "outputId": "e3e83d02-6a2b-446d-b7e0-a12c743a3de5"
      },
      "outputs": [],
      "source": [
        "# selecionando a aba\n",
        "dados['Clientes'].head()"
      ]
    },
    {
      "cell_type": "markdown",
      "metadata": {
        "id": "svxl1AkLUuJD"
      },
      "source": [
        "### Criando um Relatório com SweetViz\n",
        "\n",
        "Com os dados a serem analisados carregados e prontos para uso, é hora de utilizarmos todo o poder do **SweetViz** a nossa favor.\n",
        "\n",
        "Para criar um relatório, vamos criar uma variável, e associar a ela o resultado da função `analyze()`, que leva como parâmetro o conjunto de dados a ser analisados."
      ]
    },
    {
      "cell_type": "code",
      "execution_count": null,
      "metadata": {
        "colab": {
          "base_uri": "https://localhost:8080/",
          "height": 69
        },
        "id": "3bj5EfAfHZXy",
        "outputId": "d9a737a3-2a2f-4658-ba2b-b35ddb3ea89b"
      },
      "outputs": [],
      "source": [
        "# criando o relatório\n",
        "relatorio_clientes = sweetviz.analyze(dados['Clientes'])"
      ]
    },
    {
      "cell_type": "markdown",
      "metadata": {
        "id": "S_O17mjKVYCL"
      },
      "source": [
        "Uma vez criado, é hora de visualizar o nosso relatório, utilizando o comando `show.html()`, passando como parâmetro o nome do arquivo html a ser criado para o relatório.\n",
        "\n",
        "Esse arquivo será salvo na nossa pasta de arquivos do Colab, no menu à esquerda, onde pode ser feito o download do mesmo para uso posterior, fora do Colab, sem a necessidade de rodar todo esse notebook novamente.\n",
        "\n",
        "**Para visualizar o relatório, baixe o arquivo hmtl gerado através da aba à esquerda. Após o download, abra o arquivo. Ele irá abrir uma janela em seu browser, com o relatório.**"
      ]
    },
    {
      "cell_type": "code",
      "execution_count": null,
      "metadata": {
        "colab": {
          "base_uri": "https://localhost:8080/",
          "height": 55
        },
        "id": "fH6782o_Hkch",
        "outputId": "2cf8c521-4637-4fbc-98ff-525bb86ef1cd"
      },
      "outputs": [],
      "source": [
        "# criando o arquivo html e mostrando o relatório\n",
        "relatorio_clientes.show_html(\"clientes.html\")"
      ]
    },
    {
      "cell_type": "markdown",
      "metadata": {
        "id": "lhNy2MBpWk4V"
      },
      "source": [
        "Pronto! Agora que já sabemos o caminho, podemos criar análises como essas para cada uma das abas do nosso projeto.\n",
        "\n",
        "Vamos ver como ficaria o relatório para a aba Pagamentos."
      ]
    },
    {
      "cell_type": "code",
      "execution_count": null,
      "metadata": {
        "colab": {
          "base_uri": "https://localhost:8080/",
          "height": 69
        },
        "id": "Ry_cMXBdHqYg",
        "outputId": "c5adf2c9-d785-4eb8-b09f-b4a5bd586d4b"
      },
      "outputs": [],
      "source": [
        "# criando relatório para a aba pagamentos\n",
        "relatorio_pagamentos = sweetviz.analyze(dados['Pagamentos'])"
      ]
    },
    {
      "cell_type": "code",
      "execution_count": null,
      "metadata": {
        "colab": {
          "base_uri": "https://localhost:8080/",
          "height": 55
        },
        "id": "dI67tQVIJ8fW",
        "outputId": "c14714ca-a34f-4366-f4ce-2a6bec4ab778"
      },
      "outputs": [],
      "source": [
        "# criando html e visualizando o relatório da aba pagamentos\n",
        "relatorio_pagamentos.show_html(\"pagamentos.html\")"
      ]
    },
    {
      "cell_type": "code",
      "execution_count": null,
      "metadata": {
        "id": "uBsqiZa_KBwI"
      },
      "outputs": [],
      "source": []
    }
  ],
  "metadata": {
    "colab": {
      "provenance": [],
      "toc_visible": true
    },
    "kernelspec": {
      "display_name": "Python 3",
      "name": "python3"
    },
    "language_info": {
      "codemirror_mode": {
        "name": "ipython",
        "version": 3
      },
      "file_extension": ".py",
      "mimetype": "text/x-python",
      "name": "python",
      "nbconvert_exporter": "python",
      "pygments_lexer": "ipython3",
      "version": "3.11.5"
    }
  },
  "nbformat": 4,
  "nbformat_minor": 0
}
