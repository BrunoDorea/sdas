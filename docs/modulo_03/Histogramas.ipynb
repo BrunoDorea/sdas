{
  "cells": [
    {
      "cell_type": "markdown",
      "metadata": {
        "id": "pjDrK_LHu2oh"
      },
      "source": [
        "<img alt=\"Colaboratory logo\" width=\"15%\" src=\"https://raw.githubusercontent.com/carlosfab/escola-data-science/master/img/novo_logo_bg_claro.png\">\n",
        "\n",
        "#### **Python do Zero**\n",
        "*by [sigmoidal.ai](https://sigmoidal.ai)*\n",
        "\n",
        "---\n",
        "\n",
        "# Histograma\n",
        "\n",
        "O histograma também é conhecido como sendo um gráfico de distribuição de frequências. Representando essas frequências em formato de barras, a altura de cada barra pode representar tanto a quantidade ou frequência que cada classe de valores ocorre no *dataset*.\n",
        "\n",
        "Um histograma de valores absolutos, tem no eixo y a quantidade absoluta de ocorrências dos valores de cada classe:\n",
        "\n",
        "<center><img src=\"https://raw.githubusercontent.com/carlosfab/curso_data_science_na_pratica/master/modulo_03/histograma_absoluto.png\"width=\"450px\"></center>\n",
        "\n",
        "Já um histograma de dados de proporção, conhecido como histograma de área de unidade, exibe a proporção que cada classe representa no todo:\n",
        "\n",
        "<center><img src=\"https://raw.githubusercontent.com/carlosfab/curso_data_science_na_pratica/master/modulo_03/histograma_proporcao.png\"width=\"450px\"></center>\n",
        "\n",
        "\n",
        "Os histogramas fornecem muitas informações ao cientista de dados, pois mostra visualmente a distribuição dos dados relativos a uma determinada variável. Além disso, permite obter informações sobre a centralidade, amplitude e simetria da mesma.\n",
        "\n",
        "Recomendo assistir a [este vídeo](https://pt.khanacademy.org/math/ap-statistics/quantitative-data-ap/histograms-stem-leaf/v/histograms-intro) ensinando a criar e interpretar um histograma."
      ]
    },
    {
      "cell_type": "markdown",
      "metadata": {
        "id": "wTMDGEXDu_eq"
      },
      "source": [
        "## Plotar o histograma\n",
        "\n",
        "Para exemplificar o gráfico de linhas, vou usar um *dataset* apresentado na primeira aula. Coloque o arquivo `controle_da_empresa.xlsx` na raiz do seu Google Drive para replicar o código."
      ]
    },
    {
      "cell_type": "code",
      "execution_count": null,
      "metadata": {
        "colab": {
          "base_uri": "https://localhost:8080/",
          "height": 221
        },
        "id": "t4C02dGduzxT",
        "outputId": "8599ac32-d3f5-4d30-9962-d392b5cc115b"
      },
      "outputs": [],
      "source": [
        "# importar bibliotecas\n",
        "import pandas as pd\n",
        "import matplotlib.pyplot as plt\n",
        "from google.colab import drive\n",
        "\n",
        "# montando o drive\n",
        "drive.mount('/content/gdrive')\n",
        "\n",
        "\n",
        "# importar planilha do Excel\n",
        "planilha = pd.read_excel(\"/content/gdrive/My Drive/controle_da_empresa.xlsx\", None)\n",
        "df = planilha['Vendas']\n",
        "\n",
        "# ver as 5 primeiras entradas\n",
        "df.head()"
      ]
    },
    {
      "cell_type": "code",
      "execution_count": null,
      "metadata": {
        "colab": {
          "base_uri": "https://localhost:8080/",
          "height": 295
        },
        "id": "jEZvTX6vwSSG",
        "outputId": "003776f8-8a45-4929-9cec-bbfae33e0081"
      },
      "outputs": [],
      "source": [
        "plt.hist('Total de Vendas', data=df)\n",
        "plt.title(\"Histograma de Vendas\")\n",
        "plt.ylabel(\"Quantidade de ocorrências\")\n",
        "plt.xlabel(\"Valor da Compra\")\n",
        "plt.show()"
      ]
    },
    {
      "cell_type": "markdown",
      "metadata": {
        "id": "pvwiaFWAyADb"
      },
      "source": [
        "O histograma acima está representando os valores absolutos no eixo y. Para plotar em termos de frequência relativa, acrescenta-se `density=True` dentro da função."
      ]
    },
    {
      "cell_type": "code",
      "execution_count": null,
      "metadata": {
        "colab": {
          "base_uri": "https://localhost:8080/",
          "height": 295
        },
        "id": "7UFwKvKoxIlm",
        "outputId": "167090b7-a018-4747-f4d8-c8d011e5c2ab"
      },
      "outputs": [],
      "source": [
        "plt.hist('Total de Vendas', data=df, density=True)\n",
        "plt.title(\"Histograma de Vendas\")\n",
        "plt.ylabel(\"Quantidade de ocorrências\")\n",
        "plt.xlabel(\"Valor da Compra\")\n",
        "plt.show()"
      ]
    },
    {
      "cell_type": "markdown",
      "metadata": {
        "id": "_KyUIYD6yKB4"
      },
      "source": [
        "A quantidade de barras é definida por padrão, porém não é fixa. Conseguimos alterar a quantidade de `bins` informando dentro do método de maneira explícita."
      ]
    },
    {
      "cell_type": "code",
      "execution_count": null,
      "metadata": {
        "colab": {
          "base_uri": "https://localhost:8080/",
          "height": 295
        },
        "id": "XWF4VE7byF7z",
        "outputId": "9b095b3f-1fa0-4229-bbcd-8d2b683dcb12"
      },
      "outputs": [],
      "source": [
        "plt.hist('Total de Vendas', data=df, bins=5)\n",
        "plt.title(\"Histograma de Vendas\")\n",
        "plt.ylabel(\"Quantidade de ocorrências\")\n",
        "plt.xlabel(\"Valor da Compra\")\n",
        "plt.show()"
      ]
    },
    {
      "cell_type": "code",
      "execution_count": null,
      "metadata": {
        "id": "qjxhPRTdyPgL"
      },
      "outputs": [],
      "source": []
    }
  ],
  "metadata": {
    "colab": {
      "provenance": []
    },
    "kernelspec": {
      "display_name": "Python 3",
      "name": "python3"
    }
  },
  "nbformat": 4,
  "nbformat_minor": 0
}
