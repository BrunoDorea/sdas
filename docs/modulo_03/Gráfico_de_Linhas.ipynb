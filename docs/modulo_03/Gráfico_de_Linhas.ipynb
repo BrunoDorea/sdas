{
  "cells": [
    {
      "cell_type": "markdown",
      "metadata": {
        "id": "IuG24jgt3oLZ"
      },
      "source": [
        "<img alt=\"Colaboratory logo\" width=\"15%\" src=\"https://raw.githubusercontent.com/carlosfab/escola-data-science/master/img/novo_logo_bg_claro.png\">\n",
        "\n",
        "#### **Python do Zero**\n",
        "*by [sigmoidal.ai](https://sigmoidal.ai)*\n",
        "\n",
        "---\n",
        "\n",
        "# Gráfico de Linhas\n",
        "\n",
        "O gráfico de linha é um tipo de gráfico que mostra a informação em forma de um conjunto de pontos (*markers*) conectados por segmentos de linha reta. É um dos tipos básicos de gráficos mais usados na maioria dos problemas\n",
        "\n",
        "<center><img src=\"https://raw.githubusercontent.com/carlosfab/curso_data_science_na_pratica/master/modulo_03/grafico_linha.png\"width=\"400px\"></center>\n",
        "\n",
        "Gráficos de linhas são ideais para mostrar alterações e tendências de dados em intervalos de tempo iguais.\n",
        "\n",
        "Quando se quer observar o comportamento dos dados ao longo do tempo, usa-se o eixo x (horizontal) para representar a ordem cronológica e o eixo y para a variável dependente.\n",
        "\n"
      ]
    },
    {
      "cell_type": "markdown",
      "metadata": {
        "id": "rBltdeKn3u1w"
      },
      "source": [
        "## Plotar o gráfico de linhas\n",
        "\n",
        "Para exemplificar o gráfico de linhas, vou usar um *dataset* contendo o número de casos (mensal) de dengue para a cidade de Campinas-SP.\n",
        "\n",
        "Além do número de casos confirmados de dengue, o *dataset* mostra ainda dados relacionados à chuva, temperaturas média, mínima e máxima do município. O período contemplado pelo conjunto de dados é de 1998 a 2015."
      ]
    },
    {
      "cell_type": "code",
      "execution_count": null,
      "metadata": {
        "id": "zMKyWqT0y7JH"
      },
      "outputs": [],
      "source": [
        "# importar bibliotecas\n",
        "import pandas as pd\n",
        "import matplotlib.pyplot as plt\n",
        "\n",
        "# importar dados para dataframe\n",
        "df = pd.read_csv(\"https://raw.githubusercontent.com/carlosfab/dsnp2/master/datasets/dengue-dataset.csv\")"
      ]
    },
    {
      "cell_type": "code",
      "execution_count": null,
      "metadata": {
        "colab": {
          "base_uri": "https://localhost:8080/",
          "height": 204
        },
        "id": "h14zMOhn0MTf",
        "outputId": "b5edaee7-3251-449a-e8fc-c30d55693097"
      },
      "outputs": [],
      "source": [
        "df.head()"
      ]
    },
    {
      "cell_type": "code",
      "execution_count": null,
      "metadata": {
        "colab": {
          "base_uri": "https://localhost:8080/",
          "height": 204
        },
        "id": "E-MM3rWb3aS2",
        "outputId": "d2326915-0443-49fd-e446-973762f35335"
      },
      "outputs": [],
      "source": [
        "# importar dados para dataframe\n",
        "df = pd.read_csv(\"https://raw.githubusercontent.com/carlosfab/dsnp2/master/datasets/dengue-dataset.csv\")\n",
        "df[\"data\"] = pd.to_datetime(df['data'])\n",
        "\n",
        "# ver as 5 primeiras entradas\n",
        "df.head()"
      ]
    },
    {
      "cell_type": "code",
      "execution_count": null,
      "metadata": {
        "colab": {
          "base_uri": "https://localhost:8080/",
          "height": 295
        },
        "id": "r84pTyFE33yH",
        "outputId": "b14c1f11-2856-4f20-d7c5-efd5f8177252"
      },
      "outputs": [],
      "source": [
        "# criando o plot\n",
        "plt.plot('data', 'casos-confirmados', data=df)\n",
        "\n",
        "# definindo título\n",
        "plt.title(\"Dengue em Campinas\")\n",
        "plt.ylabel(\"Casos Confirmados\")\n",
        "plt.xlabel(\"Data\")\n",
        "\n",
        "# mostrando gráfico\n",
        "plt.show()"
      ]
    },
    {
      "cell_type": "code",
      "execution_count": null,
      "metadata": {
        "id": "LzZR9F0r4kn8"
      },
      "outputs": [],
      "source": []
    }
  ],
  "metadata": {
    "colab": {
      "provenance": []
    },
    "kernelspec": {
      "display_name": "Python 3",
      "name": "python3"
    }
  },
  "nbformat": 4,
  "nbformat_minor": 0
}
