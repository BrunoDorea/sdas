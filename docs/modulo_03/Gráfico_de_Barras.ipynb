{
  "cells": [
    {
      "cell_type": "markdown",
      "metadata": {
        "id": "JfCPXjyMywEk"
      },
      "source": [
        "<img alt=\"Colaboratory logo\" width=\"15%\" src=\"https://raw.githubusercontent.com/carlosfab/escola-data-science/master/img/novo_logo_bg_claro.png\">\n",
        "\n",
        "#### **Python do Zero**\n",
        "*by [sigmoidal.ai](https://sigmoidal.ai)*\n",
        "\n",
        "---\n",
        "\n",
        "# Gráfico de Barras\n",
        "\n",
        "O gráfico de barras é um gráfico composto por barras de formato retangular. O comprimento (ou altura) de cada barra é proporcional ao valor que ela representa. Vale ressaltar que é comum vermos tanto barras desenhadas na vertical quanto na horizontal.\n",
        "\n",
        "<center><img src=\"https://www.kdnuggets.com/wp-content/uploads/how-to-make-a-bar-chart-in-d3-fig12.png\" height=\"200px\"></center>\n",
        "\n",
        "Nenhuma verdade é absoluta, mas o gráfico de barras é bem mais útil quanto tentamos representar dados discretos. Apesar de muita gente confundir ele com o histograma, são conceitos completamente diferentes."
      ]
    },
    {
      "cell_type": "markdown",
      "metadata": {
        "id": "mBisJ1BMy17P"
      },
      "source": [
        "## Plotar o gráfico de barras\n",
        "\n",
        "Os dados que usaremos neste *notebook* são os dados públicos do Metrô de São Paulo.\n",
        "\n",
        "Os *datasets* contendo diversas estatísticas podem ser encontrados no [Portal da Governança Corporativa e Transparência](https://transparencia.metrosp.com.br/). Nesse Portal, você encontra deliberações do Comitê de Auditoria, composição dos conselhos, e informações de todas as áreas do Metrô, podendo acompanhar a gestão financeira, os novos projetos em gestação e o andamento das obras e sua evolução.\n",
        "\n",
        "Apesar de terem sido disponibilizados em formato `csv`, o *dataset* \"Entrada de Passageiros por Estação - Média Dias Úteis - Dezembro/2018\" precisou ser trabalhado e estruturado.\n",
        "\n",
        "Disponibilizei o arquivo já estruturado [neste link](https://raw.githubusercontent.com/carlosfab/dsnp2/master/datasets/entrada_passageiro_linha1.csv)."
      ]
    },
    {
      "cell_type": "code",
      "execution_count": null,
      "metadata": {
        "colab": {
          "base_uri": "https://localhost:8080/",
          "height": 201
        },
        "id": "M8vKMT_Myk7U",
        "outputId": "6146e635-7bda-4e60-c534-530629a90808"
      },
      "outputs": [],
      "source": [
        "# importar bibliotecas\n",
        "import pandas as pd\n",
        "import matplotlib.pyplot as plt\n",
        "\n",
        "# importar dados para dataframe\n",
        "df = pd.read_csv(\"https://raw.githubusercontent.com/carlosfab/dsnp2/master/datasets/entrada_passageiro_linha1.csv\")\n",
        "\n",
        "# ver as 5 primeiras entradas\n",
        "df.head()"
      ]
    },
    {
      "cell_type": "code",
      "execution_count": null,
      "metadata": {
        "colab": {
          "base_uri": "https://localhost:8080/",
          "height": 201
        },
        "id": "hAsaIugFzDzQ",
        "outputId": "0421c061-1fae-4df7-e8e4-691788cefc64"
      },
      "outputs": [],
      "source": [
        "# ver as 5 ultimas entradas\n",
        "df.tail()"
      ]
    },
    {
      "cell_type": "code",
      "execution_count": null,
      "metadata": {
        "id": "oseh5mYwzGvH"
      },
      "outputs": [],
      "source": [
        "# apagar linha TOTAL\n",
        "df.drop(index=23, axis=0, inplace=True)"
      ]
    },
    {
      "cell_type": "code",
      "execution_count": null,
      "metadata": {
        "colab": {
          "base_uri": "https://localhost:8080/",
          "height": 438
        },
        "id": "vNR3PGTZzIBG",
        "outputId": "1e56d8ee-0d34-49e2-d811-37e7994f1c00"
      },
      "outputs": [],
      "source": [
        "df.plot(x=\"Estação\", y=\"Entradas\", kind=\"bar\")\n",
        "\n",
        "plt.title(\"Entrada Média de Passageiros - Linha 1 (Dezembro/2018)\")\n",
        "plt.xlabel(\"Estação\")\n",
        "plt.ylabel(\"Entradas\")\n",
        "\n",
        "plt.show()"
      ]
    },
    {
      "cell_type": "markdown",
      "metadata": {
        "id": "o1f8SPl7zdSm"
      },
      "source": [
        "Em mais um exemplo de gráficos de barra, vou importar o *dataset* da pesquisa feita pelo Data Hackers, sobre a situação atual do Data Science no Brasil.\n",
        "\n",
        "A pesquisa Data Hackers Survey 2019 foi realizada pela comunidade Data Hackers durante o mês de novembro de 2019. Conduzida de forma online, foram feitas 36 perguntas, e o resultado (anonimizado) foi disponibilizado dentro da plataforma Kaggle."
      ]
    },
    {
      "cell_type": "code",
      "execution_count": null,
      "metadata": {
        "colab": {
          "base_uri": "https://localhost:8080/",
          "height": 408
        },
        "id": "XkhMMSIqzSi4",
        "outputId": "6236375e-7765-4846-e090-0f2ae4c100d3"
      },
      "outputs": [],
      "source": [
        "# importar o dataset\n",
        "df2 = pd.read_csv(\"https://www.dropbox.com/s/ttho30qxqe47j43/datahackers-survey-2019-anonymous-responses.csv?dl=1\")\n",
        "\n",
        "# extrair o nome da variável da tupla\n",
        "df2.columns = [eval(col)[1] for col in df2.columns]\n",
        "\n",
        "# ver as 5 primeiras entradas\n",
        "df2.head()"
      ]
    },
    {
      "cell_type": "code",
      "execution_count": null,
      "metadata": {
        "colab": {
          "base_uri": "https://localhost:8080/"
        },
        "id": "irtVH0Ig4LEh",
        "outputId": "46fcff63-7eb9-490d-838a-3adab8efc3c0"
      },
      "outputs": [],
      "source": [
        "df2[\"degreee_level\"]"
      ]
    },
    {
      "cell_type": "code",
      "execution_count": null,
      "metadata": {
        "colab": {
          "base_uri": "https://localhost:8080/",
          "height": 400
        },
        "id": "5wii2rMuzgfW",
        "outputId": "5411b631-c4e4-4781-8f72-f77214f9a70a"
      },
      "outputs": [],
      "source": [
        "# plotar escolaridade\n",
        "df2[\"degreee_level\"].value_counts().plot(kind='bar');"
      ]
    }
  ],
  "metadata": {
    "colab": {
      "provenance": []
    },
    "kernelspec": {
      "display_name": "Python 3",
      "name": "python3"
    },
    "language_info": {
      "codemirror_mode": {
        "name": "ipython",
        "version": 3
      },
      "file_extension": ".py",
      "mimetype": "text/x-python",
      "name": "python",
      "nbconvert_exporter": "python",
      "pygments_lexer": "ipython3",
      "version": "3.11.0"
    }
  },
  "nbformat": 4,
  "nbformat_minor": 0
}
