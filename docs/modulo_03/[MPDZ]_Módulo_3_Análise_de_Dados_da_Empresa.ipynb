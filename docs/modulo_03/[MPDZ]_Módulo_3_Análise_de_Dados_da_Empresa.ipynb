{
  "cells": [
    {
      "cell_type": "markdown",
      "metadata": {
        "id": "Q9X2KkdET-PX"
      },
      "source": [
        "<img alt=\"Colaboratory logo\" width=\"15%\" src=\"https://raw.githubusercontent.com/carlosfab/escola-data-science/master/img/novo_logo_bg_claro.png\">\n",
        "\n",
        "#### **Missão Python do Zero**\n",
        "*by [sigmoidal.ai](https://sigmoidal.ai)*\n",
        "\n",
        "---\n",
        "\n",
        "# Análise de Dados da Empresa\n",
        "\n",
        "Com o conteúdo que temos até aqui, já é possível fazer análises e plotar visualizações informativas...."
      ]
    },
    {
      "cell_type": "code",
      "execution_count": null,
      "metadata": {
        "id": "FDEaGb1_USWI"
      },
      "outputs": [],
      "source": [
        "# importar as bibliotecas necessárias - pandas, matplotlib, google.colab drive\n",
        "\n",
        "# montar o drive\n",
        "\n",
        "# importar a planilha com pandas\n",
        "\n",
        "# associar à variável 'df' a planilha Vendas\n",
        "\n",
        "# visualizar as 5 primeiras entradas\n"
      ]
    },
    {
      "cell_type": "code",
      "execution_count": null,
      "metadata": {
        "colab": {
          "base_uri": "https://localhost:8080/",
          "height": 221
        },
        "id": "oUsN4-TBT4Ya",
        "outputId": "e5863295-cfd8-4beb-8766-58cad0865a7d"
      },
      "outputs": [
        {
          "name": "stdout",
          "output_type": "stream",
          "text": [
            "Mounted at /content/gdrive\n"
          ]
        },
        {
          "data": {
            "text/html": [
              "<div>\n",
              "<style scoped>\n",
              "    .dataframe tbody tr th:only-of-type {\n",
              "        vertical-align: middle;\n",
              "    }\n",
              "\n",
              "    .dataframe tbody tr th {\n",
              "        vertical-align: top;\n",
              "    }\n",
              "\n",
              "    .dataframe thead th {\n",
              "        text-align: right;\n",
              "    }\n",
              "</style>\n",
              "<table border=\"1\" class=\"dataframe\">\n",
              "  <thead>\n",
              "    <tr style=\"text-align: right;\">\n",
              "      <th></th>\n",
              "      <th>Data da Venda</th>\n",
              "      <th>Item</th>\n",
              "      <th>Quantidade</th>\n",
              "      <th>Vendedor</th>\n",
              "      <th>Preço Unitário</th>\n",
              "      <th>Total de Vendas</th>\n",
              "    </tr>\n",
              "  </thead>\n",
              "  <tbody>\n",
              "    <tr>\n",
              "      <th>0</th>\n",
              "      <td>2020-01-02</td>\n",
              "      <td>Lente 50mm f/1.4</td>\n",
              "      <td>2</td>\n",
              "      <td>Carlos</td>\n",
              "      <td>1649</td>\n",
              "      <td>3298</td>\n",
              "    </tr>\n",
              "    <tr>\n",
              "      <th>1</th>\n",
              "      <td>2020-01-02</td>\n",
              "      <td>Filtro ND 5 Stop</td>\n",
              "      <td>2</td>\n",
              "      <td>Raquel</td>\n",
              "      <td>1220</td>\n",
              "      <td>2440</td>\n",
              "    </tr>\n",
              "    <tr>\n",
              "      <th>2</th>\n",
              "      <td>2020-01-03</td>\n",
              "      <td>Filtro ND 5 Stop</td>\n",
              "      <td>2</td>\n",
              "      <td>Raquel</td>\n",
              "      <td>1220</td>\n",
              "      <td>2440</td>\n",
              "    </tr>\n",
              "    <tr>\n",
              "      <th>3</th>\n",
              "      <td>2020-01-03</td>\n",
              "      <td>Lente 16-35mm f/2.8</td>\n",
              "      <td>2</td>\n",
              "      <td>Carlos</td>\n",
              "      <td>8997</td>\n",
              "      <td>17994</td>\n",
              "    </tr>\n",
              "    <tr>\n",
              "      <th>4</th>\n",
              "      <td>2020-01-04</td>\n",
              "      <td>Lente 16-35mm f/2.8</td>\n",
              "      <td>2</td>\n",
              "      <td>Fernanda</td>\n",
              "      <td>8997</td>\n",
              "      <td>17994</td>\n",
              "    </tr>\n",
              "  </tbody>\n",
              "</table>\n",
              "</div>"
            ],
            "text/plain": [
              "  Data da Venda                 Item  ...  Preço Unitário Total de Vendas\n",
              "0    2020-01-02     Lente 50mm f/1.4  ...            1649            3298\n",
              "1    2020-01-02     Filtro ND 5 Stop  ...            1220            2440\n",
              "2    2020-01-03     Filtro ND 5 Stop  ...            1220            2440\n",
              "3    2020-01-03  Lente 16-35mm f/2.8  ...            8997           17994\n",
              "4    2020-01-04  Lente 16-35mm f/2.8  ...            8997           17994\n",
              "\n",
              "[5 rows x 6 columns]"
            ]
          },
          "execution_count": 1,
          "metadata": {
            "tags": []
          },
          "output_type": "execute_result"
        }
      ],
      "source": [
        "#@title Solução\n",
        "# importar bibliotecas\n",
        "import pandas as pd\n",
        "import matplotlib.pyplot as plt\n",
        "from google.colab import drive\n",
        "\n",
        "# montando o drive\n",
        "drive.mount('/content/gdrive')\n",
        "\n",
        "\n",
        "# importar planilha do Excel\n",
        "planilha = pd.read_excel(\"/content/gdrive/My Drive/controle_da_empresa.xlsx\", None)\n",
        "df = planilha['Vendas']\n",
        "\n",
        "# ver as 5 primeiras entradas\n",
        "df.head()\n"
      ]
    },
    {
      "cell_type": "code",
      "execution_count": null,
      "metadata": {
        "id": "yhKDzNFhUtEH"
      },
      "outputs": [],
      "source": [
        "# plotar um histograma do total de vendas\n",
        "\n"
      ]
    },
    {
      "cell_type": "code",
      "execution_count": 1,
      "metadata": {
        "cellView": "form",
        "id": "9NJkN5Lfc1Do"
      },
      "outputs": [
        {
          "ename": "NameError",
          "evalue": "name 'plt' is not defined",
          "output_type": "error",
          "traceback": [
            "\u001b[1;31m---------------------------------------------------------------------------\u001b[0m",
            "\u001b[1;31mNameError\u001b[0m                                 Traceback (most recent call last)",
            "\u001b[1;32mc:\\Github\\sigmoidal-bootcamp-python\\docs\\modulo_03\\[MPDZ]_Módulo_3_Análise_de_Dados_da_Empresa.ipynb Célula 5\u001b[0m line \u001b[0;36m2\n\u001b[0;32m      <a href='vscode-notebook-cell:/c%3A/Github/sigmoidal-bootcamp-python/docs/modulo_03/%5BMPDZ%5D_M%C3%B3dulo_3_An%C3%A1lise_de_Dados_da_Empresa.ipynb#W4sZmlsZQ%3D%3D?line=0'>1</a>\u001b[0m \u001b[39m#@title Solução\u001b[39;00m\n\u001b[1;32m----> <a href='vscode-notebook-cell:/c%3A/Github/sigmoidal-bootcamp-python/docs/modulo_03/%5BMPDZ%5D_M%C3%B3dulo_3_An%C3%A1lise_de_Dados_da_Empresa.ipynb#W4sZmlsZQ%3D%3D?line=1'>2</a>\u001b[0m plt\u001b[39m.\u001b[39mhist(\u001b[39m'\u001b[39m\u001b[39mTotal de Vendas\u001b[39m\u001b[39m'\u001b[39m, data\u001b[39m=\u001b[39mdf)\n\u001b[0;32m      <a href='vscode-notebook-cell:/c%3A/Github/sigmoidal-bootcamp-python/docs/modulo_03/%5BMPDZ%5D_M%C3%B3dulo_3_An%C3%A1lise_de_Dados_da_Empresa.ipynb#W4sZmlsZQ%3D%3D?line=2'>3</a>\u001b[0m plt\u001b[39m.\u001b[39mtitle(\u001b[39m\"\u001b[39m\u001b[39mHistograma de Vendas\u001b[39m\u001b[39m\"\u001b[39m)\n\u001b[0;32m      <a href='vscode-notebook-cell:/c%3A/Github/sigmoidal-bootcamp-python/docs/modulo_03/%5BMPDZ%5D_M%C3%B3dulo_3_An%C3%A1lise_de_Dados_da_Empresa.ipynb#W4sZmlsZQ%3D%3D?line=3'>4</a>\u001b[0m plt\u001b[39m.\u001b[39mylabel(\u001b[39m\"\u001b[39m\u001b[39mQuantidade de ocorrências\u001b[39m\u001b[39m\"\u001b[39m)\n",
            "\u001b[1;31mNameError\u001b[0m: name 'plt' is not defined"
          ]
        }
      ],
      "source": [
        "#@title Solução\n",
        "plt.hist('Total de Vendas', data=df)\n",
        "plt.title(\"Histograma de Vendas\")\n",
        "plt.ylabel(\"Quantidade de ocorrências\")\n",
        "plt.xlabel(\"Valor da Compra\")\n",
        "plt.show()"
      ]
    },
    {
      "cell_type": "code",
      "execution_count": null,
      "metadata": {
        "id": "VOsY99IqUwmm"
      },
      "outputs": [],
      "source": [
        "# plotar um gráfico de linha das vendas ao longo do tempo\n",
        "# rode a célula para transformar a coluna Datas para o formato datetime\n",
        "df['Data da Venda'] = pd.to_datetime(df['Data da Venda'], infer_datetime_format=True)\n",
        "\n",
        "\n"
      ]
    },
    {
      "cell_type": "code",
      "execution_count": null,
      "metadata": {
        "cellView": "form",
        "id": "rA_t29QTd5KU"
      },
      "outputs": [],
      "source": [
        "#@title Solução\n",
        "# criando o plot\n",
        "\n",
        "plt.plot('Data da Venda', 'Total de Vendas', data=df)\n",
        "\n",
        "# definindo título\n",
        "plt.title(\"Vendas\")\n",
        "plt.ylabel(\"Total em Vendas\")\n",
        "plt.xlabel(\"Data\")\n",
        "plt.xticks(rotation=45)\n",
        "\n",
        "# mostrando gráfico\n",
        "plt.show()"
      ]
    },
    {
      "cell_type": "code",
      "execution_count": null,
      "metadata": {
        "id": "_wMHknuzUzzP"
      },
      "outputs": [],
      "source": [
        "# plotar um gráfico de barras para os vendedores\n"
      ]
    },
    {
      "cell_type": "code",
      "execution_count": null,
      "metadata": {
        "cellView": "form",
        "id": "zb8w67MRm9JI"
      },
      "outputs": [],
      "source": [
        "#@title Solução\n",
        "df.groupby('Vendedor')['Total de Vendas'].sum().plot.bar();"
      ]
    },
    {
      "cell_type": "code",
      "execution_count": null,
      "metadata": {
        "id": "cFQR2ADtnnJB"
      },
      "outputs": [],
      "source": [
        "# plotar um gráfico de pizza ou waffle para os produtos mais vendidos\n"
      ]
    },
    {
      "cell_type": "code",
      "execution_count": null,
      "metadata": {
        "cellView": "form",
        "id": "TYGvaHKoU3v0"
      },
      "outputs": [],
      "source": [
        "#@title Solução\n",
        "a = dict(df[\"Item\"].value_counts())\n",
        "\n",
        "labels = a.keys()\n",
        "valores = a.values()\n",
        "\n",
        "# criando gráfico de pizza\n",
        "plt.pie(x=valores, labels=labels)\n",
        "\n",
        "# definindo título\n",
        "plt.title(\"Itens Mais Vendidos\")\n",
        "\n",
        "# mostrando o gráfico\n",
        "plt.show()"
      ]
    },
    {
      "cell_type": "code",
      "execution_count": null,
      "metadata": {
        "id": "97uGP1VPU6wc"
      },
      "outputs": [],
      "source": [
        "\n"
      ]
    }
  ],
  "metadata": {
    "colab": {
      "provenance": []
    },
    "kernelspec": {
      "display_name": "Python 3",
      "name": "python3"
    },
    "language_info": {
      "codemirror_mode": {
        "name": "ipython",
        "version": 3
      },
      "file_extension": ".py",
      "mimetype": "text/x-python",
      "name": "python",
      "nbconvert_exporter": "python",
      "pygments_lexer": "ipython3",
      "version": "3.11.5"
    }
  },
  "nbformat": 4,
  "nbformat_minor": 0
}
