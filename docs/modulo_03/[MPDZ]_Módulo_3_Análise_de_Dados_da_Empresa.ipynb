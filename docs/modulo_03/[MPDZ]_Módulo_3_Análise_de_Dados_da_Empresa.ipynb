{
  "cells": [
    {
      "cell_type": "markdown",
      "metadata": {
        "id": "Q9X2KkdET-PX"
      },
      "source": [
        "<img alt=\"Colaboratory logo\" width=\"15%\" src=\"https://raw.githubusercontent.com/carlosfab/escola-data-science/master/img/novo_logo_bg_claro.png\">\n",
        "\n",
        "#### **Missão Python do Zero**\n",
        "*by [sigmoidal.ai](https://sigmoidal.ai)*\n",
        "\n",
        "---\n",
        "\n",
        "# Análise de Dados da Empresa\n",
        "\n",
        "Com o conteúdo que temos até aqui, já é possível fazer análises e plotar visualizações informativas...."
      ]
    },
    {
      "cell_type": "code",
      "execution_count": null,
      "metadata": {
        "id": "FDEaGb1_USWI"
      },
      "outputs": [],
      "source": [
        "# importar as bibliotecas necessárias - pandas, matplotlib, google.colab drive\n",
        "\n",
        "# montar o drive\n",
        "\n",
        "# importar a planilha com pandas\n",
        "\n",
        "# associar à variável 'df' a planilha Vendas\n",
        "\n",
        "# visualizar as 5 primeiras entradas\n"
      ]
    },
    {
      "cell_type": "code",
      "execution_count": null,
      "metadata": {
        "colab": {
          "base_uri": "https://localhost:8080/",
          "height": 221
        },
        "id": "oUsN4-TBT4Ya",
        "outputId": "e5863295-cfd8-4beb-8766-58cad0865a7d"
      },
      "outputs": [],
      "source": [
        "#@title Solução\n",
        "# importar bibliotecas\n",
        "import pandas as pd\n",
        "import matplotlib.pyplot as plt\n",
        "from google.colab import drive\n",
        "\n",
        "# montando o drive\n",
        "drive.mount('/content/gdrive')\n",
        "\n",
        "\n",
        "# importar planilha do Excel\n",
        "planilha = pd.read_excel(\"/content/gdrive/My Drive/controle_da_empresa.xlsx\", None)\n",
        "df = planilha['Vendas']\n",
        "\n",
        "# ver as 5 primeiras entradas\n",
        "df.head()\n"
      ]
    },
    {
      "cell_type": "code",
      "execution_count": null,
      "metadata": {
        "id": "yhKDzNFhUtEH"
      },
      "outputs": [],
      "source": [
        "# plotar um histograma do total de vendas\n",
        "\n"
      ]
    },
    {
      "cell_type": "code",
      "execution_count": null,
      "metadata": {
        "cellView": "form",
        "id": "9NJkN5Lfc1Do"
      },
      "outputs": [],
      "source": [
        "#@title Solução\n",
        "plt.hist('Total de Vendas', data=df)\n",
        "plt.title(\"Histograma de Vendas\")\n",
        "plt.ylabel(\"Quantidade de ocorrências\")\n",
        "plt.xlabel(\"Valor da Compra\")\n",
        "plt.show()"
      ]
    },
    {
      "cell_type": "code",
      "execution_count": null,
      "metadata": {
        "id": "VOsY99IqUwmm"
      },
      "outputs": [],
      "source": [
        "# plotar um gráfico de linha das vendas ao longo do tempo\n",
        "# rode a célula para transformar a coluna Datas para o formato datetime\n",
        "df['Data da Venda'] = pd.to_datetime(df['Data da Venda'], infer_datetime_format=True)\n",
        "\n",
        "\n"
      ]
    },
    {
      "cell_type": "code",
      "execution_count": null,
      "metadata": {
        "cellView": "form",
        "id": "rA_t29QTd5KU"
      },
      "outputs": [],
      "source": [
        "#@title Solução\n",
        "# criando o plot\n",
        "\n",
        "plt.plot('Data da Venda', 'Total de Vendas', data=df)\n",
        "\n",
        "# definindo título\n",
        "plt.title(\"Vendas\")\n",
        "plt.ylabel(\"Total em Vendas\")\n",
        "plt.xlabel(\"Data\")\n",
        "plt.xticks(rotation=45)\n",
        "\n",
        "# mostrando gráfico\n",
        "plt.show()"
      ]
    },
    {
      "cell_type": "code",
      "execution_count": null,
      "metadata": {
        "id": "_wMHknuzUzzP"
      },
      "outputs": [],
      "source": [
        "# plotar um gráfico de barras para os vendedores\n"
      ]
    },
    {
      "cell_type": "code",
      "execution_count": null,
      "metadata": {
        "cellView": "form",
        "id": "zb8w67MRm9JI"
      },
      "outputs": [],
      "source": [
        "#@title Solução\n",
        "df.groupby('Vendedor')['Total de Vendas'].sum().plot.bar();"
      ]
    },
    {
      "cell_type": "code",
      "execution_count": null,
      "metadata": {
        "id": "cFQR2ADtnnJB"
      },
      "outputs": [],
      "source": [
        "# plotar um gráfico de pizza ou waffle para os produtos mais vendidos\n"
      ]
    },
    {
      "cell_type": "code",
      "execution_count": null,
      "metadata": {
        "cellView": "form",
        "id": "TYGvaHKoU3v0"
      },
      "outputs": [],
      "source": [
        "#@title Solução\n",
        "a = dict(df[\"Item\"].value_counts())\n",
        "\n",
        "labels = a.keys()\n",
        "valores = a.values()\n",
        "\n",
        "# criando gráfico de pizza\n",
        "plt.pie(x=valores, labels=labels)\n",
        "\n",
        "# definindo título\n",
        "plt.title(\"Itens Mais Vendidos\")\n",
        "\n",
        "# mostrando o gráfico\n",
        "plt.show()"
      ]
    },
    {
      "cell_type": "code",
      "execution_count": null,
      "metadata": {
        "id": "97uGP1VPU6wc"
      },
      "outputs": [],
      "source": [
        "\n"
      ]
    }
  ],
  "metadata": {
    "colab": {
      "provenance": []
    },
    "kernelspec": {
      "display_name": "Python 3",
      "name": "python3"
    },
    "language_info": {
      "codemirror_mode": {
        "name": "ipython",
        "version": 3
      },
      "file_extension": ".py",
      "mimetype": "text/x-python",
      "name": "python",
      "nbconvert_exporter": "python",
      "pygments_lexer": "ipython3",
      "version": "3.11.5"
    }
  },
  "nbformat": 4,
  "nbformat_minor": 0
}
