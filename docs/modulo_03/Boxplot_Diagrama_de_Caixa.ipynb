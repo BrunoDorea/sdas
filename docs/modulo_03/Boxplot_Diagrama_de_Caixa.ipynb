{
  "cells": [
    {
      "cell_type": "markdown",
      "metadata": {
        "id": "5FqFMlGqTDhy"
      },
      "source": [
        "<img alt=\"Colaboratory logo\" width=\"15%\" src=\"https://raw.githubusercontent.com/carlosfab/escola-data-science/master/img/novo_logo_bg_claro.png\">\n",
        "\n",
        "#### **Python do Zero**\n",
        "*by [sigmoidal.ai](https://sigmoidal.ai)*\n",
        "\n",
        "---\n",
        "\n",
        "# Boxplot\n",
        "\n",
        "*Boxplot*, ou diagrama de caixa em português, é uma ferramenta estatística que consegue representar a variação de uma variável utilizando quartis.\n",
        "\n",
        "Os limites inferior e superior se extendem para fora do boxplot para conseguir representar a variabilidade da distribuição dos dados. Valores que estejam além desses limites podem ser considerados como sendo *outliers*.\n",
        "\n",
        "Uma coisa que vale a pena ressaltar é que entre o primeiro e o terceiro quartil está a mediana, que também é o segundo quartil do *boxplot*.\n",
        "\n",
        "<center><img src=\"https://upload.wikimedia.org/wikipedia/commons/thumb/c/c9/Elements_of_a_boxplot_pt.svg/2560px-Elements_of_a_boxplot_pt.svg.png\"width=\"450px\"></center>\n",
        "\n",
        "A figura abaixo representa muito bem como estão relacionados o *boxplot* e a função densidade de probabilidade de uma população que segue uma distribuição normal $N(0, 1\\sigma^2)$.\n",
        "\n",
        "<center><img src=\"https://upload.wikimedia.org/wikipedia/commons/thumb/1/1a/Boxplot_vs_PDF.svg/1920px-Boxplot_vs_PDF.svg.png\"width=\"400px\"></center>"
      ]
    },
    {
      "cell_type": "markdown",
      "metadata": {
        "id": "9IE02q2jTKK5"
      },
      "source": [
        "## Plotar o boxplot\n",
        "\n",
        "Para exemplificar o gráfico de linhas, vou usar um *dataset* contendo o número de casos (mensal) de dengue para a cidade de Campinas-SP. Vamos plotar os gráficos para as temperaturas do nosso *dataset*."
      ]
    },
    {
      "cell_type": "code",
      "execution_count": null,
      "metadata": {
        "colab": {
          "base_uri": "https://localhost:8080/",
          "height": 204
        },
        "id": "glgRFCPoTBjr",
        "outputId": "bf8ee5d1-f0ef-4dcd-b546-074e9ffa5509"
      },
      "outputs": [],
      "source": [
        "# importar bibliotecas\n",
        "import pandas as pd\n",
        "import matplotlib.pyplot as plt\n",
        "\n",
        "# importar dados para dataframe\n",
        "df = pd.read_csv(\"https://raw.githubusercontent.com/carlosfab/dsnp2/master/datasets/dengue-dataset.csv\")\n",
        "\n",
        "# ver as 5 primeiras entradas\n",
        "df.head()"
      ]
    },
    {
      "cell_type": "code",
      "execution_count": null,
      "metadata": {
        "colab": {
          "base_uri": "https://localhost:8080/",
          "height": 265
        },
        "id": "RhHc2x4VTNWC",
        "outputId": "c2d3fd5c-4987-4f2e-e164-3121c3b80839"
      },
      "outputs": [],
      "source": [
        "# plotar o boxplot para as temperaturas\n",
        "df.boxplot([\"temperatura-media\", 'temperatura-mininima', 'temperatura-maxima'])\n",
        "\n",
        "plt.show()"
      ]
    },
    {
      "cell_type": "markdown",
      "metadata": {
        "id": "_BxobNzvTYrF"
      },
      "source": [
        "Nos *plots* acima, os *boxplots* estão na vertical, porém é possível colocá-los na horizontal apenas informando `vert=False`."
      ]
    },
    {
      "cell_type": "code",
      "execution_count": null,
      "metadata": {
        "colab": {
          "base_uri": "https://localhost:8080/",
          "height": 265
        },
        "id": "gNANDaV9TSwc",
        "outputId": "004c51f7-ff9c-44c1-edd5-80535c313f6d"
      },
      "outputs": [],
      "source": [
        "# plotar o boxplot para casos confirmados\n",
        "df.boxplot(['casos-confirmados'], vert=False)\n",
        "\n",
        "plt.show()"
      ]
    },
    {
      "cell_type": "markdown",
      "metadata": {
        "id": "wc9sI66fTiQB"
      },
      "source": [
        "Olhe como nosso *dataset* parece distorcer a realidade. Provavelmente não houve um aumento desses nos casos de dengue confirmados. Há várias possibilidades para isso ter acontecido. Pode ser que não se lançavam os dados corretamente antigamente, mudança na metodologia ou erros nos lançamentos atuais.\n",
        "\n",
        "Vamos estabelecer um ponto de corte arbitrário para ver como fica a distribuição."
      ]
    },
    {
      "cell_type": "code",
      "execution_count": null,
      "metadata": {
        "colab": {
          "base_uri": "https://localhost:8080/",
          "height": 265
        },
        "id": "7F6DAxIjTfM1",
        "outputId": "26f98cae-6138-4361-c181-2db22b00841e"
      },
      "outputs": [],
      "source": [
        "# plotar o boxplot para casos confirmados, com corte arbitrário\n",
        "df.loc[df[\"casos-confirmados\"] < 150].boxplot(['casos-confirmados'], vert=False)\n",
        "\n",
        "plt.show()"
      ]
    },
    {
      "cell_type": "code",
      "execution_count": null,
      "metadata": {
        "id": "IdPHWY_aTosT"
      },
      "outputs": [],
      "source": []
    }
  ],
  "metadata": {
    "colab": {
      "provenance": []
    },
    "kernelspec": {
      "display_name": "Python 3",
      "name": "python3"
    }
  },
  "nbformat": 4,
  "nbformat_minor": 0
}
