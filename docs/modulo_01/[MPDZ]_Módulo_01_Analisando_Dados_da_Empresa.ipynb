{
  "cells": [
    {
      "cell_type": "markdown",
      "metadata": {
        "id": "8cv0NXjOpqHw"
      },
      "source": [
        "<img alt=\"Colaboratory logo\" width=\"15%\" src=\"https://raw.githubusercontent.com/carlosfab/escola-data-science/master/img/novo_logo_bg_claro.png\">\n",
        "\n",
        "#### **Missão: Python do Zero**\n",
        "*by [sigmoidal.ai](https://sigmoidal.ai)*\n",
        "\n",
        "---\n",
        "\n",
        "\n",
        "## Analisando Dados da Empresa com Python\n",
        "\n",
        "Focando sempre na prática, já vamos ter o nosso primeiro projeto. Aqui vamos ver na prática o poder e quantidade de tempo e trabalho que pode ser poupado em nossas rotinas diárias com **Python**.\n",
        "\n",
        "Nesse projeto, vamos analisar dados de estoque de uma empresa utilizando Python e uma das bibliotecas mais amplamente utilizadas quando se fala em Análise de Dados com Python: o Pandas.\n",
        "\n",
        "<center><img width=\"35%\" src=\"https://image.freepik.com/free-vector/warehouse-worker-checking-inventory_3446-395.jpg\n",
        "\"></center>\n",
        "\n",
        "\n",
        "#### Importando uma biblioteca para manipular planilhas\n",
        "\n",
        "O [Pandas](https://pandas.pydata.org/docs/) é uma biblioteca *Open Source* de Python extremamente poderosa que é amplamente utilizada para análise de dados. Uma de suas facilidades é a apresentação tabular (por tabelas) dos dados, o que se assemelha muito ao formato de Excel que estamos acostumados.\n",
        "\n",
        "Essa familiaridade unida ao poder do Pandas o tornam uma ferramenta imprescindível no dia a dia de qualquer programador Python que trabalha com dados.\n",
        "\n",
        "Como estamos falando de uma biblioteca, e não do Python nativo, precisamos importá-la. Isso é feito com o comando: `import`. Usamos esse comando sempre que vamos importar uma nova biblioteca.\n",
        "\n",
        "Mas pandas é um nome maior do que o necessário, o que pode atrapalhar nosso fluxo de trabalho. Por isso, é comum usarmos *aliases*, ou \"apelidos\" para as bibliotecas. Fazemos isso usando o `as`.\n",
        "\n",
        "Então quando digitamos:\n",
        "\n",
        "`import pandas as pd`\n",
        "\n",
        "Estamos dizendo para o Python que:\n",
        "\n",
        "`import` o Pandas `como` pd\n",
        "\n",
        "Ainda sobre *aliases*, é importante saber que podemos dar a eles o nome que preferirmos, mas o ideal é usar a convenção entre os programadores. Isso vai facilitar a leitura do seu código para outras pessoas, e usando isso no seu, você se acostuma a ver isso nos códigos de outras pessoas, o que facilita seu entendimento e aprendizado."
      ]
    },
    {
      "cell_type": "code",
      "execution_count": null,
      "metadata": {
        "id": "OZqimCFSnSfE"
      },
      "outputs": [],
      "source": [
        "# importar os pacotes necessários\n",
        "import pandas as pd"
      ]
    },
    {
      "cell_type": "markdown",
      "metadata": {
        "id": "mnW-UPA2oezb"
      },
      "source": [
        "#### Importar uma planilha de Excel usando a biblioteca `pandas` do Python\n",
        "\n",
        "Agora que já importamos nosso pacote, é hora de caregarmos nossa planilha pra dentro do Colab. Para isso, baixe o arquivo disponível nos links úteis desta aula, abra a aba à esquerda aqui do seu navegador, e arraste o arquivo da planilha pra lá. Lembre-se, essses uploads são temporários, e terão que ser feitos novamente toda vez que o notebook for aberto.\n",
        "\n",
        "Para ler arquivos excel usar função do pandas `pd.read_excel` e , ao carregar a planilha, vamos dar um nome a ela, associando o arquivo a uma variável.\n",
        "\n",
        "Para importar a planilha com o Pandas, clique com o botão direto no arquivo que você importou dentro da aba à esquerda, e selecione a opção *copy path* para que o pandas saiba onde está o arquivo. Também vamos passar o parâmetro `None`, para carregar todas as abas da planilha."
      ]
    },
    {
      "cell_type": "code",
      "execution_count": null,
      "metadata": {
        "id": "6nALiw1AoHPw"
      },
      "outputs": [],
      "source": [
        "# importar planilha do Excel\n",
        "planilha = pd.read_excel(\"controle_da_empresa.xlsx\", None)"
      ]
    },
    {
      "cell_type": "markdown",
      "metadata": {
        "id": "ktu6AEKlovmV"
      },
      "source": [
        "Pronto! nossa planilha foi carregada com sucesso. Ao executar a célula com o nome (variável) planilha, observe como todas as abas foram carregadas:"
      ]
    },
    {
      "cell_type": "code",
      "execution_count": null,
      "metadata": {
        "colab": {
          "base_uri": "https://localhost:8080/",
          "height": 557
        },
        "id": "7McdMsOhoYJI",
        "outputId": "74d08a75-14c0-44f1-be76-0bb97f54986f"
      },
      "outputs": [],
      "source": [
        "# executando a variável planilha\n",
        "planilha"
      ]
    },
    {
      "cell_type": "markdown",
      "metadata": {
        "id": "qPuzFvnTocmQ"
      },
      "source": [
        "#### Acessando uma aba específica da planilha\n",
        "\n",
        "Em uma planilha com mais de uma aba como a nossa, podemos carregar a aba `Estoque`, por exemplo, executando o comando `planilha[\"Estoque\"]`. Basta colocar entre parêntesis, dentro dos colchetes o nome da aba.\n",
        "\n",
        "Lembre-se que o Python é *case sensitive*, ou seja, ele é sensível à variação entre maiúsculas e minúsculas. Portanto, para o Python, estoque é diferente de Estoque."
      ]
    },
    {
      "cell_type": "code",
      "execution_count": null,
      "metadata": {
        "colab": {
          "base_uri": "https://localhost:8080/",
          "height": 359
        },
        "id": "0eUK2UuYqbDX",
        "outputId": "3efd8970-e3c7-44cd-80c2-3cf7ae377ca7"
      },
      "outputs": [],
      "source": [
        "# visualizando a aba Estoque\n",
        "planilha[\"Estoque\"]"
      ]
    },
    {
      "cell_type": "markdown",
      "metadata": {
        "id": "ojoCMLBLqc9B"
      },
      "source": [
        "Agora que já sabemos carregar abas específicas, podemos dar uma olhada em outras abas da planilha, como por exemplo, a aba `Vendas`.\n",
        "\n",
        "Para carregar a aba `Vendas`, digitamos `planilha[\"Vendas\"]`."
      ]
    },
    {
      "cell_type": "code",
      "execution_count": null,
      "metadata": {
        "colab": {
          "base_uri": "https://localhost:8080/",
          "height": 419
        },
        "id": "jGPfps20qo2J",
        "outputId": "5bbf9b0b-0e38-4d04-b57a-08fc4ade0af4"
      },
      "outputs": [],
      "source": [
        "# visualizando a aba Vendas\n",
        "planilha[\"Vendas\"]"
      ]
    },
    {
      "cell_type": "markdown",
      "metadata": {
        "id": "607XSmHAqq3h"
      },
      "source": [
        "Também é bastante útil visualizar as abas existentes na planilha carregada. Isso é essencial ao carregar um arquivo que você não conhece ainda, ou até mesmo para garantir que um que você já conhece foi carregado corretamente.\n",
        "\n",
        "Para descobrir o nome de todas as abas carregadas, executamos `planilha.keys()`."
      ]
    },
    {
      "cell_type": "code",
      "execution_count": null,
      "metadata": {
        "colab": {
          "base_uri": "https://localhost:8080/",
          "height": 35
        },
        "id": "jbQka45bqz6i",
        "outputId": "2d835808-d6a5-4674-8213-75234c3e3c36"
      },
      "outputs": [],
      "source": [
        "# verificando as abas da planilha\n",
        "planilha.keys()"
      ]
    },
    {
      "cell_type": "markdown",
      "metadata": {
        "id": "lXto8oyfq1M_"
      },
      "source": [
        "#### Acessar uma coluna específica da planilha\n",
        "\n",
        "Já verificamos a planilha inteira, já entramos em diferentes abas, mas como podemos verificar coisas ainda mais específicas? E se quiséssemos acessar uma coluna dentro de uma das abas?\n",
        "\n",
        "Para fazer isso, vamos acessar a coluna `Total de Vendas` da aba `Vendas` como exemplo.\n",
        "\n",
        "Basta executar `planilha['aba']['coluna']`.\n",
        "\n",
        "Veja abaixo:"
      ]
    },
    {
      "cell_type": "code",
      "execution_count": null,
      "metadata": {
        "colab": {
          "base_uri": "https://localhost:8080/",
          "height": 233
        },
        "id": "XFNeBn-fq99N",
        "outputId": "96cd8fe8-7e44-4925-c661-03d0fc0e3881"
      },
      "outputs": [],
      "source": [
        "# acessando uma coluna dentro de uma aba\n",
        "planilha[\"Vendas\"][\"Total de Vendas\"]"
      ]
    },
    {
      "cell_type": "markdown",
      "metadata": {
        "id": "n48j8FsjrI4I"
      },
      "source": [
        "Acessar as colunas já é bacana, mas precisamos ir além, e conseguir manipular esses valores. Para somar todos os valores, utilizamos o comando `sum`."
      ]
    },
    {
      "cell_type": "code",
      "execution_count": null,
      "metadata": {
        "colab": {
          "base_uri": "https://localhost:8080/",
          "height": 35
        },
        "id": "vVrJviVarNyx",
        "outputId": "c4b31adc-2ac1-4f2c-ccc2-08a1c214d873"
      },
      "outputs": [],
      "source": [
        "# somando os valores de uma coluna\n",
        "planilha['Vendas']['Total de Vendas'].sum()"
      ]
    },
    {
      "cell_type": "markdown",
      "metadata": {
        "id": "LNE9C6cirPeX"
      },
      "source": [
        "Com Python, também é fácil calcular a média aritmética dos valores de uma coluna, basta usar o comando `mean`."
      ]
    },
    {
      "cell_type": "code",
      "execution_count": null,
      "metadata": {
        "colab": {
          "base_uri": "https://localhost:8080/",
          "height": 35
        },
        "id": "yj0qiXsTrSf5",
        "outputId": "ce25156f-1ce3-4877-9b02-c33d5697f6e1"
      },
      "outputs": [],
      "source": [
        "# calculando a média aritmética dos valores de uma coluna\n",
        "planilha['Vendas']['Total de Vendas'].mean()"
      ]
    },
    {
      "cell_type": "markdown",
      "metadata": {
        "id": "v4nee5yyrUWN"
      },
      "source": [
        "Dentro de uma análise estatística, é muito importante entender a distribuição dos dados que estamos trabalhando, e um dos aspectos que precisamos analisar é o desvio padrão.\n",
        "\n",
        "Em termos simples, o desvio padrão é o quanto os valores analisados variam da média do conjunto.\n",
        "\n",
        "Com Python, encontrar esse valor é muito fácil. Basta usar o comando `std`, que vem de *Standard Deviation*, termo em inglês para desvio padrão."
      ]
    },
    {
      "cell_type": "code",
      "execution_count": null,
      "metadata": {
        "colab": {
          "base_uri": "https://localhost:8080/",
          "height": 35
        },
        "id": "XPSJO4r2rXkC",
        "outputId": "a31da08d-aac4-44cd-d0b6-d06447d60392"
      },
      "outputs": [],
      "source": [
        "# calculando o desvio padrão de uma coluna\n",
        "planilha['Vendas']['Total de Vendas'].std()"
      ]
    },
    {
      "cell_type": "markdown",
      "metadata": {
        "id": "6ZQKZhTmrYUw"
      },
      "source": [
        "#### Gerando gráficos com dados da planilha\n",
        "\n",
        "Agora que já conseguimos carregar, ver dados tabulares, e manipular os dados de nossa planilha, é hora de ir além, e gerar visualizações.\n",
        "\n",
        "Existem muitas bibliotecas de Python criadas especificamente para visualizações, com alto poder gráfico, capazes de gerar visualizações incríveis, completas e complexas.\n",
        "\n",
        "Mas isso não significa que gerar visualizações informativas precisa ser difícil. O próprio Pandas facilita muito a nossa vida, criando visualizações de forma, simples, prática, fácil e eficaz.\n",
        "\n",
        "O Pandas já vem com uma infinidade de coisas implementada, inclusive capacidade de plotar gráficos."
      ]
    },
    {
      "cell_type": "code",
      "execution_count": null,
      "metadata": {
        "id": "sSkd1HL9rm2z"
      },
      "outputs": [],
      "source": [
        "# criar uma nova variável (pense como um atalho)\n",
        "vendas = planilha['Vendas']"
      ]
    },
    {
      "cell_type": "code",
      "execution_count": null,
      "metadata": {
        "colab": {
          "base_uri": "https://localhost:8080/",
          "height": 419
        },
        "id": "LWqwIRfWruXZ",
        "outputId": "5e464f9a-c24e-449c-ac56-7e186fffb0f3"
      },
      "outputs": [],
      "source": [
        "# visualizando a variável\n",
        "vendas"
      ]
    },
    {
      "cell_type": "markdown",
      "metadata": {
        "id": "6HEc74ZKrw5y"
      },
      "source": [
        "Para selecionar colunas, continuamos fazendo da mesma forma que fizemos anteriormente."
      ]
    },
    {
      "cell_type": "code",
      "execution_count": null,
      "metadata": {
        "colab": {
          "base_uri": "https://localhost:8080/",
          "height": 233
        },
        "id": "j2IwALxUruxm",
        "outputId": "6241dc1c-044c-4e64-d6c9-b87272c48000"
      },
      "outputs": [],
      "source": [
        "# selecionando uma coluna\n",
        "vendas[\"Total de Vendas\"]"
      ]
    },
    {
      "cell_type": "markdown",
      "metadata": {
        "id": "DJamu9sJr9y9"
      },
      "source": [
        "Com as informações que temos, é possível plotar facilmente um **Gráfico de Linhas** que demonstre o total de vendas em um determinado período de tempo.\n",
        "\n",
        "No eixo X (horizontal) temos a data, e no eixo Y (vertical) o total de vendas."
      ]
    },
    {
      "cell_type": "code",
      "execution_count": null,
      "metadata": {
        "colab": {
          "base_uri": "https://localhost:8080/",
          "height": 303
        },
        "id": "hQUj6gRCr7CI",
        "outputId": "02b75571-7645-4b43-fcd6-9b7d56b61c8c"
      },
      "outputs": [],
      "source": [
        "# plotando gráfico de linhas\n",
        "vendas.plot(\"Data da Venda\", \"Total de Vendas\")"
      ]
    },
    {
      "cell_type": "markdown",
      "metadata": {
        "id": "6Y7VizCOsB3q"
      },
      "source": [
        "Outra visualização bastante útil e informativa são os [Histogramas](https://pt.khanacademy.org/math/pt-8-ano/probabilidade-e-estatistica-8ano/graficos/a/histograma-grafico-de-barra). O Histograma é uma ferramenta estatística que nos ajuda a verificar a distribuição dos dados. Em termos simples, em determinados intervalos, temos *bins*, ou caixas, que recebem dados que estão dentro daquele intervalo.\n",
        "\n",
        "É importante não confundir essa visualização com gráficos de barras, pois são usados com objetivos diferentes. Clique [aqui](https://pt.khanacademy.org/math/pt-8-ano/probabilidade-e-estatistica-8ano/graficos/a/histograma-grafico-de-barra) caso queira se aprofundar nessas visualizações.\n",
        "\n",
        "De qualquer forma, plotar um histograma para ver quanto as pessoas costumam gastar, em sua maioria, por exemplo, é muito simples:"
      ]
    },
    {
      "cell_type": "code",
      "execution_count": null,
      "metadata": {
        "colab": {
          "base_uri": "https://localhost:8080/",
          "height": 317
        },
        "id": "4mtbVrhsscrq",
        "outputId": "2b830646-9645-45f0-dd5c-2c6d80393599"
      },
      "outputs": [],
      "source": [
        "# plotando histograma\n",
        "vendas.hist(\"Total de Vendas\")"
      ]
    },
    {
      "cell_type": "markdown",
      "metadata": {
        "id": "Ao27sTdAst-_"
      },
      "source": [
        "#### Algumas manipulações de datas (apenas para conhecimento)"
      ]
    },
    {
      "cell_type": "markdown",
      "metadata": {
        "id": "iIVfnabFwZit"
      },
      "source": [
        "O Python com Pandas também nos possibilita a manipulação de dados organizados cronologicamente.\n",
        "\n",
        "Não se preocupe com isso nesse momento. Esse é apenas um exemplo pra mostrar as possibilidades que temos com Python em relação às datas, e como trabalhar com datas em Python pode ser muito mais fácil do que lidar com Excel."
      ]
    },
    {
      "cell_type": "markdown",
      "metadata": {
        "id": "-BPosCurwiNI"
      },
      "source": [
        "Ao manipular datas com Python, podemos, por exemplo, plotar um histograma para analisarmos a distribuição das vendas por dia da semana."
      ]
    },
    {
      "cell_type": "code",
      "execution_count": null,
      "metadata": {
        "colab": {
          "base_uri": "https://localhost:8080/",
          "height": 419
        },
        "id": "BrJgnUM-s-lj",
        "outputId": "79bdc375-f220-46a2-c460-e12f39250d11"
      },
      "outputs": [],
      "source": [
        "# lendo a variável vendas\n",
        "vendas"
      ]
    },
    {
      "cell_type": "code",
      "execution_count": null,
      "metadata": {
        "colab": {
          "base_uri": "https://localhost:8080/",
          "height": 233
        },
        "id": "05Ox8XvqwqSO",
        "outputId": "cba2735e-3739-41f9-ae03-4f2a3bdb9fcf"
      },
      "outputs": [],
      "source": [
        "# verificando a coluna Data da Venda\n",
        "vendas[\"Data da Venda\"]"
      ]
    },
    {
      "cell_type": "code",
      "execution_count": null,
      "metadata": {
        "colab": {
          "base_uri": "https://localhost:8080/",
          "height": 283
        },
        "id": "s_I_BkMjwu3g",
        "outputId": "06b42223-8500-4844-9577-c2a83c78be52"
      },
      "outputs": [],
      "source": [
        "# visualizando histograma de vendas por dia da semana\n",
        "vendas[\"Data da Venda\"].apply(lambda x: x.weekday()).hist(bins=7)"
      ]
    },
    {
      "cell_type": "code",
      "execution_count": null,
      "metadata": {
        "id": "kk1UcPe0xM8L"
      },
      "outputs": [],
      "source": []
    }
  ],
  "metadata": {
    "colab": {
      "provenance": []
    },
    "kernelspec": {
      "display_name": "Python 3",
      "name": "python3"
    },
    "language_info": {
      "codemirror_mode": {
        "name": "ipython",
        "version": 3
      },
      "file_extension": ".py",
      "mimetype": "text/x-python",
      "name": "python",
      "nbconvert_exporter": "python",
      "pygments_lexer": "ipython3",
      "version": "3.11.0"
    }
  },
  "nbformat": 4,
  "nbformat_minor": 0
}
