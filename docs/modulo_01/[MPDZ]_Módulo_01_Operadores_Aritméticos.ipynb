{
  "cells": [
    {
      "cell_type": "markdown",
      "metadata": {
        "id": "5sD7GjVVSSc5"
      },
      "source": [
        "<img alt=\"Colaboratory logo\" width=\"15%\" src=\"https://raw.githubusercontent.com/carlosfab/escola-data-science/master/img/novo_logo_bg_claro.png\">\n",
        "\n",
        "#### **Missão Python do Zero**\n",
        "*by [sigmoidal.ai](https://sigmoidal.ai)*\n",
        "\n",
        "---\n",
        "\n",
        "## Operadores Aritméticos\n",
        "\n",
        "<center><img alt=\"Math\" width=\"35%\" src=\"https://image.freepik.com/free-psd/flat-lay-pi-sign-mathematics_23-2148458911.jpg\"></center>\n",
        "\n",
        "\n",
        "Nesta aula, vou te mostrar quais são os operadores aritméticos do Python, além da sua ordem de precedência quando compondo uma expressão matemática.\n",
        "\n",
        "Os operadores aritméticos do Python são:\n",
        "\n",
        "* `+` Adição\n",
        "* `-` Subtração\n",
        "* `*` Multiplicação\n",
        "* `/` Divisão\n",
        "* `**` Exponenciação\n",
        "* `//` Divisão (resultado inteiro)\n",
        "\n",
        "Abaixo, podemos ver exemplos de uso desses operadores."
      ]
    },
    {
      "cell_type": "code",
      "execution_count": null,
      "metadata": {
        "colab": {
          "base_uri": "https://localhost:8080/",
          "height": 35
        },
        "id": "8IwDiibkUF1o",
        "outputId": "42228729-e9b0-4660-e915-3c51d4df2003"
      },
      "outputs": [
        {
          "data": {
            "text/plain": [
              "237"
            ]
          },
          "execution_count": 2,
          "metadata": {
            "tags": []
          },
          "output_type": "execute_result"
        }
      ],
      "source": [
        "# adição\n",
        "13 + 45 + 89 + 90"
      ]
    },
    {
      "cell_type": "code",
      "execution_count": null,
      "metadata": {
        "colab": {
          "base_uri": "https://localhost:8080/",
          "height": 35
        },
        "id": "hX-rwGYCWezE",
        "outputId": "5389be1d-6c80-43eb-8542-ef9e105e3a2b"
      },
      "outputs": [
        {
          "data": {
            "text/plain": [
              "-613"
            ]
          },
          "execution_count": 3,
          "metadata": {
            "tags": []
          },
          "output_type": "execute_result"
        }
      ],
      "source": [
        "# subtração\n",
        "87 - 700"
      ]
    },
    {
      "cell_type": "code",
      "execution_count": null,
      "metadata": {
        "colab": {
          "base_uri": "https://localhost:8080/",
          "height": 35
        },
        "id": "difWa1hYWe8G",
        "outputId": "9815c1ec-c883-4b7f-b0f2-4615c139d479"
      },
      "outputs": [
        {
          "data": {
            "text/plain": [
              "70"
            ]
          },
          "execution_count": 4,
          "metadata": {
            "tags": []
          },
          "output_type": "execute_result"
        }
      ],
      "source": [
        "# multiplicação\n",
        "7 * 10"
      ]
    },
    {
      "cell_type": "code",
      "execution_count": null,
      "metadata": {
        "colab": {
          "base_uri": "https://localhost:8080/",
          "height": 35
        },
        "id": "aS_2zy7EWfGS",
        "outputId": "510a5638-05ea-4bee-eef6-d81cc83d9c27"
      },
      "outputs": [
        {
          "data": {
            "text/plain": [
              "23.333333333333332"
            ]
          },
          "execution_count": 5,
          "metadata": {
            "tags": []
          },
          "output_type": "execute_result"
        }
      ],
      "source": [
        "# divisão\n",
        "70 / 3"
      ]
    },
    {
      "cell_type": "code",
      "execution_count": null,
      "metadata": {
        "colab": {
          "base_uri": "https://localhost:8080/",
          "height": 35
        },
        "id": "NmYClsMRWgvE",
        "outputId": "4fdbdf65-ba54-479d-cdc0-44ab66a7779a"
      },
      "outputs": [
        {
          "data": {
            "text/plain": [
              "23"
            ]
          },
          "execution_count": 6,
          "metadata": {
            "tags": []
          },
          "output_type": "execute_result"
        }
      ],
      "source": [
        "# divisão (resultado inteiro)\n",
        "70 // 3"
      ]
    },
    {
      "cell_type": "markdown",
      "metadata": {
        "id": "c1dKHcyl2HIp"
      },
      "source": [
        "$$\n",
        "7^2\n",
        "$$"
      ]
    },
    {
      "cell_type": "code",
      "execution_count": null,
      "metadata": {
        "colab": {
          "base_uri": "https://localhost:8080/",
          "height": 35
        },
        "id": "bSJLtcQUWfQJ",
        "outputId": "61dfc2f5-727d-4246-ac57-6135d68e1ffb"
      },
      "outputs": [
        {
          "data": {
            "text/plain": [
              "49"
            ]
          },
          "execution_count": 8,
          "metadata": {
            "tags": []
          },
          "output_type": "execute_result"
        }
      ],
      "source": [
        "# exponenciação\n",
        "7 ** 2"
      ]
    },
    {
      "cell_type": "markdown",
      "metadata": {
        "id": "UIDcLOrxUhc2"
      },
      "source": [
        "## Ordem de precedência\n",
        "\n",
        "Se já faz um tempo desde o seu último contato com a matemática, vale a pena relembrarmos a ordem correta das operações matemáticas.\n",
        "\n",
        "$$\n",
        "\\begin{aligned}\n",
        "x & = 3 + 10 * 3 \\\\\n",
        "x & = 3 + (10 * 3) \\\\\n",
        "x & = 3 + 30 \\\\\n",
        "x & = 33\n",
        "\\end{aligned}\n",
        "$$\n",
        "\n",
        "Lembre-se que a ordem das operações matemáticas é:\n",
        "\n",
        "* 1º Parêntesis;\n",
        "* 2º Expoentes;\n",
        "* 3º Multiplicações e Divisões; (da esquerda para a direita)\n",
        "* 4º Somas e Subtrações. (da esquerda para a direita)\n",
        "\n",
        "Vamos ver como isso funciona na prática com Python."
      ]
    },
    {
      "cell_type": "code",
      "execution_count": null,
      "metadata": {
        "colab": {
          "base_uri": "https://localhost:8080/",
          "height": 35
        },
        "id": "mqoGe3Ov0MTa",
        "outputId": "0540687d-8cbc-473f-a96f-1f3594e0b6d7"
      },
      "outputs": [
        {
          "data": {
            "text/plain": [
              "30"
            ]
          },
          "execution_count": 9,
          "metadata": {
            "tags": []
          },
          "output_type": "execute_result"
        }
      ],
      "source": [
        "# primeiro é resolvida a multiplicação e depois a subtração\n",
        "10 * 3"
      ]
    },
    {
      "cell_type": "code",
      "execution_count": null,
      "metadata": {
        "colab": {
          "base_uri": "https://localhost:8080/",
          "height": 35
        },
        "id": "A-zS3HT3VaQ4",
        "outputId": "37801f41-012f-4cc1-de51-e8f03214f1fc"
      },
      "outputs": [
        {
          "data": {
            "text/plain": [
              "33"
            ]
          },
          "execution_count": 10,
          "metadata": {
            "tags": []
          },
          "output_type": "execute_result"
        }
      ],
      "source": [
        "# multiplicamos, e depois somamos o resultado\n",
        "3 + 30"
      ]
    },
    {
      "cell_type": "markdown",
      "metadata": {
        "id": "z-5iRQaqW2rK"
      },
      "source": [
        "Mesmo acrescentando um pouquinho mais de complexidade, o Python consegue lidar com extrema facilidade, cabendo a nós termos atenção às operações realizadas.\n",
        "\n",
        "$$\n",
        "\\begin{aligned}\n",
        "x & = 5 + 9 - 2^2 + \\frac{9}{3} \\\\\n",
        "x & = 5 + 9 - 4 + \\frac{9}{3} \\\\\n",
        "x & = 5 + 9 - 4 + 3 \\\\\n",
        "x & = 14 - 4 + 3 \\\\\n",
        "x & = 10 + 3 \\\\\n",
        "x & = 13 \\\\\n",
        "\\end{aligned}\n",
        "$$\n",
        "\n"
      ]
    },
    {
      "cell_type": "code",
      "execution_count": null,
      "metadata": {
        "colab": {
          "base_uri": "https://localhost:8080/",
          "height": 35
        },
        "id": "kTZcYeg0YyLi",
        "outputId": "55d28ac4-f8fc-409f-93fc-46832917723f"
      },
      "outputs": [
        {
          "data": {
            "text/plain": [
              "13.0"
            ]
          },
          "execution_count": 11,
          "metadata": {
            "tags": []
          },
          "output_type": "execute_result"
        }
      ],
      "source": [
        "# resolução da equação acima usando Python\n",
        "5 + 9 - 2**2 + 9/3"
      ]
    },
    {
      "cell_type": "code",
      "execution_count": null,
      "metadata": {
        "colab": {
          "base_uri": "https://localhost:8080/",
          "height": 35
        },
        "id": "bYnc7s00OZ0r",
        "outputId": "09d92646-a31f-43cf-8e02-99f7c6342cd8"
      },
      "outputs": [
        {
          "data": {
            "text/plain": [
              "13.0"
            ]
          },
          "execution_count": 12,
          "metadata": {
            "tags": []
          },
          "output_type": "execute_result"
        }
      ],
      "source": [
        "5 + 9 - (2**2) + (9/3)"
      ]
    },
    {
      "cell_type": "markdown",
      "metadata": {
        "id": "WR4ng26uVb-H"
      },
      "source": [
        "Expressões maiores podem confundir, então o segredo é anotar a correta ordem de execução das operações matemáticas:\n",
        "\n",
        "1. Parênteses\n",
        "2. Expoentes\n",
        "3. Multiplicações e Divisões (esquerda para a direita)\n",
        "4. Somas e subtrações (esquerda para a direita)\n",
        "\n",
        "#### Exemplo 1\n",
        "\n",
        "Calcula a média simples das notas das 3 provas de matemática\n",
        "* Nota 1 = 8,5\n",
        "* Nota 2 = 9,2\n",
        "* Nota 3 = 7,5"
      ]
    },
    {
      "cell_type": "code",
      "execution_count": null,
      "metadata": {
        "colab": {
          "base_uri": "https://localhost:8080/",
          "height": 35
        },
        "id": "jhwL0H9IZaWN",
        "outputId": "0692cc4c-ac19-45de-e380-6a7453fb2ead"
      },
      "outputs": [
        {
          "data": {
            "text/plain": [
              "8.4"
            ]
          },
          "execution_count": 14,
          "metadata": {
            "tags": []
          },
          "output_type": "execute_result"
        }
      ],
      "source": [
        "# resposta\n",
        "(8.5 + 9.2 + 7.5) / 3"
      ]
    },
    {
      "cell_type": "markdown",
      "metadata": {
        "id": "NIjH5tqKaGrX"
      },
      "source": [
        "#### Exemplo 2\n",
        "\n",
        "Qual a área de\n",
        "\n",
        "* O volume de uma esfera é calculada por meio da expressão $V = \\frac{4}{3} \\pi r^3$.\n",
        "* Calcule o volume de uma esfera de 5 metros?"
      ]
    },
    {
      "cell_type": "code",
      "execution_count": null,
      "metadata": {
        "colab": {
          "base_uri": "https://localhost:8080/",
          "height": 35
        },
        "id": "RY1xwXd6ZxDl",
        "outputId": "9dc1d8fd-8e2c-4053-ced1-557ecba95ea2"
      },
      "outputs": [
        {
          "data": {
            "text/plain": [
              "523.3333333333334"
            ]
          },
          "execution_count": 15,
          "metadata": {
            "tags": []
          },
          "output_type": "execute_result"
        }
      ],
      "source": [
        "# resposta\n",
        "4/3 * 3.14 * 5 ** 3"
      ]
    },
    {
      "cell_type": "code",
      "execution_count": null,
      "metadata": {
        "colab": {
          "base_uri": "https://localhost:8080/",
          "height": 35
        },
        "id": "W2HSOxqvPA6F",
        "outputId": "0fec2d8e-da34-4d54-b40f-adb519a6043f"
      },
      "outputs": [
        {
          "data": {
            "text/plain": [
              "523.3333333333334"
            ]
          },
          "execution_count": 16,
          "metadata": {
            "tags": []
          },
          "output_type": "execute_result"
        }
      ],
      "source": [
        "# resposta\n",
        "(4/3) * (3.14) * (5 ** 3)"
      ]
    },
    {
      "cell_type": "markdown",
      "metadata": {
        "id": "3QRnB_zk_0ON"
      },
      "source": [
        "## Exercícios\n",
        "\n",
        "Agora que vimos como utilizar os operadores, vamos resolver algumas equações.\n",
        "<center><img alt=\"Math\" width=\"35%\" src=\"https://image.freepik.com/free-vector/people-budgeting-order-plan-personal-finance_53876-64613.jpg\"></center>\n"
      ]
    },
    {
      "cell_type": "markdown",
      "metadata": {
        "id": "xUIKEVo2A73V"
      },
      "source": [
        "#### Exercício 1\n",
        "\n",
        "Calcule:\n",
        "$$\n",
        "\\begin{aligned}\n",
        "x & = 15 - 5 + 3^2 \\\\\n",
        "\\end{aligned}\n",
        "$$"
      ]
    },
    {
      "cell_type": "code",
      "execution_count": 1,
      "metadata": {
        "id": "EZ8rnqrK1K0L"
      },
      "outputs": [
        {
          "name": "stdout",
          "output_type": "stream",
          "text": [
            "19\n"
          ]
        }
      ],
      "source": [
        "# resposta\n",
        "x = 15 - 5 + (3 ** 2)\n",
        "print(x)"
      ]
    },
    {
      "cell_type": "code",
      "execution_count": null,
      "metadata": {
        "cellView": "form",
        "id": "L_tEZCEYBlGd"
      },
      "outputs": [],
      "source": [
        "#@title Solução\n",
        "15 - 5 + (3**2)"
      ]
    },
    {
      "cell_type": "markdown",
      "metadata": {
        "id": "KKtUUwTRCPD0"
      },
      "source": [
        "#### Exercício 2\n",
        "\n",
        "Calcule:\n",
        "\n",
        "$$\n",
        "\\begin{aligned}\n",
        "x & = 20 + 5  /  7 * 9 \\\\\n",
        "\\end{aligned}\n",
        "$$"
      ]
    },
    {
      "cell_type": "code",
      "execution_count": 4,
      "metadata": {
        "id": "3Mw8i0clBtN0"
      },
      "outputs": [
        {
          "name": "stdout",
          "output_type": "stream",
          "text": [
            "26.42857142857143\n"
          ]
        }
      ],
      "source": [
        "# resposta\n",
        "x = 20 + 5 / 7 * 9\n",
        "print(x)"
      ]
    },
    {
      "cell_type": "code",
      "execution_count": null,
      "metadata": {
        "colab": {
          "base_uri": "https://localhost:8080/"
        },
        "id": "hvkeoY0pByiP",
        "outputId": "d22cf1c0-bab1-4315-b1e0-eb16ef1738b3"
      },
      "outputs": [
        {
          "data": {
            "text/plain": [
              "26.42857142857143"
            ]
          },
          "execution_count": 1,
          "metadata": {},
          "output_type": "execute_result"
        }
      ],
      "source": [
        "#@title Solução\n",
        "20+5/7 * 9"
      ]
    },
    {
      "cell_type": "code",
      "execution_count": null,
      "metadata": {
        "colab": {
          "base_uri": "https://localhost:8080/"
        },
        "id": "0YzrF_fogkiK",
        "outputId": "a6948f1c-71f2-494c-8f38-c05f3263e9ad"
      },
      "outputs": [
        {
          "name": "stdout",
          "output_type": "stream",
          "text": [
            "26.42857142857143\n"
          ]
        }
      ],
      "source": [
        "print(20 + 5/7 * 9)"
      ]
    },
    {
      "cell_type": "markdown",
      "metadata": {
        "id": "P5tfTUo9DIsQ"
      },
      "source": [
        "#### Exercício 3\n",
        "\n",
        "Calcule:\n",
        "\n",
        "$$\n",
        "\\begin{aligned}\n",
        "x & = 17 * 3  - 4^2  / 3 \\\\\n",
        "\\end{aligned}\n",
        "$$"
      ]
    },
    {
      "cell_type": "code",
      "execution_count": 5,
      "metadata": {
        "id": "vNwc8aLMD1u3"
      },
      "outputs": [
        {
          "name": "stdout",
          "output_type": "stream",
          "text": [
            "45.666666666666664\n"
          ]
        }
      ],
      "source": [
        "# resposta\n",
        "x = (17 * 3) - (4 ** 2 / 3)\n",
        "print(x)"
      ]
    },
    {
      "cell_type": "code",
      "execution_count": null,
      "metadata": {
        "cellView": "form",
        "id": "F_fhVYzHC25y"
      },
      "outputs": [],
      "source": [
        "#@title Solução\n",
        "(17*3) - (4**2 /3)"
      ]
    }
  ],
  "metadata": {
    "colab": {
      "provenance": []
    },
    "kernelspec": {
      "display_name": "Python 3",
      "name": "python3"
    },
    "language_info": {
      "codemirror_mode": {
        "name": "ipython",
        "version": 3
      },
      "file_extension": ".py",
      "mimetype": "text/x-python",
      "name": "python",
      "nbconvert_exporter": "python",
      "pygments_lexer": "ipython3",
      "version": "3.11.0"
    }
  },
  "nbformat": 4,
  "nbformat_minor": 0
}
