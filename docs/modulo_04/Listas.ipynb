{
  "cells": [
    {
      "cell_type": "markdown",
      "metadata": {
        "id": "1v8jEIJPfoxg"
      },
      "source": [
        "<img alt=\"Colaboratory logo\" width=\"15%\" src=\"https://raw.githubusercontent.com/carlosfab/escola-data-science/master/img/novo_logo_bg_claro.png\">\n",
        "\n",
        "\n",
        "---\n",
        "\n",
        "# Listas\n",
        "\n",
        "Listas são sequências de valores, onde cada valor é identificado por um índice referente a sua posição. O tipo de variável das listas é `list`, e você vai ver como elas são extremamente úteis para manipulação dos dados.\n",
        "\n",
        "\n",
        "<center><img width=\"45%\" src=\"https://image.freepik.com/free-vector/check-list-with-businessman-flat-design_79603-145.jpg\"></center>\n",
        "\n",
        "Detalhe importante, as listas são mutáveis, compostas de diversos valores, chamados elementos ou itens, e que podem ser de diferentes tipos.\n"
      ]
    },
    {
      "cell_type": "markdown",
      "metadata": {
        "id": "l7yd4mtT0uqG"
      },
      "source": [
        "Para criar uma lista, utilizaremos colchetes `[]`."
      ]
    },
    {
      "cell_type": "code",
      "execution_count": null,
      "metadata": {
        "id": "WmQkXeuPOKUb"
      },
      "outputs": [],
      "source": [
        "lista_qualquer = [1, 2, 3, 7, 8, 9, \"Carlos\"]"
      ]
    },
    {
      "cell_type": "code",
      "execution_count": null,
      "metadata": {
        "colab": {
          "base_uri": "https://localhost:8080/"
        },
        "id": "Ne0kCb9nOLrT",
        "outputId": "6a34b59c-6676-4526-ab99-dd6afa9eae1d"
      },
      "outputs": [],
      "source": [
        "len(lista_qualquer)"
      ]
    },
    {
      "cell_type": "code",
      "execution_count": null,
      "metadata": {
        "colab": {
          "base_uri": "https://localhost:8080/"
        },
        "id": "cN_-CSVdOe_M",
        "outputId": "57d44ccf-37a6-4328-8da7-e7908f5cdc54"
      },
      "outputs": [],
      "source": [
        "for elemento in lista_qualquer:\n",
        "    print(elemento)"
      ]
    },
    {
      "cell_type": "code",
      "execution_count": null,
      "metadata": {
        "colab": {
          "base_uri": "https://localhost:8080/"
        },
        "id": "HKRRT4FcOUrr",
        "outputId": "4b459784-f5d2-4337-ac5c-efab1342a519"
      },
      "outputs": [],
      "source": [
        "len(lista_qualquer[-1])"
      ]
    },
    {
      "cell_type": "code",
      "execution_count": null,
      "metadata": {
        "colab": {
          "base_uri": "https://localhost:8080/"
        },
        "id": "XkHmR-gwp1If",
        "outputId": "36b5a87d-c6d3-49e3-b767-9998e48a50fc"
      },
      "outputs": [],
      "source": [
        "# criar uma lista\n",
        "lista_inicial = []\n",
        "print(lista_inicial)\n",
        "print(type(lista_inicial))"
      ]
    },
    {
      "cell_type": "markdown",
      "metadata": {
        "id": "d7-zXfQY095X"
      },
      "source": [
        "Nós podemos inserir items de diferentes tipos dentro de uma lista."
      ]
    },
    {
      "cell_type": "code",
      "execution_count": null,
      "metadata": {
        "colab": {
          "base_uri": "https://localhost:8080/",
          "height": 35
        },
        "id": "1HpoW6HpqTdf",
        "outputId": "9a08545e-46af-434a-989d-c388c4772cda"
      },
      "outputs": [],
      "source": [
        "# criar uma lista com itens\n",
        "lista_inicial = [\"Carlos\", \"Melo\", 1.88, True]\n",
        "print(lista_inicial)"
      ]
    },
    {
      "cell_type": "markdown",
      "metadata": {
        "id": "PdHQTqo4qe6Z"
      },
      "source": [
        "#### Acessando um elemento\n",
        "\n",
        "Na última célula acima, criamos uma lista `lista_inicial = [\"Carlos\", \"Melo\", 1.88, True]`.\n",
        "\n",
        "Para acessar qualquer elemento dessa lista, precisamos indicar qual o índice referente à posição do mesmo. Lembre-se que o primeiro elemento contém a indexação igual a $0$!\n",
        "\n",
        "| \"Carlos\" | \"Melo\" | 1\\.88 | True |\n",
        "|----------|--------|-------|------|\n",
        "| 0        | 1      | 2     | 3    |\n",
        "| \\-4      | \\-3    | \\-2   | \\-1  |\n",
        "\n",
        "O Python também permite você acessar elementos a partir do último, bastando usar o $-1$ para a última casa e ir subtraindo 1 para as posições anteriores.\n"
      ]
    },
    {
      "cell_type": "code",
      "execution_count": null,
      "metadata": {
        "colab": {
          "base_uri": "https://localhost:8080/",
          "height": 35
        },
        "id": "DlXQkX-brTfG",
        "outputId": "6fded87e-11e0-4d9f-8bf5-168063c64c09"
      },
      "outputs": [],
      "source": [
        "# acessar o elemento \"Melo\"\n",
        "print(lista_inicial[1])"
      ]
    },
    {
      "cell_type": "code",
      "execution_count": null,
      "metadata": {
        "colab": {
          "base_uri": "https://localhost:8080/",
          "height": 35
        },
        "id": "KT-ifEJWsEMN",
        "outputId": "74f82684-209b-4367-b144-1c4c7fe29d13"
      },
      "outputs": [],
      "source": [
        "# acessar o penúltimo elemento\n",
        "print(lista_inicial[-2])"
      ]
    },
    {
      "cell_type": "code",
      "execution_count": null,
      "metadata": {
        "colab": {
          "base_uri": "https://localhost:8080/",
          "height": 191
        },
        "id": "gXInewUcsN92",
        "outputId": "90d22b96-0c67-4dbf-c0df-a39daad15912"
      },
      "outputs": [],
      "source": [
        "# erro ao tentar acessar um valor que não está no range da lista\n",
        "print(lista_inicial[11])"
      ]
    },
    {
      "cell_type": "markdown",
      "metadata": {
        "id": "z-XUhyC6sTp2"
      },
      "source": [
        "#### Fatias de Listas\n",
        "\n",
        "Da mesma maneira que conseguimos \"fatiar\" um string, é possível fatiar uma lista. No caso, fatiar significa acessar itens que estejam dentro de um intervalo considerado.\n",
        "\n",
        "| \"Eduarda\" | \"Estudante\" | 222\\.50 | 433\\.80 | 591\\.66 | 124\\.20 |\n",
        "|-----------|-------------|---------|---------|---------|---------|\n",
        "| 0         | 1           | 2       | 3       | 4       | 5       |\n",
        "| \\-6       | \\-5         | \\-4     | \\-3     | \\-2     | \\-1     |\n",
        "\n",
        "\n",
        "Vamos ver como isso funciona na prática, criando e fatiando uma lista.\n",
        "\n"
      ]
    },
    {
      "cell_type": "code",
      "execution_count": null,
      "metadata": {
        "id": "ru7eNkNfsmBW"
      },
      "outputs": [],
      "source": [
        "# gastos por trimestre\n",
        "cliente = [\"Eduarda\", \"Estudante\", 222.50, 433.80, 591.66, 124.20]"
      ]
    },
    {
      "cell_type": "code",
      "execution_count": null,
      "metadata": {
        "colab": {
          "base_uri": "https://localhost:8080/"
        },
        "id": "01MWzFtHO7vE",
        "outputId": "4ea56b96-525b-410c-a2bc-e5465fae6962"
      },
      "outputs": [],
      "source": [
        "cliente[::-1]"
      ]
    },
    {
      "cell_type": "code",
      "execution_count": null,
      "metadata": {
        "colab": {
          "base_uri": "https://localhost:8080/",
          "height": 35
        },
        "id": "nyVOR6y1uikP",
        "outputId": "9b60b144-0680-4e12-f1de-2af2da5d56be"
      },
      "outputs": [],
      "source": [
        "# acessar as últimas quatro colunas:\n",
        "cliente[2:]"
      ]
    },
    {
      "cell_type": "markdown",
      "metadata": {
        "id": "9C8RsDoXvIIp"
      },
      "source": [
        "#### Verificando se um item pertence à lista\n",
        "\n",
        "É possível checar se um determinado item está ou não em uma lista. Isso pode ser feito usando  `in` ou `not in`, que irão retornar uma resposta booleana.\n"
      ]
    },
    {
      "cell_type": "code",
      "execution_count": null,
      "metadata": {
        "id": "6jW92e0CvTiV"
      },
      "outputs": [],
      "source": [
        "# criar lista de convidados\n",
        "convidados = [\"Ricardo\", \"Aline\", \"Carlos\", \"Mathias\", \"Elaine\"]"
      ]
    },
    {
      "cell_type": "code",
      "execution_count": null,
      "metadata": {
        "colab": {
          "base_uri": "https://localhost:8080/"
        },
        "id": "SK_vx15UvuAR",
        "outputId": "22020223-7fb0-4bd0-d125-031223cd593f"
      },
      "outputs": [],
      "source": [
        "# ver se Elaine está entre os convidados\n",
        "\"Elaine\" in convidados"
      ]
    },
    {
      "cell_type": "code",
      "execution_count": null,
      "metadata": {
        "colab": {
          "base_uri": "https://localhost:8080/"
        },
        "id": "b3HKXn3hvzbv",
        "outputId": "6e1b4a8e-9693-41ed-ff6a-8f5d18c9b297"
      },
      "outputs": [],
      "source": [
        "# confirmar se Pablo não foi convidado\n",
        "\"Pablo\" not in convidados"
      ]
    },
    {
      "cell_type": "markdown",
      "metadata": {
        "id": "GPVP9gy7v-KK"
      },
      "source": [
        "#### Alterar um item da minha lista\n",
        "\n",
        "Uma vez que as listas são mutáveis, é possível acessar um índice e alterar o conteúdo dele."
      ]
    },
    {
      "cell_type": "code",
      "execution_count": null,
      "metadata": {
        "colab": {
          "base_uri": "https://localhost:8080/"
        },
        "id": "gHQy65DawOMY",
        "outputId": "942cc558-da5e-4689-8167-981e0a514baa"
      },
      "outputs": [],
      "source": [
        "# carteira de ações\n",
        "carteira = [\"BBAS3\", \"WEGE3\", \"ITSA4\"]\n",
        "\n",
        "print(carteira)"
      ]
    },
    {
      "cell_type": "code",
      "execution_count": null,
      "metadata": {
        "colab": {
          "base_uri": "https://localhost:8080/"
        },
        "id": "ciCxHvg_xQJQ",
        "outputId": "159b0ddd-5a9d-4478-95cf-c67294716766"
      },
      "outputs": [],
      "source": [
        "# trocar a ITSA4 por PETR4\n",
        "carteira[2] = \"PETR4\"\n",
        "\n",
        "print(carteira)"
      ]
    },
    {
      "cell_type": "code",
      "execution_count": null,
      "metadata": {
        "id": "caJu7OAdQP-8"
      },
      "outputs": [],
      "source": [
        "nome = \"Carlos\""
      ]
    },
    {
      "cell_type": "code",
      "execution_count": null,
      "metadata": {
        "id": "FdKt8utpRC6p"
      },
      "outputs": [],
      "source": [
        "nome = nome.lower()"
      ]
    },
    {
      "cell_type": "code",
      "execution_count": null,
      "metadata": {
        "colab": {
          "base_uri": "https://localhost:8080/",
          "height": 58
        },
        "id": "DahVXTqsRE20",
        "outputId": "f1ac65a3-2ae0-4e3e-8fb9-d9ff11aeffa4"
      },
      "outputs": [],
      "source": [
        "nome"
      ]
    },
    {
      "cell_type": "markdown",
      "metadata": {
        "id": "TwIZYjybxYoS"
      },
      "source": [
        "#### Adicionando ou excluindo itens de listas\n",
        "\n",
        "Para acrescentar um item ao final de uma lista, você pode usar o método `append()`.\n",
        "\n",
        "Para excluir um item, pode ser usado tantos o método `pop()` quanto o `remove()`. A diferença entre eles é que enquanto o primeiro recebe a posição do item como argumento, o segundo considera o próprio valor do item."
      ]
    },
    {
      "cell_type": "code",
      "execution_count": null,
      "metadata": {
        "colab": {
          "base_uri": "https://localhost:8080/"
        },
        "id": "FUhuWPjbXinF",
        "outputId": "03e177c8-87ab-4fab-e604-a32fe973edfe"
      },
      "outputs": [],
      "source": [
        "# Acrescentar \"Ana Cristina\" à lista\n",
        "convidados = [\"Ricardo\", \"Aline\", \"Carlos\", \"Mathias\", \"Elaine\"]\n",
        "\n",
        "convidados.append(\"Ana Cristina\")\n",
        "print(convidados)"
      ]
    },
    {
      "cell_type": "code",
      "execution_count": null,
      "metadata": {
        "colab": {
          "base_uri": "https://localhost:8080/"
        },
        "id": "z_xe0mqxYCsB",
        "outputId": "7793ec66-acf9-4a91-d0f3-44feb35ea181"
      },
      "outputs": [],
      "source": [
        "# Excluir o primeiro convidado da lista\n",
        "\n",
        "convidados.pop(0)\n",
        "print(convidados)"
      ]
    },
    {
      "cell_type": "code",
      "execution_count": null,
      "metadata": {
        "colab": {
          "base_uri": "https://localhost:8080/",
          "height": 239
        },
        "id": "JXcna8deYN8-",
        "outputId": "4a386dbc-c3e9-4088-ef5e-fa1af9e1a920"
      },
      "outputs": [],
      "source": [
        "# Excluir o \"Carlos\" dos convidados\n",
        "\n",
        "convidados.remove(\"Carlos\")\n",
        "print(convidados)"
      ]
    },
    {
      "cell_type": "markdown",
      "metadata": {
        "id": "pe1CwQkj32wD"
      },
      "source": [
        "## Exercícios\n",
        "\n",
        "Listas serão usadas com frequência quandon lidamos com Python, por isso, estar afiado na manipulação desse tipo de dados é essencial.\n",
        "\n",
        "Por isso, vamos praticar!\n",
        "\n",
        "\n",
        "<center><img width=\"50%\" src=\"https://image.freepik.com/free-photo/rear-view-programmer-working-all-night-long_1098-18697.jpg\"></center>"
      ]
    },
    {
      "cell_type": "markdown",
      "metadata": {
        "id": "3gEUUe6Y3yrm"
      },
      "source": [
        "### Exercício 1\n",
        "\n",
        "Crie uma lista que contenha o nome de 5 frutas."
      ]
    },
    {
      "cell_type": "code",
      "execution_count": null,
      "metadata": {
        "id": "5t-rhQ6A4MBm"
      },
      "outputs": [],
      "source": [
        "# resposta"
      ]
    },
    {
      "cell_type": "code",
      "execution_count": null,
      "metadata": {
        "cellView": "form",
        "id": "1jM5kDZzYSmk"
      },
      "outputs": [],
      "source": [
        "#@title Solução\n",
        "frutas = ['Banana', 'Uva', 'Maçã', 'Abacaxi', 'Kiwi']\n",
        "print(frutas)"
      ]
    },
    {
      "cell_type": "markdown",
      "metadata": {
        "id": "pRZ7HSR94Nfv"
      },
      "source": [
        "#### Exercício 2\n",
        "\n",
        "Adicione à sua lista de frutas:\n",
        "\n",
        "* Uma sexta fruta\n",
        "* Um objeto de tipo `int`\n",
        "* Um objeto de tipo `float`"
      ]
    },
    {
      "cell_type": "code",
      "execution_count": null,
      "metadata": {
        "id": "fGSZ0vk15nz7"
      },
      "outputs": [],
      "source": [
        "# resposta\n"
      ]
    },
    {
      "cell_type": "code",
      "execution_count": null,
      "metadata": {
        "cellView": "form",
        "id": "vwOeRQVm4KmF"
      },
      "outputs": [],
      "source": [
        "#@title Solução\n",
        "# adicionando a fruta\n",
        "frutas.append('Melancia')\n",
        "\n",
        "# adicionando o int\n",
        "frutas.append(5)\n",
        "\n",
        "#adicionando o float\n",
        "frutas.append(5.0)\n",
        "\n",
        "# verificando o resultado\n",
        "print(frutas)"
      ]
    },
    {
      "cell_type": "markdown",
      "metadata": {
        "id": "JXcfIWvF5pN7"
      },
      "source": [
        "#### Exercício 3\n",
        "Verifique se os seguintes itens estão na lista:\n",
        "\n",
        "* Maçã\n",
        "* Mamão\n",
        "* 90"
      ]
    },
    {
      "cell_type": "code",
      "execution_count": null,
      "metadata": {
        "id": "KdTbXda84gU3"
      },
      "outputs": [],
      "source": [
        "# resposta\n"
      ]
    },
    {
      "cell_type": "code",
      "execution_count": null,
      "metadata": {
        "cellView": "form",
        "id": "RYtGqwZ8502F"
      },
      "outputs": [],
      "source": [
        "#@title Solução\n",
        "\n",
        "print('A fruta Maçã está na lista? {}'.format('Maçã' in frutas))\n",
        "print('A fruta Mamão está na lista? {}'.format('Mamão' in frutas))\n",
        "print('O número 90 está na lista? {}'.format(90 in frutas))"
      ]
    },
    {
      "cell_type": "markdown",
      "metadata": {
        "id": "F0TYFduV6Q2Z"
      },
      "source": [
        "#### Exercício 4\n",
        "\n",
        "Execute as seguintes tarefas com a sua lista:\n",
        "\n",
        "* Substitua o item no index 2 pelo número `35`.\n",
        "* Remova da lista o item no index 2.\n",
        "* Remova todos os items da lista."
      ]
    },
    {
      "cell_type": "code",
      "execution_count": null,
      "metadata": {
        "id": "PDpkii5p54zt"
      },
      "outputs": [],
      "source": [
        "# resposta\n"
      ]
    },
    {
      "cell_type": "code",
      "execution_count": null,
      "metadata": {
        "cellView": "form",
        "id": "OWlMk6L76k9D"
      },
      "outputs": [],
      "source": [
        "#@title Solução\n",
        "# item 2 da lista antes da alteração\n",
        "print('Item no index 2 antes da alteração: ',frutas[2])\n",
        "\n",
        "# alterando o item no index 2\n",
        "frutas[2] = 35\n",
        "print('Novo item no index 2: ', frutas[2])\n",
        "\n",
        "# removendo o item\n",
        "frutas.pop(2)\n",
        "print('Lista sem o item \"35\": ', frutas)\n",
        "\n",
        "# limpando a lista\n",
        "frutas.clear()\n",
        "print('Lista vazia: ', frutas)"
      ]
    },
    {
      "cell_type": "code",
      "execution_count": null,
      "metadata": {
        "id": "SmO3yUGZU9hv"
      },
      "outputs": [],
      "source": [
        "import pandas as pd"
      ]
    },
    {
      "cell_type": "code",
      "execution_count": null,
      "metadata": {
        "id": "cI3K9HWjVAF4"
      },
      "outputs": [],
      "source": [
        "df = pd.read_csv(\"https://raw.githubusercontent.com/carlosfab/escola-data-science/master/datasets/electricity_consumption/Electric_Production.csv\")"
      ]
    },
    {
      "cell_type": "code",
      "execution_count": null,
      "metadata": {
        "colab": {
          "base_uri": "https://localhost:8080/",
          "height": 226
        },
        "id": "SvR3zLbeVMNj",
        "outputId": "5a41a1e0-58fe-480c-97a3-48a71f639fa2"
      },
      "outputs": [],
      "source": [
        "df.head()"
      ]
    },
    {
      "cell_type": "code",
      "execution_count": null,
      "metadata": {
        "colab": {
          "base_uri": "https://localhost:8080/"
        },
        "id": "04SuTYXFVd7e",
        "outputId": "97079412-c96c-4f28-fdc6-1b1f2a288bd8"
      },
      "outputs": [],
      "source": [
        "df.info()"
      ]
    },
    {
      "cell_type": "code",
      "execution_count": null,
      "metadata": {
        "id": "Hva_wHRYVTQu"
      },
      "outputs": [],
      "source": [
        "df = pd.DataFrame([[4, 9]] * 3, columns=['A', 'B'])"
      ]
    },
    {
      "cell_type": "code",
      "execution_count": null,
      "metadata": {
        "colab": {
          "base_uri": "https://localhost:8080/",
          "height": 164
        },
        "id": "m__uJRqNVrAN",
        "outputId": "5f23be95-8a30-4d3e-85ef-aa16d825b65c"
      },
      "outputs": [],
      "source": [
        "df"
      ]
    }
  ],
  "metadata": {
    "colab": {
      "provenance": []
    },
    "kernelspec": {
      "display_name": "Python 3",
      "name": "python3"
    },
    "language_info": {
      "codemirror_mode": {
        "name": "ipython",
        "version": 3
      },
      "file_extension": ".py",
      "mimetype": "text/x-python",
      "name": "python",
      "nbconvert_exporter": "python",
      "pygments_lexer": "ipython3",
      "version": "3.11.5"
    }
  },
  "nbformat": 4,
  "nbformat_minor": 0
}
