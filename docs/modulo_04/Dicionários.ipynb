{
  "cells": [
    {
      "cell_type": "markdown",
      "metadata": {
        "id": "xkin5RCOr8Ds"
      },
      "source": [
        "<img alt=\"Colaboratory logo\" width=\"15%\" src=\"https://raw.githubusercontent.com/carlosfab/escola-data-science/master/img/novo_logo_bg_claro.png\">\n",
        "\n",
        "\n",
        "---\n",
        "\n",
        "# Dicionários\n",
        "\n",
        "Dicionários também são um tipo de dados que podem ser mudados. No entanto, diferentemente das listas, os dicionários fazem uma espécie de mapeamento entre \"Chaves\" e \"Valores\".\n",
        "\n",
        "<center><img width=\"65%\" src=\"https://developers.google.com/edu/python/images/dict.png\"></center>\n",
        "\n",
        "Vale ressaltar que as chaves dos dicionários podem ser não apenas de strings, mas de outros tipos, como inteiros.\n",
        "\n",
        "Para criar um dicionário, vamos usar as chaves `{}`."
      ]
    },
    {
      "cell_type": "code",
      "execution_count": 1,
      "metadata": {
        "id": "bLMqp1UaxCkQ"
      },
      "outputs": [],
      "source": [
        "# criando um dicionário vazio\n",
        "meu_dict = {}"
      ]
    },
    {
      "cell_type": "code",
      "execution_count": 2,
      "metadata": {
        "colab": {
          "base_uri": "https://localhost:8080/"
        },
        "id": "TIa-NF7HxHzL",
        "outputId": "7ffce277-7d60-4971-98c7-84b18aa54715"
      },
      "outputs": [
        {
          "data": {
            "text/plain": [
              "dict"
            ]
          },
          "execution_count": 2,
          "metadata": {},
          "output_type": "execute_result"
        }
      ],
      "source": [
        "# verificando o tipo\n",
        "type(meu_dict)"
      ]
    },
    {
      "cell_type": "code",
      "execution_count": 4,
      "metadata": {
        "id": "WYU1oc2pxJJG"
      },
      "outputs": [],
      "source": [
        "# criando um dicionário com itens\n",
        "exemplo = {\n",
        "    \"Carlos\": 35,\n",
        "    \"Theo\": 1,\n",
        "    \"Fernanda\": 29\n",
        "}"
      ]
    },
    {
      "cell_type": "code",
      "execution_count": 5,
      "metadata": {
        "colab": {
          "base_uri": "https://localhost:8080/"
        },
        "id": "RYdhnPCndyAg",
        "outputId": "d5f1b694-8abd-4c0f-8dde-986cc6abe7ab"
      },
      "outputs": [
        {
          "data": {
            "text/plain": [
              "{'Carlos': 35, 'Theo': 1, 'Fernanda': 29}"
            ]
          },
          "execution_count": 5,
          "metadata": {},
          "output_type": "execute_result"
        }
      ],
      "source": [
        "# verificando o dicionário\n",
        "exemplo"
      ]
    },
    {
      "cell_type": "code",
      "execution_count": 6,
      "metadata": {
        "colab": {
          "base_uri": "https://localhost:8080/"
        },
        "id": "mtWthU0V7yQK",
        "outputId": "05134c9e-ca8d-4f7b-ebea-8c11f189791a"
      },
      "outputs": [
        {
          "data": {
            "text/plain": [
              "dict_keys(['Carlos', 'Theo', 'Fernanda'])"
            ]
          },
          "execution_count": 6,
          "metadata": {},
          "output_type": "execute_result"
        }
      ],
      "source": [
        "exemplo.keys()"
      ]
    },
    {
      "cell_type": "markdown",
      "metadata": {
        "id": "FeuEeMuFmeIe"
      },
      "source": [
        "Para acessar os valores por chave, chamamos o nome do dicionário, e colocamos entre colchetes o nome da chave entre aspas, simples ou duplas."
      ]
    },
    {
      "cell_type": "code",
      "execution_count": 7,
      "metadata": {
        "id": "Tj4_SHeid66G"
      },
      "outputs": [
        {
          "data": {
            "text/plain": [
              "dict_keys(['Carlos', 'Theo', 'Fernanda'])"
            ]
          },
          "execution_count": 7,
          "metadata": {},
          "output_type": "execute_result"
        }
      ],
      "source": [
        "# verificando as chaves\n",
        "exemplo.keys()"
      ]
    },
    {
      "cell_type": "code",
      "execution_count": 8,
      "metadata": {
        "id": "ZNEwJIBXxYoi"
      },
      "outputs": [
        {
          "data": {
            "text/plain": [
              "1"
            ]
          },
          "execution_count": 8,
          "metadata": {},
          "output_type": "execute_result"
        }
      ],
      "source": [
        "# acessando a idade do Theo\n",
        "exemplo[\"Theo\"]"
      ]
    },
    {
      "cell_type": "markdown",
      "metadata": {
        "id": "sy1mInismuxu"
      },
      "source": [
        "Para adicionar itens novo ao nosso Dicionário, chamamos o nome do dicionário, o nome da nova chave entre aspas dentro dos colchetes, e associamos um valor a essa chave."
      ]
    },
    {
      "cell_type": "code",
      "execution_count": 9,
      "metadata": {
        "colab": {
          "base_uri": "https://localhost:8080/"
        },
        "id": "aJS5qCYIeRHy",
        "outputId": "c078ac96-a433-4402-e9e6-86c13dc02623"
      },
      "outputs": [
        {
          "data": {
            "text/plain": [
              "{'Carlos': 35, 'Theo': 1, 'Fernanda': 29}"
            ]
          },
          "execution_count": 9,
          "metadata": {},
          "output_type": "execute_result"
        }
      ],
      "source": [
        "exemplo"
      ]
    },
    {
      "cell_type": "code",
      "execution_count": 10,
      "metadata": {
        "colab": {
          "base_uri": "https://localhost:8080/"
        },
        "id": "jIS0XcvUxeDW",
        "outputId": "f5034d8f-0de8-43af-c00f-6c93ffa4b37e"
      },
      "outputs": [
        {
          "name": "stdout",
          "output_type": "stream",
          "text": [
            "{'Carlos': 35, 'Theo': 1, 'Fernanda': 29, 'Raquel': 1}\n"
          ]
        }
      ],
      "source": [
        "# adicionando itens\n",
        "exemplo[\"Raquel\"] = 1\n",
        "\n",
        "print(exemplo)"
      ]
    },
    {
      "cell_type": "code",
      "execution_count": 11,
      "metadata": {
        "colab": {
          "base_uri": "https://localhost:8080/"
        },
        "id": "fbYUH5Z1eLXX",
        "outputId": "f3a88b2e-ffc6-46c3-cfd4-3e72ba905577"
      },
      "outputs": [
        {
          "data": {
            "text/plain": [
              "1"
            ]
          },
          "execution_count": 11,
          "metadata": {},
          "output_type": "execute_result"
        }
      ],
      "source": [
        "# acessando a idade do Raquel\n",
        "exemplo[\"Raquel\"]"
      ]
    },
    {
      "cell_type": "markdown",
      "metadata": {
        "id": "byuAwemCm_2h"
      },
      "source": [
        "Caso quisermos excluir a partir de uma chave, basta utilizar o método pop().\n",
        "\n",
        "> dicionário.pop(\"chave\")"
      ]
    },
    {
      "cell_type": "code",
      "execution_count": 12,
      "metadata": {
        "colab": {
          "base_uri": "https://localhost:8080/"
        },
        "id": "DeEipv4Px3a5",
        "outputId": "32de0001-0756-4f90-d45c-364b4c3ab1a9"
      },
      "outputs": [
        {
          "name": "stdout",
          "output_type": "stream",
          "text": [
            "{'Carlos': 35, 'Theo': 1, 'Fernanda': 29}\n"
          ]
        }
      ],
      "source": [
        "# excluindo itens\n",
        "exemplo.pop(\"Raquel\")\n",
        "\n",
        "print(exemplo)"
      ]
    },
    {
      "cell_type": "markdown",
      "metadata": {
        "id": "Siss-kCJn2I1"
      },
      "source": [
        "Para alterar itens, o processo é igual ao da criação de chaves.\n",
        "\n",
        "Entretanto, usamos uma chave já existente, e indicamos um novo valor a ela."
      ]
    },
    {
      "cell_type": "code",
      "execution_count": 13,
      "metadata": {
        "colab": {
          "base_uri": "https://localhost:8080/"
        },
        "id": "vAiZYbr_yBLn",
        "outputId": "70464cc0-d24b-48fe-cceb-db7bf6d5fe0c"
      },
      "outputs": [
        {
          "name": "stdout",
          "output_type": "stream",
          "text": [
            "{'Carlos': 35, 'Theo': 2, 'Fernanda': 29}\n"
          ]
        }
      ],
      "source": [
        "# alterando item\n",
        "exemplo[\"Theo\"] = 2\n",
        "\n",
        "print(exemplo)"
      ]
    },
    {
      "cell_type": "markdown",
      "metadata": {
        "id": "EQL6H-BDoefh"
      },
      "source": [
        "## Mais Alguns Detalhes Sobre Dicionários\n",
        "\n",
        "Precisamos nos atentar para alguns detalhes quando estamos lidando com dicionários.\n",
        "\n",
        "Um deles é que não podemos ter duas chaves com o mesmo nome. Nós já vimos que caso usemos o nome de um chave já existente e associarmos a ela valor diferente, ele irá atualizar a chave, e não duplicá-la.\n",
        "\n",
        "Enquanto isso, os valores não possuem restrições, podendo ser qualquer tipo de dados."
      ]
    },
    {
      "cell_type": "markdown",
      "metadata": {
        "id": "Y3aj6z2TpMCQ"
      },
      "source": [
        "## Funções *Built-in*\n",
        "Dicionários possuem algumas funções nativas.\n",
        "\n",
        "Acima, já vimos o pop() para excluir itens. Vamos ver algumas outras agora."
      ]
    },
    {
      "cell_type": "markdown",
      "metadata": {
        "id": "4NVFhmkXp0nv"
      },
      "source": [
        "### .get()\n",
        "A função `.get()` nos permite buscar o valor de uma determinada chave."
      ]
    },
    {
      "cell_type": "code",
      "execution_count": 14,
      "metadata": {
        "id": "vlsPf6CV_Tcr"
      },
      "outputs": [],
      "source": [
        "dsnp = {\n",
        "    \"carlos@sigmoidal.ai\": {\n",
        "        \"date\":\"2022-11-09\",\n",
        "        \"url\": \"https://escola.sigmodial.ai/o-plano-perfeito?qualquercoisa&qualqueroutracoisa\",\n",
        "        \"status\": \"Preencheu cadastro\"\n",
        "    },\n",
        "    \"fernanda@sigmoidal.ai\": []\n",
        "}"
      ]
    },
    {
      "cell_type": "code",
      "execution_count": 15,
      "metadata": {
        "id": "PqFIqak8_dCZ"
      },
      "outputs": [],
      "source": [
        "dsnp.get('carlos.fab@gmail.com')"
      ]
    },
    {
      "cell_type": "code",
      "execution_count": 16,
      "metadata": {
        "colab": {
          "base_uri": "https://localhost:8080/"
        },
        "id": "-yocMmxYAr2i",
        "outputId": "a906256e-d154-486e-e133-b3c5743b65aa"
      },
      "outputs": [
        {
          "data": {
            "text/plain": [
              "{'carlos@sigmoidal.ai': {'date': '2022-11-09',\n",
              "  'url': 'https://escola.sigmodial.ai/o-plano-perfeito?qualquercoisa&qualqueroutracoisa',\n",
              "  'status': 'Preencheu cadastro'},\n",
              " 'fernanda@sigmoidal.ai': []}"
            ]
          },
          "execution_count": 16,
          "metadata": {},
          "output_type": "execute_result"
        }
      ],
      "source": [
        "dsnp"
      ]
    },
    {
      "cell_type": "code",
      "execution_count": null,
      "metadata": {
        "colab": {
          "base_uri": "https://localhost:8080/"
        },
        "id": "VLQsm28OAHRN",
        "outputId": "f5fe2556-1f8c-4750-97d4-29c71ba41529"
      },
      "outputs": [],
      "source": [
        "dsnp['carlos@sigmoidal.ai']"
      ]
    },
    {
      "cell_type": "code",
      "execution_count": 17,
      "metadata": {
        "id": "5mk2xm43fDId"
      },
      "outputs": [
        {
          "data": {
            "text/plain": [
              "2"
            ]
          },
          "execution_count": 17,
          "metadata": {},
          "output_type": "execute_result"
        }
      ],
      "source": [
        "exemplo[\"Theo\"]"
      ]
    },
    {
      "cell_type": "code",
      "execution_count": 18,
      "metadata": {
        "id": "Lyj0fNLTyHdS"
      },
      "outputs": [
        {
          "data": {
            "text/plain": [
              "2"
            ]
          },
          "execution_count": 18,
          "metadata": {},
          "output_type": "execute_result"
        }
      ],
      "source": [
        "# get()\n",
        "# exemplo[\"Theo\"]\n",
        "exemplo.get('Theo')"
      ]
    },
    {
      "cell_type": "code",
      "execution_count": 19,
      "metadata": {
        "id": "8KL1xYOFBRDU"
      },
      "outputs": [
        {
          "ename": "TypeError",
          "evalue": "unbound method dict.get() needs an argument",
          "output_type": "error",
          "traceback": [
            "\u001b[1;31m---------------------------------------------------------------------------\u001b[0m",
            "\u001b[1;31mTypeError\u001b[0m                                 Traceback (most recent call last)",
            "\u001b[1;32mc:\\Github\\sigmoidal-bootcamp-python\\docs\\modulo_04\\Dicionários.ipynb Célula 27\u001b[0m line \u001b[0;36m1\n\u001b[1;32m----> <a href='vscode-notebook-cell:/c%3A/Github/sigmoidal-bootcamp-python/docs/modulo_04/Dicion%C3%A1rios.ipynb#X35sZmlsZQ%3D%3D?line=0'>1</a>\u001b[0m \u001b[39mdict\u001b[39;49m\u001b[39m.\u001b[39;49mget()\n",
            "\u001b[1;31mTypeError\u001b[0m: unbound method dict.get() needs an argument"
          ]
        }
      ],
      "source": [
        "dict.get()"
      ]
    },
    {
      "cell_type": "markdown",
      "metadata": {
        "id": "IOSgW9ieqAU4"
      },
      "source": [
        "### .items()\n",
        "\n",
        "Esta função lista todas as chaves e items do nosso dicionário.\n"
      ]
    },
    {
      "cell_type": "code",
      "execution_count": 20,
      "metadata": {
        "colab": {
          "base_uri": "https://localhost:8080/"
        },
        "id": "JWLVTxwZqAAi",
        "outputId": "225368f3-d9c2-4ea1-dc9f-2fd41365439d"
      },
      "outputs": [
        {
          "data": {
            "text/plain": [
              "dict_items([('Carlos', 35), ('Theo', 2), ('Fernanda', 29)])"
            ]
          },
          "execution_count": 20,
          "metadata": {},
          "output_type": "execute_result"
        }
      ],
      "source": [
        "# items()\n",
        "exemplo.items()"
      ]
    },
    {
      "cell_type": "markdown",
      "metadata": {
        "id": "mwAC2HyiqPIY"
      },
      "source": [
        "### .keys()\n",
        "Se na função anterior nós buscamos as chaves e valores, aqui vamos pegar apenas as chaves do nosso dicionário."
      ]
    },
    {
      "cell_type": "code",
      "execution_count": 21,
      "metadata": {
        "id": "-MNhP4Iep9_O"
      },
      "outputs": [
        {
          "data": {
            "text/plain": [
              "dict_keys(['Carlos', 'Theo', 'Fernanda'])"
            ]
          },
          "execution_count": 21,
          "metadata": {},
          "output_type": "execute_result"
        }
      ],
      "source": [
        "# keys()\n",
        "exemplo.keys()"
      ]
    },
    {
      "cell_type": "markdown",
      "metadata": {
        "id": "BbLfyK9Eqgut"
      },
      "source": [
        "### .values()\n",
        "Esta função retorna os valores do nosso dicionário."
      ]
    },
    {
      "cell_type": "code",
      "execution_count": 22,
      "metadata": {
        "id": "njXHJA27qe_R"
      },
      "outputs": [
        {
          "data": {
            "text/plain": [
              "dict_values([35, 2, 29])"
            ]
          },
          "execution_count": 22,
          "metadata": {},
          "output_type": "execute_result"
        }
      ],
      "source": [
        "# values()\n",
        "exemplo.values()"
      ]
    },
    {
      "cell_type": "markdown",
      "metadata": {
        "id": "ReBLt9i2qt8c"
      },
      "source": [
        "### .pop() / .popitem()\n",
        "Acima, nós já vimos como usar o pop. Indicamos a chave que queremos retirar, e ela é retirada.\n",
        "\n",
        "Usando a função .popitem() nós excluímos a última chave do dicionário."
      ]
    },
    {
      "cell_type": "code",
      "execution_count": 23,
      "metadata": {
        "id": "GYPNbw_OqpTf"
      },
      "outputs": [
        {
          "name": "stdout",
          "output_type": "stream",
          "text": [
            "Dicionário original:  {'Carlos': 35, 'Theo': 2, 'Fernanda': 29}\n",
            "Dicionário após o popitem():  {'Carlos': 35, 'Theo': 2}\n"
          ]
        }
      ],
      "source": [
        "# popitem()\n",
        "print('Dicionário original: ',exemplo)\n",
        "exemplo.popitem()\n",
        "print('Dicionário após o popitem(): ',exemplo)"
      ]
    },
    {
      "cell_type": "markdown",
      "metadata": {
        "id": "xz2xbNchrN84"
      },
      "source": [
        "### .update()\n",
        "Essa função é usada para juntar dois dicionários.\n",
        "\n",
        "* Caso a chave não esteja presente no primeiro dicionário, ela será adicionada.\n",
        "* Caso a chave já exista no primeiro dicionário, ela terá seu valor substituído pelo valor da chave correspondente no segundo dicionário.\n",
        "\n",
        "Como podemos ver abaixo, criamos dois dicionários, e o resultado foi:\n",
        "* A chave `Snow` não existia no d1, e foi adicionada a ele.\n",
        "* A chave `Theo` teve seu valor atualizado de 1 para 2.\n",
        "* A chave `Fernanda` estava presente com o mesmo valor em ambos dicionários, e, portanto, não sofreu alteração."
      ]
    },
    {
      "cell_type": "code",
      "execution_count": 24,
      "metadata": {
        "colab": {
          "base_uri": "https://localhost:8080/"
        },
        "id": "tNv2hQc-rGCZ",
        "outputId": "5c740324-c549-4651-ebe0-19478bf1b1de"
      },
      "outputs": [
        {
          "name": "stdout",
          "output_type": "stream",
          "text": [
            "Dicionário 1:  {'Carlos': 35, 'Theo': 1, 'Fernanda': 29}\n",
            "Dicionário 2:  {'Snow': 6, 'Theo': 2, 'Fernanda': 29}\n",
            "Dicionário Final:  {'Carlos': 35, 'Theo': 2, 'Fernanda': 29, 'Snow': 6}\n"
          ]
        }
      ],
      "source": [
        "# update()\n",
        "d1={'Carlos':35, 'Theo':1, 'Fernanda':29}\n",
        "print('Dicionário 1: ',d1)\n",
        "\n",
        "d2={'Snow':6, 'Theo':2, 'Fernanda':29}\n",
        "print('Dicionário 2: ',d2)\n",
        "\n",
        "d1.update(d2)\n",
        "print('Dicionário Final: ', d1)"
      ]
    },
    {
      "cell_type": "markdown",
      "metadata": {
        "id": "_DR6mjKLs1sd"
      },
      "source": [
        "### .clear()\n",
        "Por fim, para deixar um dicionário vazio, excluindo todas as suas chaves e valores, utilizamos esta função."
      ]
    },
    {
      "cell_type": "code",
      "execution_count": 25,
      "metadata": {
        "colab": {
          "base_uri": "https://localhost:8080/"
        },
        "id": "LjWNnWxBrvWS",
        "outputId": "b4d66b9c-5ef0-4a18-f9c7-1623c3a4a5c5"
      },
      "outputs": [
        {
          "name": "stdout",
          "output_type": "stream",
          "text": [
            "{}\n"
          ]
        }
      ],
      "source": [
        "# clear()\n",
        "exemplo.clear()\n",
        "print(exemplo)"
      ]
    },
    {
      "cell_type": "markdown",
      "metadata": {
        "id": "hPiZ8VEBtFq_"
      },
      "source": [
        "## Exercícios\n",
        "Agora que já conhecemos os Dicionários, suas propriedades e funções, vamos praticar!\n",
        "\n",
        "<center><img width=\"45%\" src=\"https://image.freepik.com/free-vector/programmer-s-workplace-writing-code-laptop_80328-238.jpg\"></center>"
      ]
    },
    {
      "cell_type": "markdown",
      "metadata": {
        "id": "FIKODpRjtNPc"
      },
      "source": [
        "### Exercício 1\n",
        "Crie um dicionário com os nomes e idades dos membros de sua família."
      ]
    },
    {
      "cell_type": "code",
      "execution_count": null,
      "metadata": {
        "id": "H3RUJm7yrv-o"
      },
      "outputs": [],
      "source": [
        "# resposta\n"
      ]
    },
    {
      "cell_type": "code",
      "execution_count": null,
      "metadata": {
        "cellView": "form",
        "id": "Rs-UcI7MtZ8P"
      },
      "outputs": [],
      "source": [
        "#@title Solução\n",
        "d1={'Carlos':35, 'Theo':1, 'Fernanda':29}"
      ]
    },
    {
      "cell_type": "markdown",
      "metadata": {
        "id": "REgPkNnStgQt"
      },
      "source": [
        "### Exercício 2\n",
        "Exclua o segundo item do dicionário que você acabou de criar."
      ]
    },
    {
      "cell_type": "code",
      "execution_count": null,
      "metadata": {
        "id": "3Ri7VsSAtw2E"
      },
      "outputs": [],
      "source": [
        "# resposta\n"
      ]
    },
    {
      "cell_type": "code",
      "execution_count": null,
      "metadata": {
        "cellView": "form",
        "id": "Lve-1tYyt1OK"
      },
      "outputs": [],
      "source": [
        "#@title Solução\n",
        "d1.pop('Theo')\n",
        "d1"
      ]
    },
    {
      "cell_type": "markdown",
      "metadata": {
        "id": "ilIOX75MuEuJ"
      },
      "source": [
        "### Exercício 3\n",
        "Agora, inclua novamente o item excluído."
      ]
    },
    {
      "cell_type": "code",
      "execution_count": null,
      "metadata": {
        "id": "B8NN5LDqt5dJ"
      },
      "outputs": [],
      "source": [
        "# resposta\n"
      ]
    },
    {
      "cell_type": "code",
      "execution_count": null,
      "metadata": {
        "cellView": "form",
        "id": "qdCcuj-GuJVU"
      },
      "outputs": [],
      "source": [
        "#@title Solução\n",
        "d1['Theo'] = 2\n",
        "d1"
      ]
    },
    {
      "cell_type": "markdown",
      "metadata": {
        "id": "rst8OZY5uSO5"
      },
      "source": [
        "### Exercício 4\n",
        "Agora crie dois dicionários, contendo:\n",
        "* Frutas e seus respectivos preços\n",
        "* Verduras e seus respectivos preços"
      ]
    },
    {
      "cell_type": "code",
      "execution_count": null,
      "metadata": {
        "id": "I19bZBQzuN7i"
      },
      "outputs": [],
      "source": [
        "# resposta\n"
      ]
    },
    {
      "cell_type": "code",
      "execution_count": null,
      "metadata": {
        "cellView": "form",
        "id": "8tv0JGrdukqm"
      },
      "outputs": [],
      "source": [
        "#@title Solução\n",
        "frutas = {'Maçã:':2.00, 'Banana': 1.99, 'Abacaxi':4.99}\n",
        "verduras = {'Alface':1.99, 'Repolho':3.99, 'Couve':1.99}\n",
        "print('Frutas: ', frutas)\n",
        "print('Verduras: ', verduras)"
      ]
    },
    {
      "cell_type": "markdown",
      "metadata": {
        "id": "qO8lki2fyCYM"
      },
      "source": [
        "### Exercício 5\n",
        "Execute os seguintes comandos para manipular os dicionários de `frutas` e `verduras`."
      ]
    },
    {
      "cell_type": "code",
      "execution_count": null,
      "metadata": {
        "id": "BIIToyQbu-9p"
      },
      "outputs": [],
      "source": [
        "# imprima as chaves do dicionário frutas\n"
      ]
    },
    {
      "cell_type": "code",
      "execution_count": null,
      "metadata": {
        "cellView": "form",
        "id": "vQkDuLuIyYU7"
      },
      "outputs": [],
      "source": [
        "#@title Solução\n",
        "frutas.keys()"
      ]
    },
    {
      "cell_type": "code",
      "execution_count": null,
      "metadata": {
        "id": "AZKCgM9kyPPw"
      },
      "outputs": [],
      "source": [
        "# imprima os valores do dicionário verduras\n"
      ]
    },
    {
      "cell_type": "code",
      "execution_count": null,
      "metadata": {
        "cellView": "form",
        "id": "R9xd4_nVybwh"
      },
      "outputs": [],
      "source": [
        "#@title Solução\n",
        "verduras.values()"
      ]
    },
    {
      "cell_type": "code",
      "execution_count": null,
      "metadata": {
        "id": "JKWNSEyDyRnw"
      },
      "outputs": [],
      "source": [
        "# junte os dois dicionários\n"
      ]
    },
    {
      "cell_type": "code",
      "execution_count": null,
      "metadata": {
        "cellView": "form",
        "id": "jNGEDfxBydDR"
      },
      "outputs": [],
      "source": [
        "#@title Solução\n",
        "frutas.update(verduras)\n",
        "print(frutas)"
      ]
    },
    {
      "cell_type": "code",
      "execution_count": null,
      "metadata": {
        "id": "d1G1AgARyUUL"
      },
      "outputs": [],
      "source": [
        "# transforme o dicionário em vazio\n"
      ]
    },
    {
      "cell_type": "code",
      "execution_count": null,
      "metadata": {
        "cellView": "form",
        "id": "n830mVs1yXHo"
      },
      "outputs": [],
      "source": [
        "#@title Solução\n",
        "frutas.clear()\n",
        "frutas"
      ]
    }
  ],
  "metadata": {
    "colab": {
      "provenance": []
    },
    "kernelspec": {
      "display_name": "Python 3",
      "name": "python3"
    },
    "language_info": {
      "codemirror_mode": {
        "name": "ipython",
        "version": 3
      },
      "file_extension": ".py",
      "mimetype": "text/x-python",
      "name": "python",
      "nbconvert_exporter": "python",
      "pygments_lexer": "ipython3",
      "version": "3.11.5"
    }
  },
  "nbformat": 4,
  "nbformat_minor": 0
}
