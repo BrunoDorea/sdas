{
  "cells": [
    {
      "cell_type": "markdown",
      "metadata": {
        "id": "EO0cXXy93Aid"
      },
      "source": [
        "<img alt=\"Colaboratory logo\" width=\"15%\" src=\"https://raw.githubusercontent.com/carlosfab/escola-data-science/master/img/novo_logo_bg_claro.png\">\n",
        "\n",
        "\n",
        "---\n",
        "\n",
        "# Tuplas\n",
        "\n",
        "Tuplas são um outro tipo de estrutura, porém é uma estrutura voltada a sequência ordenada de itens imutáveis.\n",
        "\n",
        "<center><img width=\"45%\" src=\"https://image.freepik.com/free-vector/computer-coding-icons-set_1284-37673.jpg\"></center>\n",
        "\n",
        "Normalmente, são utilizadas para armazenar pedaços de informações que estejam relacionadas.\n",
        "\n",
        "Podem ser acessadas pelo índice, porém não podem ser mudadas. Ou seja, você não consegue alterar, adicionar ou remover itens delas."
      ]
    },
    {
      "cell_type": "code",
      "execution_count": 1,
      "metadata": {
        "id": "MkugBG8j3iiA"
      },
      "outputs": [],
      "source": [
        "# criando uma tupla\n",
        "teste = ()"
      ]
    },
    {
      "cell_type": "code",
      "execution_count": 2,
      "metadata": {
        "colab": {
          "base_uri": "https://localhost:8080/"
        },
        "id": "BcDid6np3kZv",
        "outputId": "c0c81c18-0ea5-4aae-b52c-8cfb8d11dd24"
      },
      "outputs": [
        {
          "data": {
            "text/plain": [
              "tuple"
            ]
          },
          "execution_count": 2,
          "metadata": {},
          "output_type": "execute_result"
        }
      ],
      "source": [
        "# verificando o tipo\n",
        "type(teste)"
      ]
    },
    {
      "cell_type": "markdown",
      "metadata": {
        "id": "ucLboMzRrCAr"
      },
      "source": [
        "Ao criar uma tupla, precisamos levar em consideração que é necessário inserir uma vírgula, mesmo que o intuito seja criar uma lista com um único valor.\n",
        "\n",
        "Já que o Python também entende parênteses como operadores matemáticos, caso tentemos criar uma tupla com um valor sem a vírgula, o Python irá entendê-lo como um objeto do tipo `int`.\n",
        "\n",
        "Apesar dessa não ser uma operação comum, agora você saberá como proceder caso seja necessário."
      ]
    },
    {
      "cell_type": "code",
      "execution_count": 3,
      "metadata": {
        "colab": {
          "base_uri": "https://localhost:8080/"
        },
        "id": "2UuR4OsDKnMr",
        "outputId": "92206b67-b3cc-4e4a-92c1-956c66a9813a"
      },
      "outputs": [
        {
          "data": {
            "text/plain": [
              "tuple"
            ]
          },
          "execution_count": 3,
          "metadata": {},
          "output_type": "execute_result"
        }
      ],
      "source": [
        "t = (2,)\n",
        "type(t)"
      ]
    },
    {
      "cell_type": "code",
      "execution_count": 4,
      "metadata": {
        "colab": {
          "base_uri": "https://localhost:8080/"
        },
        "id": "WT0C8zfIrWZF",
        "outputId": "eb41c96d-5a1e-4e99-dbf0-d6159f983c35"
      },
      "outputs": [
        {
          "data": {
            "text/plain": [
              "int"
            ]
          },
          "execution_count": 4,
          "metadata": {},
          "output_type": "execute_result"
        }
      ],
      "source": [
        "# tentando criar uma tupla sem vírgula\n",
        "t = (2)\n",
        "type(t)"
      ]
    },
    {
      "cell_type": "code",
      "execution_count": 5,
      "metadata": {
        "colab": {
          "base_uri": "https://localhost:8080/"
        },
        "id": "y5p-_WWWrWTq",
        "outputId": "b73e1099-3277-489c-a081-e75992173b49"
      },
      "outputs": [
        {
          "data": {
            "text/plain": [
              "tuple"
            ]
          },
          "execution_count": 5,
          "metadata": {},
          "output_type": "execute_result"
        }
      ],
      "source": [
        "# criando tupla de um valor, com a vírgula\n",
        "t = (2,)\n",
        "type(t)"
      ]
    },
    {
      "cell_type": "code",
      "execution_count": 9,
      "metadata": {
        "colab": {
          "base_uri": "https://localhost:8080/",
          "height": 258
        },
        "id": "gs_Prmg63lBn",
        "outputId": "bfe18a0c-da52-4812-d4bc-64d17f88f8a5"
      },
      "outputs": [
        {
          "name": "stdout",
          "output_type": "stream",
          "text": [
            "(18, 28, 10)\n"
          ]
        }
      ],
      "source": [
        "# exemplos das dimensões de uma caixa\n",
        "caixa_sapato = (18, 28, 10)\n",
        "\n",
        "print(caixa_sapato)"
      ]
    },
    {
      "cell_type": "code",
      "execution_count": 11,
      "metadata": {
        "colab": {
          "base_uri": "https://localhost:8080/"
        },
        "id": "Nrxc_o1jLhWg",
        "outputId": "0f335fd2-d0f3-4753-a386-9e337c32749f"
      },
      "outputs": [
        {
          "name": "stdout",
          "output_type": "stream",
          "text": [
            "[18, 28, 10]\n"
          ]
        }
      ],
      "source": [
        "caixa_sapato = [18, 28, 10]\n",
        "\n",
        "print(caixa_sapato)"
      ]
    },
    {
      "cell_type": "code",
      "execution_count": 12,
      "metadata": {
        "colab": {
          "base_uri": "https://localhost:8080/"
        },
        "id": "XuWDce6sLt3e",
        "outputId": "38724a1e-4a74-403c-85ca-2cd857402927"
      },
      "outputs": [
        {
          "name": "stdout",
          "output_type": "stream",
          "text": [
            "[3, 28, 10]\n"
          ]
        }
      ],
      "source": [
        "caixa_sapato[0] = 3\n",
        "print(caixa_sapato)"
      ]
    },
    {
      "cell_type": "markdown",
      "metadata": {
        "id": "fakBYwPhpBH8"
      },
      "source": [
        "Também podemos associar variáveis a cada valor de uma tupla.\n",
        "\n",
        "Além disso, uma tupla pode ter quantos valores forem necessários."
      ]
    },
    {
      "cell_type": "code",
      "execution_count": 13,
      "metadata": {
        "id": "8QTCwe3X3s02"
      },
      "outputs": [],
      "source": [
        "# latitude e longitude de brasilia\n",
        "brasilia = (-15.77, -47.92)"
      ]
    },
    {
      "cell_type": "code",
      "execution_count": 14,
      "metadata": {
        "id": "47imrEWKMHC4"
      },
      "outputs": [],
      "source": [
        "lat, lon = brasilia"
      ]
    },
    {
      "cell_type": "code",
      "execution_count": 15,
      "metadata": {
        "colab": {
          "base_uri": "https://localhost:8080/"
        },
        "id": "eTbFlzZo3-5W",
        "outputId": "823600ae-4d9b-45c6-bb46-064e047ab2e5"
      },
      "outputs": [
        {
          "name": "stdout",
          "output_type": "stream",
          "text": [
            "Latitude: -15.77\n",
            "Longitude: -47.92\n",
            "\n",
            "\n",
            " (-15.77, -47.92)\n"
          ]
        }
      ],
      "source": [
        "print(\"Latitude:\", lat)\n",
        "print(\"Longitude:\", lon)\n",
        "\n",
        "print(\"\\n\\n\", brasilia)"
      ]
    },
    {
      "cell_type": "code",
      "execution_count": 16,
      "metadata": {
        "id": "8gSNwosPMOXb"
      },
      "outputs": [],
      "source": [
        "def get_coordinates(city):\n",
        "    # codigo\n",
        "    return lat, lon"
      ]
    },
    {
      "cell_type": "markdown",
      "metadata": {
        "id": "K7IPoLy_p0zW"
      },
      "source": [
        "### Se tuplas são imutáveis, por que usá-las ao invés de listas?\n",
        "\n",
        "Pode parece estranho criarmos um objeto que não pode ser modificado, mas apesar dessa desvantagem em relação às listas, existem vantagens para o uso das tuplas, como por exemplo:\n",
        "\n",
        "* A execução de um programa é mais rápida ao maniuplar tuplas do que seu equivalente em formato de lista. De qualquer forma, isso não será perceptível caso sejam muito pequenas.\n",
        "* Às vezes nós **não queremos** que os dados sejam modificados. Se uma coleção de valores precisam se manter constantes por todo o ciclo do programa, usar tuplas ao invés de listas proporciona mais segurança contra modificação acidental.\n",
        "* Ao utilizar dicionários, podemos ter dentro deles tuplas, que serão imutáveis, carregando para os dicionários os benefícios do ponto anterior, quando comparamos com as listas."
      ]
    },
    {
      "cell_type": "markdown",
      "metadata": {
        "id": "SDyrNtn-pseJ"
      },
      "source": [
        "Apesar de sua imutabilidade, nós podemos acessá-las e explorá-las.\n",
        "\n",
        "Além disso, tuplas podem conter qualquer tipo de dados, como `int`, `float` e `string`.\n",
        "\n"
      ]
    },
    {
      "cell_type": "code",
      "execution_count": 17,
      "metadata": {
        "id": "b8ODK6rfjdLG"
      },
      "outputs": [],
      "source": [
        "coordenadas = {\n",
        "    \"Brasília\": (15.76, 47.92),\n",
        "    \"São Paulo\": (16.41, 46.75),\n",
        "    \"Araraquara\": (18.21, 47.21)\n",
        "}"
      ]
    },
    {
      "cell_type": "code",
      "execution_count": 18,
      "metadata": {
        "id": "f3zTU8j3NApD"
      },
      "outputs": [],
      "source": [
        "clientes = {\n",
        "    1: (\"Carlos\", \"Melo\", 37, \"2.5\"),\n",
        "    2: (\"Daniel\", \"Duarte\", 21, \"3.2\")\n",
        "}"
      ]
    },
    {
      "cell_type": "code",
      "execution_count": 19,
      "metadata": {
        "colab": {
          "base_uri": "https://localhost:8080/"
        },
        "id": "h5bNVE_XNWxa",
        "outputId": "d52523b8-1912-47c0-f794-a25e1ed07e43"
      },
      "outputs": [
        {
          "data": {
            "text/plain": [
              "('Carlos', 'Melo', 37, '2.5')"
            ]
          },
          "execution_count": 19,
          "metadata": {},
          "output_type": "execute_result"
        }
      ],
      "source": [
        "clientes[1]"
      ]
    },
    {
      "cell_type": "code",
      "execution_count": 20,
      "metadata": {
        "colab": {
          "base_uri": "https://localhost:8080/"
        },
        "id": "xNrswHFujsol",
        "outputId": "c0550b59-0e9e-4e83-df73-a4c38683ba08"
      },
      "outputs": [
        {
          "data": {
            "text/plain": [
              "dict"
            ]
          },
          "execution_count": 20,
          "metadata": {},
          "output_type": "execute_result"
        }
      ],
      "source": [
        "type(coordenadas)"
      ]
    },
    {
      "cell_type": "code",
      "execution_count": 21,
      "metadata": {
        "colab": {
          "base_uri": "https://localhost:8080/"
        },
        "id": "EMXISzOmj9S4",
        "outputId": "b220b7d6-86c8-4d71-cfbb-4ca8f318e40f"
      },
      "outputs": [
        {
          "data": {
            "text/plain": [
              "tuple"
            ]
          },
          "execution_count": 21,
          "metadata": {},
          "output_type": "execute_result"
        }
      ],
      "source": [
        "type(coordenadas[\"Brasília\"])"
      ]
    },
    {
      "cell_type": "code",
      "execution_count": 22,
      "metadata": {
        "id": "L8Pj0o3C4HO1"
      },
      "outputs": [
        {
          "data": {
            "text/plain": [
              "tuple"
            ]
          },
          "execution_count": 22,
          "metadata": {},
          "output_type": "execute_result"
        }
      ],
      "source": [
        "# tupla de strings\n",
        "estados = ('Rio de Janeiro', 'São Paulo', 'Minas Gerais')\n",
        "type(estados)"
      ]
    },
    {
      "cell_type": "markdown",
      "metadata": {
        "id": "UzyFxcPGsEjt"
      },
      "source": [
        "Cada item dentro da tupla, possui um índice, que pode ser acessado."
      ]
    },
    {
      "cell_type": "code",
      "execution_count": 23,
      "metadata": {
        "id": "4vVXgqRxr_Mx"
      },
      "outputs": [
        {
          "name": "stdout",
          "output_type": "stream",
          "text": [
            "Rio de Janeiro\n",
            "Minas Gerais\n"
          ]
        }
      ],
      "source": [
        "# acessando o primeiro item da tupla\n",
        "print(estados[0])\n",
        "\n",
        "# acessando o último item da tupla\n",
        "print(estados[-1])\n"
      ]
    },
    {
      "cell_type": "markdown",
      "metadata": {
        "id": "CRvwbrJysr-U"
      },
      "source": [
        "## Exercícios\n",
        "Apesar de não poderem ser mudados, vamos praticar a criação e o acesso aos valores de uma tupla.\n",
        "\n",
        "<center><img width=\"45%\" src=\"https://image.freepik.com/free-photo/close-up-man-writing-code-laptop_158595-5169.jpg\"></center>\n"
      ]
    },
    {
      "cell_type": "markdown",
      "metadata": {
        "id": "5RChxzFtszz2"
      },
      "source": [
        "### Exercício 1\n",
        "Crie uma tupla com os nomes dos estados da sua região."
      ]
    },
    {
      "cell_type": "code",
      "execution_count": null,
      "metadata": {
        "id": "HmBWcCHpsP8i"
      },
      "outputs": [],
      "source": [
        "# resposta\n"
      ]
    },
    {
      "cell_type": "code",
      "execution_count": 24,
      "metadata": {
        "cellView": "form",
        "id": "oB5qoxSgspgK"
      },
      "outputs": [
        {
          "data": {
            "text/plain": [
              "tuple"
            ]
          },
          "execution_count": 24,
          "metadata": {},
          "output_type": "execute_result"
        }
      ],
      "source": [
        "#@title Solução\n",
        "centro_oeste = ('Distrito Federal', 'Goiás', 'Mato Grosso', 'Mato Grosso do Sul')\n",
        "type(centro_oeste)"
      ]
    },
    {
      "cell_type": "markdown",
      "metadata": {
        "id": "gVmmEs_ktodb"
      },
      "source": [
        "### Exercício 2\n",
        "Associe cada estado a uma variável e crie uma nova tupla, utilizando essas variáveis."
      ]
    },
    {
      "cell_type": "code",
      "execution_count": null,
      "metadata": {
        "id": "Z6zbisNfuG7m"
      },
      "outputs": [],
      "source": [
        "# resposta\n"
      ]
    },
    {
      "cell_type": "code",
      "execution_count": null,
      "metadata": {
        "cellView": "form",
        "id": "ZZm7nzwWtk4D"
      },
      "outputs": [],
      "source": [
        "#@title Solução\n",
        "centro_oeste = ('Distrito Federal', 'Goiás', 'Mato Grosso', 'Mato Grosso do Sul')\n",
        "df = centro_oeste[0]\n",
        "go = centro_oeste[1]\n",
        "mt = centro_oeste[2]\n",
        "ms = centro_oeste[3]\n",
        "co = (df,go,mt,ms)\n",
        "print(type(co))\n",
        "print(co)"
      ]
    },
    {
      "cell_type": "markdown",
      "metadata": {
        "id": "rhrPY7pquKXp"
      },
      "source": [
        "### Exercício 3\n",
        "Utilizando as tuplas criadas anteriormente, faça o que se pede em cada célula."
      ]
    },
    {
      "cell_type": "code",
      "execution_count": null,
      "metadata": {
        "id": "IT5iIPaNuAbz"
      },
      "outputs": [],
      "source": [
        "# imprima o último item da tupla\n"
      ]
    },
    {
      "cell_type": "code",
      "execution_count": null,
      "metadata": {
        "id": "k6kP4ExxucSv"
      },
      "outputs": [],
      "source": [
        "# imprima o item que se encontra no meio da tupla\n"
      ]
    },
    {
      "cell_type": "code",
      "execution_count": null,
      "metadata": {
        "id": "srcEJN-Uubml"
      },
      "outputs": [],
      "source": [
        "# imprima os itens da tupla, pulando um\n"
      ]
    },
    {
      "cell_type": "code",
      "execution_count": null,
      "metadata": {
        "cellView": "form",
        "id": "CH2dRz7ouRxw"
      },
      "outputs": [],
      "source": [
        "#@title Solução\n",
        "# último\n",
        "print(co[-1])\n",
        "\n",
        "# meio\n",
        "print(co[2])\n",
        "\n",
        "# itens pulando um\n",
        "print(co[::2])"
      ]
    }
  ],
  "metadata": {
    "colab": {
      "provenance": []
    },
    "kernelspec": {
      "display_name": "Python 3",
      "name": "python3"
    },
    "language_info": {
      "codemirror_mode": {
        "name": "ipython",
        "version": 3
      },
      "file_extension": ".py",
      "mimetype": "text/x-python",
      "name": "python",
      "nbconvert_exporter": "python",
      "pygments_lexer": "ipython3",
      "version": "3.11.5"
    }
  },
  "nbformat": 4,
  "nbformat_minor": 0
}
