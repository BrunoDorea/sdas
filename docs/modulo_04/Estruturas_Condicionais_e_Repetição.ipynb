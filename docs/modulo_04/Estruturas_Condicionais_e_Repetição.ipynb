{
  "cells": [
    {
      "cell_type": "markdown",
      "metadata": {
        "id": "sZ5OjtVEoFUF"
      },
      "source": [
        "<img alt=\"Colaboratory logo\" width=\"15%\" src=\"https://raw.githubusercontent.com/carlosfab/escola-data-science/master/img/novo_logo_bg_claro.png\">\n",
        "\n",
        "---\n",
        "\n",
        "## Estruturas Condicionais e de Repetição\n",
        "\n",
        "\n",
        "<center><img width=\"45%\" src=\"https://github.com/rafaelnduarte/sigmoidal_data/blob/master/loops.png?raw=true\"></center>\n",
        "\n",
        "\n",
        "Nesta aula, você irá aprender algumas das principais estruturas lógicas e de repetição, que irão agregar muitas funcionalidades para o seu código.\n",
        "\n",
        "Obviamente, as estruturas existentes são bem mais extensas que as apresentadas aqui. Porém, aqui você terá uma visão geral daquelas que fazem mais sentido neste momento, com foco sempre no curso Data Science na Prática.\n",
        "\n",
        "É importante ressaltar que a identação é muito importante aqui, pois podemos encontrar erros simplesmente por não ter feito a identação corretamente. Portanto, muita atenção ao criar essas estruturas."
      ]
    },
    {
      "cell_type": "markdown",
      "metadata": {
        "id": "mbfYlMXJoV-f"
      },
      "source": [
        "### If Statement\n",
        "\n",
        "O `if` , que significa \"se\", faz uma análise baseada em condições. Pode rodar ou pular frações de códigos, dependendo se a condição recebe um `True` ou `False`."
      ]
    },
    {
      "cell_type": "code",
      "execution_count": 1,
      "metadata": {
        "id": "m7c_LRMxpCdB"
      },
      "outputs": [
        {
          "name": "stdout",
          "output_type": "stream",
          "text": [
            "Pode comprar bebida.\n"
          ]
        }
      ],
      "source": [
        "# associando a idade\n",
        "carlos = 35\n",
        "\n",
        "# criando a condição\n",
        "if carlos >= 18:\n",
        "    print(\"Pode comprar bebida.\")\n",
        "else:\n",
        "    print(\"Não pode comprar bebida.\")"
      ]
    },
    {
      "cell_type": "code",
      "execution_count": 2,
      "metadata": {
        "id": "0Bn4A19GpcL3"
      },
      "outputs": [
        {
          "name": "stdout",
          "output_type": "stream",
          "text": [
            "Não pode comprar bebida.\n"
          ]
        }
      ],
      "source": [
        "# associando a idade\n",
        "pedro = 17\n",
        "\n",
        "# criando a condição\n",
        "if pedro >= 18:\n",
        "    print(\"Pode comprar bebida.\")\n",
        "else:\n",
        "    print(\"Não pode comprar bebida.\")"
      ]
    },
    {
      "cell_type": "code",
      "execution_count": 3,
      "metadata": {
        "id": "iTFHgrTvpeyU"
      },
      "outputs": [
        {
          "name": "stdout",
          "output_type": "stream",
          "text": [
            "Pode alugar carro!\n"
          ]
        }
      ],
      "source": [
        "# criando variáveis\n",
        "carlos_idade = 35\n",
        "carlos_cnh = True\n",
        "carlos_pontos_cnh = 16\n",
        "\n",
        "# criando a condição\n",
        "if carlos_idade >= 18 and carlos_cnh and carlos_pontos_cnh < 20:\n",
        "    print(\"Pode alugar carro!\")\n",
        "else:\n",
        "    print(\"Não pode alugar carro.\")"
      ]
    },
    {
      "cell_type": "code",
      "execution_count": 4,
      "metadata": {
        "id": "VnwUp9F9qSXZ"
      },
      "outputs": [
        {
          "name": "stdout",
          "output_type": "stream",
          "text": [
            "Saldo Inicial: 100.0\n",
            "Saldo Atual: 74.1\n"
          ]
        }
      ],
      "source": [
        "# criando variáveis\n",
        "saldo = 100.00\n",
        "compra_efetuada = 25.90\n",
        "\n",
        "# criando condição\n",
        "print(\"Saldo Inicial:\", saldo)\n",
        "if compra_efetuada:\n",
        "    saldo = saldo - compra_efetuada\n",
        "    print(\"Saldo Atual:\", saldo)"
      ]
    },
    {
      "cell_type": "markdown",
      "metadata": {
        "id": "yjmePENrrSmt"
      },
      "source": [
        "### For Loops\n",
        "\n",
        "Permite que você **repita** pedaços de códigos, evitando que você tenha que repetir códigos manualmente. O `For` permite que você execute uma determinada ação **até que** uma determinada condição tenha sido atingida.\n",
        "\n",
        "<center><img width=\"45%\" src=\"https://www.thoughtco.com/thmb/vydcEQSm6eJeuNKYYy5EtViCtQw=/3429x2572/smart/filters:no_upscale()/Getty_repetition-183814724-58b9a3843df78c353c11806d.jpg\"></center>\n",
        "\n"
      ]
    },
    {
      "cell_type": "code",
      "execution_count": 5,
      "metadata": {
        "colab": {
          "base_uri": "https://localhost:8080/"
        },
        "id": "VcHnzvgJr1qO",
        "outputId": "084927bd-6aaf-4a2c-9b0a-6e6b6c0b1106"
      },
      "outputs": [
        {
          "name": "stdout",
          "output_type": "stream",
          "text": [
            "0\n",
            "1\n",
            "2\n",
            "3\n",
            "4\n",
            "5\n",
            "6\n",
            "7\n",
            "8\n",
            "9\n"
          ]
        }
      ],
      "source": [
        "import time\n",
        "\n",
        "# listando números no range 10\n",
        "for n in range(10):\n",
        "    print(n)\n",
        "    time.sleep(1)"
      ]
    },
    {
      "cell_type": "markdown",
      "metadata": {
        "id": "iR1M6e696Np4"
      },
      "source": []
    },
    {
      "cell_type": "code",
      "execution_count": 6,
      "metadata": {
        "colab": {
          "base_uri": "https://localhost:8080/"
        },
        "id": "6UDVWn7erUKD",
        "outputId": "ecb2b395-7f59-4840-e82f-ca672fdeed10"
      },
      "outputs": [
        {
          "name": "stdout",
          "output_type": "stream",
          "text": [
            "Carlos\n",
            "Fernanda\n",
            "Theo\n",
            "Snow\n"
          ]
        }
      ],
      "source": [
        "# listando convidados na lista, enquanto houverem convidados\n",
        "lista_convidados = [\"Carlos\", \"Fernanda\", \"Theo\", \"Snow\"]\n",
        "\n",
        "# para uma VARIAVEL dentro de UMA SEQUENCIA\n",
        "for pescador_parrudo in lista_convidados:\n",
        "    print(pescador_parrudo)\n",
        "    time.sleep(1)"
      ]
    },
    {
      "cell_type": "code",
      "execution_count": 7,
      "metadata": {
        "colab": {
          "base_uri": "https://localhost:8080/"
        },
        "id": "I4meWtCjsEXA",
        "outputId": "e60c341d-be51-4d7d-b89e-c5098d3c0b7f"
      },
      "outputs": [
        {
          "name": "stdout",
          "output_type": "stream",
          "text": [
            "9 x 0 = 0\n",
            "9 x 1 = 9\n",
            "9 x 2 = 18\n",
            "9 x 3 = 27\n",
            "9 x 4 = 36\n",
            "9 x 5 = 45\n",
            "9 x 6 = 54\n",
            "9 x 7 = 63\n",
            "9 x 8 = 72\n",
            "9 x 9 = 81\n",
            "9 x 10 = 90\n"
          ]
        }
      ],
      "source": [
        "# multiplicando números dentro do range\n",
        "for i in range(11):\n",
        "    resultado = i * 9\n",
        "    print(\"9 x\", i, \"=\", resultado)"
      ]
    },
    {
      "cell_type": "markdown",
      "metadata": {
        "id": "X-utqQV7sVFK"
      },
      "source": [
        "### While Loops\n",
        "\n",
        "Similar ao `for` *loop*, o `while` *loop* cria uma repetição em cima de determinada ação. No entanto, enquanto no *for* nós indicávamos a quantidade de vezes que determinada ação deveria ser executada, o *while* continua repetindo uma ação até que determinada condição de parada seja atingida."
      ]
    },
    {
      "cell_type": "code",
      "execution_count": 8,
      "metadata": {
        "colab": {
          "base_uri": "https://localhost:8080/"
        },
        "id": "7OEkG9N-82O9",
        "outputId": "25c93422-b4e3-4b8c-a6c1-d04a412d0028"
      },
      "outputs": [
        {
          "name": "stdout",
          "output_type": "stream",
          "text": [
            "i: Carlos\n",
            "i: Fernanda\n",
            "i: Theo\n",
            "i: Raquel\n",
            "i: Helena\n",
            "i: Catarina\n"
          ]
        }
      ],
      "source": [
        "for i in [\"Carlos\", \"Fernanda\", \"Theo\", \"Raquel\", \"Helena\", \"Catarina\"]:\n",
        "    print(\"i:\", i)"
      ]
    },
    {
      "cell_type": "code",
      "execution_count": null,
      "metadata": {
        "colab": {
          "base_uri": "https://localhost:8080/"
        },
        "id": "ViUY9yZn8blb",
        "outputId": "e51b49f0-1d0c-4a8b-a814-9c8958617c27"
      },
      "outputs": [],
      "source": [
        "for indice, elemento_da_sequencia in enumerate([\"Carlos\", \"Fernanda\", \"Theo\", \"Raquel\", \"Helena\", \"Catarina\"]):\n",
        "    print(\"i:\", i)"
      ]
    },
    {
      "cell_type": "code",
      "execution_count": null,
      "metadata": {
        "colab": {
          "base_uri": "https://localhost:8080/",
          "height": 58
        },
        "id": "9fZG7LF99Q8x",
        "outputId": "85e95150-1237-4572-d369-979f4e26e06f"
      },
      "outputs": [],
      "source": [
        "i"
      ]
    },
    {
      "cell_type": "code",
      "execution_count": null,
      "metadata": {
        "colab": {
          "base_uri": "https://localhost:8080/"
        },
        "id": "bLBB4fn_-4yV",
        "outputId": "5c61722e-60f3-4ae6-ad1c-edcc7cd28383"
      },
      "outputs": [],
      "source": [
        "idade = 10\n",
        "print(idade)"
      ]
    },
    {
      "cell_type": "code",
      "execution_count": null,
      "metadata": {
        "colab": {
          "base_uri": "https://localhost:8080/"
        },
        "id": "2jmWuZyK-94z",
        "outputId": "5b1fca0d-8e23-4191-983d-529f62b129e1"
      },
      "outputs": [],
      "source": [
        "idade -= 1\n",
        "# idade = idade - 1\n",
        "print(idade)"
      ]
    },
    {
      "cell_type": "code",
      "execution_count": null,
      "metadata": {
        "colab": {
          "base_uri": "https://localhost:8080/"
        },
        "id": "qhDpwjFaAQxR",
        "outputId": "bfa50178-2a09-4e61-8154-d603cc6a0e8f"
      },
      "outputs": [],
      "source": [
        "300-80.50-80.50-80.50"
      ]
    },
    {
      "cell_type": "code",
      "execution_count": null,
      "metadata": {
        "id": "CJ_NljR_tE_p"
      },
      "outputs": [],
      "source": [
        "# saldo na minha conta bancária\n",
        "saldo = 300.00\n",
        "\n",
        "# preço da pizza em São José dos Campos\n",
        "preco_pizza = 80.50\n",
        "\n",
        "# quantidade de pizzas já comidas\n",
        "pizzas = 0\n",
        "\n",
        "# comprar e comer pizza enquanto eu tiver dinheiro para pagar\n",
        "while saldo >= preco_pizza:\n",
        "    pizzas = pizzas + 1\n",
        "    saldo = saldo - preco_pizza\n",
        "\n",
        "# quantas pizzas eu comi?\n",
        "print(\"Você comeu\", pizzas, \"pizzas!\")\n",
        "\n",
        "# qual o saldo remanescente na minha conta?\n",
        "print(\"Saldo remanescente na conta: R$\", saldo)"
      ]
    },
    {
      "cell_type": "code",
      "execution_count": null,
      "metadata": {
        "colab": {
          "base_uri": "https://localhost:8080/"
        },
        "id": "6J9CfXKutysb",
        "outputId": "8a57132c-9953-45f3-9ed5-5404169fcda2"
      },
      "outputs": [],
      "source": [
        "validade_yakult = 10\n",
        "\n",
        "while validade_yakult > 0:\n",
        "    print(\"[+] Produto na validade. Faltam\", validade_yakult, \"dias.\")\n",
        "    validade_yakult = validade_yakult - 1\n",
        "\n",
        "print(\"[-] ATENÇÃO: Yogurt vencido. Faltam\", validade_yakult, \"dias.\")"
      ]
    },
    {
      "cell_type": "markdown",
      "metadata": {
        "id": "ObJ8s4032qQ_"
      },
      "source": [
        "## Exercícios\n",
        "Agora estamos prontos para colocar a mão na massa e criar algumas estruturas condicionais.\n",
        "\n",
        "<center><img width=\"45%\" src=\"https://l3leadership.org/wp-content/uploads/2017/01/repitition.jpg\"></center>"
      ]
    },
    {
      "cell_type": "markdown",
      "metadata": {
        "id": "v4NYJnMa467s"
      },
      "source": [
        "### Exercício 1\n",
        "Crie uma estrutura condicional para verificar se a pessoa pode alugar um carro."
      ]
    },
    {
      "cell_type": "code",
      "execution_count": null,
      "metadata": {
        "id": "CL0mJMXou1Pj"
      },
      "outputs": [],
      "source": [
        "# resposta"
      ]
    },
    {
      "cell_type": "code",
      "execution_count": null,
      "metadata": {
        "cellView": "form",
        "id": "F5SWy7g75skL"
      },
      "outputs": [],
      "source": [
        "#@title Solução\n",
        "idade= 25\n",
        "cnh = True\n",
        "\n",
        "if idade >= 21 & cnh == True:\n",
        "  print(\"Você pode alugar um carro.\")\n",
        "else:\n",
        "  print(\"Você não pode alugar um carro.\")"
      ]
    },
    {
      "cell_type": "markdown",
      "metadata": {
        "id": "7uzqD0Gg7U01"
      },
      "source": [
        "### Exercício 2\n",
        "Crie uma lista com 5 elementos, e crie uma estrutura condicional para listar todos os items da lista."
      ]
    },
    {
      "cell_type": "code",
      "execution_count": null,
      "metadata": {
        "id": "wWADidSy6hMx"
      },
      "outputs": [],
      "source": [
        "# resposta"
      ]
    },
    {
      "cell_type": "code",
      "execution_count": null,
      "metadata": {
        "id": "UbaRLJVS98Ib"
      },
      "outputs": [],
      "source": [
        "#@title Solução\n",
        "frutas = ['Banana', 'Laranja', 'Macã', 'Abacaxi', 'Morango']\n",
        "\n",
        "for i in frutas:\n",
        "  print(i)"
      ]
    },
    {
      "cell_type": "markdown",
      "metadata": {
        "id": "PQwcMhc2_afi"
      },
      "source": [
        "### Exercício 3\n",
        "Crie uma estrutura condicional para calcular os dias até o final do mês."
      ]
    },
    {
      "cell_type": "code",
      "execution_count": null,
      "metadata": {
        "id": "6tHJEBelwENf"
      },
      "outputs": [],
      "source": [
        "# resposta"
      ]
    },
    {
      "cell_type": "code",
      "execution_count": null,
      "metadata": {
        "id": "iIB8Zjag_q3r"
      },
      "outputs": [],
      "source": [
        "#@title Solução\n",
        "dia_mes = 30\n",
        "\n",
        "while dia_mes > 0:\n",
        "    print(\"Faltam\", dia_mes, \"dias.\")\n",
        "    dia_mes -= 1\n",
        "\n",
        "print(\"Fim do mês! Faltam\", dia_mes, \"dias.\")"
      ]
    },
    {
      "cell_type": "code",
      "execution_count": null,
      "metadata": {
        "id": "azptzq2QAm5X"
      },
      "outputs": [],
      "source": []
    }
  ],
  "metadata": {
    "colab": {
      "provenance": []
    },
    "kernelspec": {
      "display_name": "Python 3",
      "name": "python3"
    },
    "language_info": {
      "codemirror_mode": {
        "name": "ipython",
        "version": 3
      },
      "file_extension": ".py",
      "mimetype": "text/x-python",
      "name": "python",
      "nbconvert_exporter": "python",
      "pygments_lexer": "ipython3",
      "version": "3.11.5"
    }
  },
  "nbformat": 4,
  "nbformat_minor": 0
}
