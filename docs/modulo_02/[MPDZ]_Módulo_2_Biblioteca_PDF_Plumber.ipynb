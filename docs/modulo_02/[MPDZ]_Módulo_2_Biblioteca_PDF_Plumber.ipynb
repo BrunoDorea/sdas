{
  "cells": [
    {
      "cell_type": "markdown",
      "metadata": {
        "id": "ZiW5N3JAtjIz"
      },
      "source": [
        "<img alt=\"Colaboratory logo\" width=\"15%\" src=\"https://raw.githubusercontent.com/carlosfab/escola-data-science/master/img/novo_logo_bg_claro.png\">\n",
        "\n",
        "#### **Python do Zero**\n",
        "*by [sigmoidal.ai](https://sigmoidal.ai)*\n",
        "\n",
        "---\n",
        "\n",
        "## Biblioteca PDF Plumber\n",
        "\n",
        "Em nossa rotina de trabalho é muito comum termos que lidar com arquivos no formato PDF. Criamos, editamos, acessamos e compartilhamos arquivos nesse formato, que muitas vezes, fazem parte de nossas atividades primordiais na empresa.\n",
        "\n",
        "\n",
        "<center><img width=\"50%\" src=\"https://image.freepik.com/free-vector/group-people-working-together_52683-28615.jpg\"></center>\n",
        "\n",
        "Com essa biblioteca de Python, será possível facilitar esse processo. A biblioteca [PDF Plumber](https://github.com/jsvine/pdfplumber) possui uma grande gama de funções e argumentos, e aqui nós vamos começar a nos aventurar com essas funções.\n",
        "\n",
        "Para isso, vamos precisar fazer o download do pdf de apoio que foi disponibilizado como material complementar dessa aula. Você pode upar o arquivo diretamente na aba de arquivos à esquerda do seu navegador, e acessá-lo por lá.\n",
        "\n",
        "Entretanto, vamos fazer um processo mais robusto, e nos acostumar a montar e acessar nosso Google Drive, pois esse processo vai facilitar a nossa vida quando formos lidar com mais arquivos de uma vez.\n",
        "\n",
        "Outro detalhe importante é que, nativamente, o Google Colab não possui essa biblioteca instalada, então nós precisamos instalar a mesma no nosso ambiente.\n",
        "\n",
        "Para isso, vamos utilizar o gerenciador de pacotes `pip`, e com o comando `install` vamos instalar a biblioteca.\n",
        "\n"
      ]
    },
    {
      "cell_type": "code",
      "execution_count": null,
      "metadata": {
        "colab": {
          "base_uri": "https://localhost:8080/",
          "height": 419
        },
        "id": "F4_oeGhjt4y8",
        "outputId": "4c0274d1-9d99-4bf8-e81b-998e129b4f9a"
      },
      "outputs": [],
      "source": [
        "# instalando a biblioteca\n",
        "%pip install pdfplumber"
      ]
    },
    {
      "cell_type": "markdown",
      "metadata": {
        "id": "7x-0TWdK2JYb"
      },
      "source": [
        "Agora que a biblioteca foi instalada, basta fazer a importação, e usar.\n",
        "\n",
        "Para essa aula, precisaremos importar também a biblioteca `os` para manipular os arquivos, e o `drive` para montar e acessar nosso Google Drive."
      ]
    },
    {
      "cell_type": "code",
      "execution_count": null,
      "metadata": {
        "id": "DewqL6GNtUqa"
      },
      "outputs": [],
      "source": [
        "# importando os pacotes necessários\n",
        "import pdfplumber\n",
        "import os\n",
        "from google.colab import drive"
      ]
    },
    {
      "cell_type": "markdown",
      "metadata": {
        "id": "qlKWfvfa2Ytr"
      },
      "source": [
        "Pronto! Agora é só montar nosso drive e buscar os arquivos."
      ]
    },
    {
      "cell_type": "code",
      "execution_count": null,
      "metadata": {
        "colab": {
          "base_uri": "https://localhost:8080/",
          "height": 128
        },
        "id": "SSvr3THEuDSW",
        "outputId": "e20b5af4-3188-4bd5-a877-a2215a241e5b"
      },
      "outputs": [],
      "source": [
        "# montando o drive\n",
        "drive.mount('/content/gdrive')"
      ]
    },
    {
      "cell_type": "markdown",
      "metadata": {
        "id": "hUIKa2iH2fvd"
      },
      "source": [
        "Verificando o conteúdo do nosso drive, podemos ver que o arquivo `modelo_de_relatorio.pdf` está lá, pronto para ser usado.\n",
        "\n",
        "Vamos carregá-lo e ver como essa biblioteca funciona na prática."
      ]
    },
    {
      "cell_type": "code",
      "execution_count": null,
      "metadata": {
        "id": "004L1AYOuSgT"
      },
      "outputs": [],
      "source": [
        "# verificando o conteúdo do drive\n",
        "!ls '/content/gdrive/My Drive'"
      ]
    },
    {
      "cell_type": "markdown",
      "metadata": {
        "id": "7IO7R0kl3Gva"
      },
      "source": [
        "### pdfplumber.open()\n",
        "\n",
        "Para abrir um arquivo, vamos associá-lo a uma variável, para que ele possa ser facilmente acessado depois.\n",
        "\n",
        "Utilizamos o comando `pdfplumber.open('caminho/do/meu/arquivo')` com o caminho do arquivo dentro dos parênteses, dentro de aspas, simples ou duplas."
      ]
    },
    {
      "cell_type": "code",
      "execution_count": null,
      "metadata": {
        "id": "hdp90dsGucY6"
      },
      "outputs": [],
      "source": [
        "# abrindo o documento\n",
        "pdf = pdfplumber.open('/content/gdrive/My Drive/modelo_de_relatorio.pdf')"
      ]
    },
    {
      "cell_type": "markdown",
      "metadata": {
        "id": "XFKTVq6l4Fc5"
      },
      "source": [
        "### pages\n",
        "Para acessar as páginas existentes no arquivo, utilizamos a função `pages`.\n",
        "\n",
        "Ela retorna uma lista com as páginas do arquivo."
      ]
    },
    {
      "cell_type": "code",
      "execution_count": null,
      "metadata": {
        "colab": {
          "base_uri": "https://localhost:8080/",
          "height": 35
        },
        "id": "gqZKbdiqusij",
        "outputId": "0bb5f122-9129-448c-c8b1-2ff0aa34712b"
      },
      "outputs": [],
      "source": [
        "# ver o número de páginas do pdf:\n",
        "pdf.pages"
      ]
    },
    {
      "cell_type": "markdown",
      "metadata": {
        "id": "djmfxiee4R72"
      },
      "source": [
        "Ao fazer qualquer manipulação, precisamos sempre identificar a página em que isso está acontecendo, mesmo que o documento possua apenas uma página.\n",
        "\n",
        "Para isso, utilizaremos a função `pages`, passando como argumento o número da página que desejamos manipular, lembrando sempre que começamos a contar a partir do 0."
      ]
    },
    {
      "cell_type": "code",
      "execution_count": null,
      "metadata": {
        "colab": {
          "base_uri": "https://localhost:8080/",
          "height": 35
        },
        "id": "5XJYSrMNuw5r",
        "outputId": "8b4db713-eb67-4be9-d9cc-1b0ccd4feec7"
      },
      "outputs": [],
      "source": [
        "# selecionando uma página\n",
        "page = pdf.pages[0]\n",
        "page"
      ]
    },
    {
      "cell_type": "markdown",
      "metadata": {
        "id": "RABL6kKm45HV"
      },
      "source": [
        "### metadata\n",
        "Metadados, de forma simples, são dados sobre outros dados. No nosso caso, são dados sobre o nosso arquivo, como o autor, data de criação, palavras chaves, título, etc.\n",
        "\n",
        "É possível extrair esses dados sobre nossos arquivos com facilidade usando a função `metadata` do pdfplumber."
      ]
    },
    {
      "cell_type": "code",
      "execution_count": null,
      "metadata": {
        "colab": {
          "base_uri": "https://localhost:8080/",
          "height": 235
        },
        "id": "ItMVvZ6ovhfZ",
        "outputId": "39ef64eb-5b3b-47f0-9053-d934133a22bd"
      },
      "outputs": [],
      "source": [
        "# coletando os metadados do arquivo\n",
        "pdf.metadata"
      ]
    },
    {
      "cell_type": "markdown",
      "metadata": {
        "id": "oNOiwASS509V"
      },
      "source": [
        "### extract_text()\n",
        "\n",
        "No fim das contas, estamos interessados mesmo é no conteúdo do nosso arquivo, e isso também pode ser facilmente extraído utilizando o pdfplumber, através da função `extract_text()` que funciona no nível da página.\n",
        "\n",
        "Aqui, precisamos ter extraído a página que iremos trabalhar, e vamos associar a uma variável o resultado da execução da função `extract_text()` sobre a página. Depois, é só imprimir."
      ]
    },
    {
      "cell_type": "code",
      "execution_count": null,
      "metadata": {
        "id": "qPbRqtZ7u7R5"
      },
      "outputs": [],
      "source": [
        "# extraindo o texto do arquivo\n",
        "text = page.extract_text()\n",
        "print(text)"
      ]
    },
    {
      "cell_type": "code",
      "execution_count": null,
      "metadata": {
        "colab": {
          "base_uri": "https://localhost:8080/",
          "height": 126
        },
        "id": "oSxpc0wLxXP1",
        "outputId": "ca3454cb-16d3-47f4-f2b2-b59bf2414a3a"
      },
      "outputs": [],
      "source": [
        "page.extract_text()"
      ]
    },
    {
      "cell_type": "code",
      "execution_count": null,
      "metadata": {
        "id": "R9r5pdRl5ROK"
      },
      "outputs": [],
      "source": []
    }
  ],
  "metadata": {
    "colab": {
      "provenance": []
    },
    "kernelspec": {
      "display_name": "Python 3",
      "name": "python3"
    },
    "language_info": {
      "codemirror_mode": {
        "name": "ipython",
        "version": 3
      },
      "file_extension": ".py",
      "mimetype": "text/x-python",
      "name": "python",
      "nbconvert_exporter": "python",
      "pygments_lexer": "ipython3",
      "version": "3.11.0"
    }
  },
  "nbformat": 4,
  "nbformat_minor": 0
}
