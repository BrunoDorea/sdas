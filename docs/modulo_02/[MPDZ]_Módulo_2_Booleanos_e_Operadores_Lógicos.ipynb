{
  "cells": [
    {
      "cell_type": "markdown",
      "metadata": {
        "id": "uot0dPiSrjhg"
      },
      "source": [
        "<img alt=\"Colaboratory logo\" width=\"15%\" src=\"https://raw.githubusercontent.com/carlosfab/escola-data-science/master/img/novo_logo_bg_claro.png\">\n",
        "\n",
        "\n",
        "\n",
        "## Booleanos e Operadores Lógicos\n",
        "\n",
        "Nesta aula veremos sobre o tipo de dado chamado **booleano**, ou ***bool***, além dos operadores relacionais e dos operadores lógicos.\n",
        "\n",
        "\n",
        "<center><img width=\"45%\" src=\"https://image.freepik.com/free-vector/programmer-s-workplace-writing-code-laptop_80328-238.jpg\"></center>\n",
        "\n",
        "São extremamente importantes, presentes em qualquer lógico de qualquer programa de computador.\n",
        "\n"
      ]
    },
    {
      "cell_type": "markdown",
      "metadata": {
        "id": "Ubz_tFXksVeu"
      },
      "source": [
        "O tipo `bool` é um dado que pode possuir os valores `True` ou `False`:\n",
        "\n",
        "* `True` - equivalente ao número 1\n",
        "* `False` - equivalente ao número 0"
      ]
    },
    {
      "cell_type": "code",
      "execution_count": null,
      "metadata": {
        "id": "-ha7cayRSxMp"
      },
      "outputs": [],
      "source": [
        "i = 10\n",
        "j = 80"
      ]
    },
    {
      "cell_type": "code",
      "execution_count": null,
      "metadata": {
        "colab": {
          "base_uri": "https://localhost:8080/"
        },
        "id": "IIO8skWwS39R",
        "outputId": "d31413c2-8b98-4263-bbd8-95b313f74c34"
      },
      "outputs": [],
      "source": [
        "j == i"
      ]
    },
    {
      "cell_type": "code",
      "execution_count": null,
      "metadata": {
        "colab": {
          "base_uri": "https://localhost:8080/"
        },
        "id": "wgtl3b3xS3yg",
        "outputId": "a8374546-037a-4d9b-9646-899177f73846"
      },
      "outputs": [],
      "source": [
        "j != i"
      ]
    },
    {
      "cell_type": "code",
      "execution_count": null,
      "metadata": {
        "colab": {
          "base_uri": "https://localhost:8080/"
        },
        "id": "nLOr8ErzsbXb",
        "outputId": "e1142bbe-45eb-4c67-91db-463b5a5ec97d"
      },
      "outputs": [],
      "source": [
        "# ver o tipo de True\n",
        "type(True)"
      ]
    },
    {
      "cell_type": "code",
      "execution_count": null,
      "metadata": {
        "colab": {
          "base_uri": "https://localhost:8080/"
        },
        "id": "7ckrSOw2tPip",
        "outputId": "03e9078b-f745-45b1-ecb3-61114153ff65"
      },
      "outputs": [],
      "source": [
        "# ver o tipo de False\n",
        "type(False)"
      ]
    },
    {
      "cell_type": "markdown",
      "metadata": {
        "id": "KoNsUflfsNHH"
      },
      "source": [
        "## Operadores Relacionais\n",
        "\n",
        "Os Operadores Relacionais server para você fazer comparações entre valores ou variáveis.\n",
        "\n",
        "Após avaliar uma expressão, os Operadores Relacionais retornam um dado do tipo `bool`, ou seja, `True` ou `False`. Veja os 6 operadores:\n",
        "\n",
        "\n",
        "| **OPERADOR** | **DESCRIÇÃO**    |\n",
        "|:------------:|:----------------:|\n",
        "| <            | Menor que        |\n",
        "| >            | Maior que        |\n",
        "| <=           | Menor or igual a |\n",
        "| >=           | Maior ou igual a |\n",
        "| ==           | Igual a          |\n",
        "| \\!=          | Diferente de     |"
      ]
    },
    {
      "cell_type": "code",
      "execution_count": null,
      "metadata": {
        "colab": {
          "base_uri": "https://localhost:8080/"
        },
        "id": "H2QxVuD4sbzY",
        "outputId": "c3443625-c691-4232-b285-57afebe9e9b4"
      },
      "outputs": [],
      "source": [
        "# operador relacional maior que\n",
        "4 > 5"
      ]
    },
    {
      "cell_type": "code",
      "execution_count": null,
      "metadata": {
        "colab": {
          "base_uri": "https://localhost:8080/"
        },
        "id": "Q6YqLSUdvHaj",
        "outputId": "861534d7-50c6-4cd6-be9b-311c1540fac3"
      },
      "outputs": [],
      "source": [
        "# operador relacional igual a\n",
        "4 == 4"
      ]
    },
    {
      "cell_type": "markdown",
      "metadata": {
        "id": "lgvsc1HCoPGx"
      },
      "source": [
        "Podemos utilizar esses operadores para `strings` também, como no exemplo abaixo.\n",
        "\n",
        "É importante ressaltar também que o Python é ***case sensitive***, o que significa que ele diferencia minúsculas de maiúsculas, portanto `x` não é o mesmo que `X`."
      ]
    },
    {
      "cell_type": "code",
      "execution_count": null,
      "metadata": {
        "colab": {
          "base_uri": "https://localhost:8080/"
        },
        "id": "Ko0UgNREvHQX",
        "outputId": "b77c0fec-0754-4a7c-8adf-e6f58952893a"
      },
      "outputs": [],
      "source": [
        "# operador relacional com strings\n",
        "'texto' == 'TEXTO'"
      ]
    },
    {
      "cell_type": "markdown",
      "metadata": {
        "id": "O-nM1UgtoqLi"
      },
      "source": [
        "Quando utilizamos operadores booleanos, o `True` assume o valor `1`, e `False`, `0`.\n",
        "\n",
        "Podemos conferir isso com o código abaixo:"
      ]
    },
    {
      "cell_type": "code",
      "execution_count": null,
      "metadata": {
        "colab": {
          "base_uri": "https://localhost:8080/"
        },
        "id": "GGQ1HZBavHHZ",
        "outputId": "1811e4c4-29fd-46a0-f8af-a93a3f023508"
      },
      "outputs": [],
      "source": [
        "True == 1"
      ]
    },
    {
      "cell_type": "code",
      "execution_count": null,
      "metadata": {
        "colab": {
          "base_uri": "https://localhost:8080/"
        },
        "id": "lO_xWaR7vG-9",
        "outputId": "7db4d86c-a224-4304-c29c-1a7dcc352607"
      },
      "outputs": [],
      "source": [
        "False == 0"
      ]
    },
    {
      "cell_type": "markdown",
      "metadata": {
        "id": "xbNv_V2xpLdo"
      },
      "source": [
        "Podemos utilizar de operadores booleanos para diferentes tarefas, que podem ter diferentes níveis de complexidade."
      ]
    },
    {
      "cell_type": "code",
      "execution_count": null,
      "metadata": {
        "colab": {
          "base_uri": "https://localhost:8080/"
        },
        "id": "_xKakPKgvG24",
        "outputId": "1f7747cb-a653-4d82-94c1-1d1e0b23411f"
      },
      "outputs": [],
      "source": [
        "2 ** 10 >= 100"
      ]
    },
    {
      "cell_type": "markdown",
      "metadata": {
        "id": "_VNFzmZEpTWU"
      },
      "source": [
        "Ao usar o comparativo \"diferente de\", estamos buscando igualdade total, ou seja, um **2** do tipo `int` e um **2** do tipo `string` não são considerados iguais."
      ]
    },
    {
      "cell_type": "code",
      "execution_count": null,
      "metadata": {
        "colab": {
          "base_uri": "https://localhost:8080/"
        },
        "id": "gLEf9jmRvthu",
        "outputId": "4db345c7-6bd7-4d3f-e3ec-6059f1428c69"
      },
      "outputs": [],
      "source": [
        "2 != '2'"
      ]
    },
    {
      "cell_type": "markdown",
      "metadata": {
        "id": "0XqngY88sO4V"
      },
      "source": [
        "## Operadores Lógicos\n",
        "\n",
        "Os Operadores Lógicos são aqueles que permitem você unir várias expressões lógicas, várias comparações.\n",
        "\n",
        "Em *scripts* ou projetos de *Data Science* que você irá fazer, com certeza lidará com situações onde vai precisar avaliar várias condições ao mesmo tempo.\n",
        "\n",
        "Os três Operadores Lógicos que você precisa conhecer são:\n",
        "\n",
        "| **OPERADORES LÓGICOS** | **DESCRIÇÃO**                                         |\n",
        "|:----------------------:|:-----------------------------------------------------:|\n",
        "| and                    | Verifica se todas as expressões são True              |\n",
        "| or                     | Verifica se pelo menos uma expressão é verdadeira     |\n",
        "| not                    | Verifica a negação da expressão\\. Inverte o resultado |\n",
        "\n",
        "\n",
        "Com eles, podemos fazer diversas conferências, que serão muito úteis no nosso código, seja para trabalhar e limpar os dados, ou executar uma função em uma aplicação."
      ]
    },
    {
      "cell_type": "markdown",
      "metadata": {
        "id": "fZZhtoC7R-nR"
      },
      "source": [
        "### Operador lógico AND\n",
        "Quando usamos esse operador, queremos que **todas** as condições sejam verdadeiras. Caso alguma delas seja falsa, teremos `False` como resultado."
      ]
    },
    {
      "cell_type": "code",
      "execution_count": null,
      "metadata": {
        "colab": {
          "base_uri": "https://localhost:8080/"
        },
        "id": "jK7ErHIWsSG3",
        "outputId": "aad114c6-66cc-4132-ff60-cb416eaa8388"
      },
      "outputs": [],
      "source": [
        "# verificar se todas as condições são atendidas\n",
        "# Sou eu\n",
        "idade = 23\n",
        "possui_habilitacao = True\n",
        "\n",
        "# permitir aluguel do carro?\n",
        "# Localiza\n",
        "(idade >= 18) and (possui_habilitacao)"
      ]
    },
    {
      "cell_type": "code",
      "execution_count": null,
      "metadata": {
        "colab": {
          "base_uri": "https://localhost:8080/"
        },
        "id": "M4BnPhF3xqJE",
        "outputId": "97c6796a-99bc-4275-a631-2f65f41ddf67"
      },
      "outputs": [],
      "source": [
        "# verificar se todas as condições são atendidas\n",
        "idade = 17\n",
        "possui_habilitacao = True\n",
        "\n",
        "# permitir aluguel do carro?\n",
        "(idade >= 18) and (possui_habilitacao)"
      ]
    },
    {
      "cell_type": "markdown",
      "metadata": {
        "id": "9FWu4afJSNWB"
      },
      "source": [
        "### Operador OR\n",
        "Para o or, precisamos que **ao menos uma** das condições seja satisfeita."
      ]
    },
    {
      "cell_type": "code",
      "execution_count": null,
      "metadata": {
        "colab": {
          "base_uri": "https://localhost:8080/"
        },
        "id": "_RukwDcxx56w",
        "outputId": "c41dc834-2e76-480a-b8db-bf567f4d57da"
      },
      "outputs": [],
      "source": [
        "# verificar se ao menos uma condição é atendida\n",
        "tempo_relacionamento = 3\n",
        "valor_da_compra = 300.50\n",
        "cartao_da_loja = False\n",
        "\n",
        "# fornecer desconto se uma das condições for verdadeira\n",
        "(tempo_relacionamento > 1) or (valor_da_compra > 500.00) or (cartao_da_loja)"
      ]
    },
    {
      "cell_type": "markdown",
      "metadata": {
        "id": "2tRPAf4uSXU4"
      },
      "source": [
        "### Operador NOT\n",
        "Ao usar esse operador, estamos verificando a negação da operação, ou seja, invertendo o resultado.\n",
        "\n",
        "Ou seja, ele retorna `False` caso o resultado seja `True`."
      ]
    },
    {
      "cell_type": "code",
      "execution_count": null,
      "metadata": {
        "colab": {
          "base_uri": "https://localhost:8080/"
        },
        "id": "IAxVN1exy4HC",
        "outputId": "1e862e81-a4e8-4e17-e0a9-37e02aa08656"
      },
      "outputs": [],
      "source": [
        "# verificar se a criança pode entrar em um brinquedo do parque\n",
        "altura_crianca = 1.10\n",
        "\n",
        "# a criança pode entrar no brinquedo?\n",
        "not altura_crianca < 1.50"
      ]
    },
    {
      "cell_type": "markdown",
      "metadata": {
        "id": "E66jiCRj0fNr"
      },
      "source": [
        "## Exercícios\n",
        "\n",
        "Hora de praticar!\n",
        "\n",
        "<center><img width=\"50%\" src=\"https://image.freepik.com/free-photo/rear-view-programmer-working-all-night-long_1098-18697.jpg\n",
        "\"></center>"
      ]
    },
    {
      "cell_type": "markdown",
      "metadata": {
        "id": "FLz4DeLdS1mI"
      },
      "source": [
        "### Exercício 1\n",
        "Verifique se a expressão $2^4$ é igual a $16$:"
      ]
    },
    {
      "cell_type": "code",
      "execution_count": null,
      "metadata": {
        "id": "v42fI7p10rN2"
      },
      "outputs": [],
      "source": [
        "# resposta\n"
      ]
    },
    {
      "cell_type": "code",
      "execution_count": null,
      "metadata": {
        "cellView": "form",
        "id": "WSALYjuLTAf0"
      },
      "outputs": [],
      "source": [
        "#@title Solução\n",
        "2**4 == 16"
      ]
    },
    {
      "cell_type": "markdown",
      "metadata": {
        "id": "Ibl-Oekp0sIu"
      },
      "source": [
        "### Exercício 2\n",
        "Abaixo estão as notas de 3 provas de um estudante de ensino médio. Usando Operadores Lógicos e Operadores Relacionais, verifique se o mesmo foi aprovado no semestre. A condição para aprovação é ter a média das notas maior ou igual a 7."
      ]
    },
    {
      "cell_type": "code",
      "execution_count": null,
      "metadata": {
        "id": "5Zk-Jfh61I7T"
      },
      "outputs": [],
      "source": [
        "nota_matematica = 7.0\n",
        "nota_ingles = 8.2\n",
        "nota_historia = 6.95\n",
        "\n",
        "# expressão para ver se o aluno foi aprovado\n"
      ]
    },
    {
      "cell_type": "code",
      "execution_count": null,
      "metadata": {
        "cellView": "form",
        "id": "J_NgRQzuTpqU"
      },
      "outputs": [],
      "source": [
        "#@title Solução\n",
        "print(nota_matematica >= 7)\n",
        "print(nota_ingles >= 7)\n",
        "print(nota_historia >= 7)\n",
        "\n",
        "# verificar média geral\n",
        "print((nota_matematica + nota_ingles + nota_historia) / 3 >= 7)"
      ]
    },
    {
      "cell_type": "markdown",
      "metadata": {
        "id": "8rDwbKBIX43j"
      },
      "source": [
        "### Exercício 3\n",
        "Usando operadores lógicos e matemáticos, verifique se João pode tirar carteira de motorista, sabendo que a idade mínima para isso é 18 anos de idade, e que custa R$1.000,00"
      ]
    },
    {
      "cell_type": "code",
      "execution_count": null,
      "metadata": {
        "id": "n7EIGnWOUBtc"
      },
      "outputs": [],
      "source": [
        "# dados do João\n",
        "idade = 19\n",
        "saldo = 1500"
      ]
    },
    {
      "cell_type": "code",
      "execution_count": null,
      "metadata": {
        "id": "8umykNt1YZHT"
      },
      "outputs": [],
      "source": [
        "# resposta\n"
      ]
    },
    {
      "cell_type": "code",
      "execution_count": null,
      "metadata": {
        "cellView": "form",
        "id": "YtEQ9n8qYa0t"
      },
      "outputs": [],
      "source": [
        "#@title Solução\n",
        "idade >= 18 and saldo >= 1000"
      ]
    },
    {
      "cell_type": "code",
      "execution_count": null,
      "metadata": {
        "id": "5H04dFb1Yg2v"
      },
      "outputs": [],
      "source": []
    }
  ],
  "metadata": {
    "colab": {
      "provenance": []
    },
    "kernelspec": {
      "display_name": "Python 3",
      "name": "python3"
    },
    "language_info": {
      "codemirror_mode": {
        "name": "ipython",
        "version": 3
      },
      "file_extension": ".py",
      "mimetype": "text/x-python",
      "name": "python",
      "nbconvert_exporter": "python",
      "pygments_lexer": "ipython3",
      "version": "3.11.0"
    }
  },
  "nbformat": 4,
  "nbformat_minor": 0
}
