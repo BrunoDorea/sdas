{
  "cells": [
    {
      "cell_type": "markdown",
      "metadata": {
        "id": "r_GKvZa6kn34"
      },
      "source": [
        "<img alt=\"Colaboratory logo\" width=\"15%\" src=\"https://raw.githubusercontent.com/carlosfab/escola-data-science/master/img/novo_logo_bg_claro.png\">\n",
        "\n",
        "---\n",
        "\n",
        "## Google Drive e Google Colab\n",
        "\n",
        "Estar dentro do ecossistema do Google tem suas vantagens. Além de estarmos utilizando um ambiente altamente interativo, prático, robusto e fácil de usar, também temos integração facilitada com outros produtos Google, como o Google Drive, por exemplo.\n",
        "\n",
        "\n",
        "<center><img width=\"20%\" src=\"https://upload.wikimedia.org/wikipedia/commons/thumb/5/53/Google_%22G%22_Logo.svg/1004px-Google_%22G%22_Logo.svg.png\"></center>\n",
        "\n",
        "Além disso, o Colab ainda pode nos ajudar com alguns exemplos de códigos e outros snippets que podem nos salvar muito tempo."
      ]
    },
    {
      "cell_type": "markdown",
      "metadata": {
        "id": "ekjiotG7lauV"
      },
      "source": [
        "## Acessando o Google Drive a partir do Colab\n",
        "\n",
        "O Google Drive é o sistema de armazenamento em nuvem do Google, e pode ser um grande facilitador do nosso trabalho no que tange acessibilidade aos arquivos que vamos trabalhar.\n",
        "\n",
        "Usando o pacote `drive` da biblioteca `google.colab` conseguimos interagir com nosso drive de forma prática e simples. Tudo que precisamos fazer é montar o drive com o comando abaixo.\n",
        "\n",
        "Após rodar a célula, abrirá uma nova janela, pedindo autorização para acessar a conta e manipular os arquivos contidos nela. Após liberar o acesso, copie o código gerado e insira-o abaixo."
      ]
    },
    {
      "cell_type": "code",
      "execution_count": null,
      "metadata": {
        "id": "4geNsOJwgBAe"
      },
      "outputs": [],
      "source": [
        "# importando os pacotes necessários\n",
        "from google.colab import drive\n",
        "\n",
        "# montando o drive\n",
        "drive.mount('/content/gdrive')"
      ]
    },
    {
      "cell_type": "markdown",
      "metadata": {
        "id": "C5SL9YuqmHSW"
      },
      "source": [
        "Pronto! Seu drive foi montado e está disponível para ser acessado. Você pode visualizá-lo na aba arquivos na lateral esquerda do navegador.\n",
        "\n",
        "É possível usar a função `!ls` para listar os arquivos disponíveis dentro do nosso drive."
      ]
    },
    {
      "cell_type": "code",
      "execution_count": null,
      "metadata": {
        "id": "NqT5a18RgN-1"
      },
      "outputs": [],
      "source": [
        "# listando arquivos\n",
        "!ls 'gdrive/My Drive/'"
      ]
    },
    {
      "cell_type": "markdown",
      "metadata": {
        "id": "SZHlSRlymaGy"
      },
      "source": [
        "Agora que temos acesso aos nossos arquivos, podemos manipulá-los.\n"
      ]
    },
    {
      "cell_type": "code",
      "execution_count": null,
      "metadata": {
        "id": "qvJPgOFege0h"
      },
      "outputs": [],
      "source": [
        "# lendo o arquivo lista_de_clientes.txt\n",
        "with open('/content/gdrive/My Drive/Cursos/Python do Zero/Módulo 2/lista_de_clientes.txt', 'r') as clientes:\n",
        "  print(clientes.read())"
      ]
    },
    {
      "cell_type": "markdown",
      "metadata": {
        "id": "k2sPPGb6jlKc"
      },
      "source": [
        "## Snippets do Colab\n",
        "\n",
        "Além de todas as vantagens, e funcionalidades do Google Colab que já vimos, existe uma outra que também pode ser bastante útil em aplicações futuras, e demonstram o poder dessa plataforma.\n",
        "\n",
        "Usando **Snippets** pré-criados e disponibilizados aqui dentro, podemos ganhar tempo e performance em nossos projetos.\n",
        "\n",
        "Para acessar os snippets, clique na aba `insert`, no canto superior esquerdo do navegador, e depois clique em `Code Snippets`.\n",
        "\n",
        "À esquerda, será aberta uma aba com várias opções de snippets para serem inseridos em nosso código.\n",
        "\n",
        "Abaixo, veremos alguns exemplos e aplicações."
      ]
    },
    {
      "cell_type": "code",
      "execution_count": null,
      "metadata": {
        "id": "D1RYimV2qOVZ"
      },
      "outputs": [],
      "source": [
        "from IPython.display import display, Javascript\n",
        "from google.colab.output import eval_js\n",
        "from base64 import b64decode\n",
        "\n",
        "def take_photo(filename='photo.jpg', quality=0.8):\n",
        "  js = Javascript('''\n",
        "    async function takePhoto(quality) {\n",
        "      const div = document.createElement('div');\n",
        "      const capture = document.createElement('button');\n",
        "      capture.textContent = 'Capture';\n",
        "      div.appendChild(capture);\n",
        "\n",
        "      const video = document.createElement('video');\n",
        "      video.style.display = 'block';\n",
        "      const stream = await navigator.mediaDevices.getUserMedia({video: true});\n",
        "\n",
        "      document.body.appendChild(div);\n",
        "      div.appendChild(video);\n",
        "      video.srcObject = stream;\n",
        "      await video.play();\n",
        "\n",
        "      // Resize the output to fit the video element.\n",
        "      google.colab.output.setIframeHeight(document.documentElement.scrollHeight, true);\n",
        "\n",
        "      // Wait for Capture to be clicked.\n",
        "      await new Promise((resolve) => capture.onclick = resolve);\n",
        "\n",
        "      const canvas = document.createElement('canvas');\n",
        "      canvas.width = video.videoWidth;\n",
        "      canvas.height = video.videoHeight;\n",
        "      canvas.getContext('2d').drawImage(video, 0, 0);\n",
        "      stream.getVideoTracks()[0].stop();\n",
        "      div.remove();\n",
        "      return canvas.toDataURL('image/jpeg', quality);\n",
        "    }\n",
        "    ''')\n",
        "  display(js)\n",
        "  data = eval_js('takePhoto({})'.format(quality))\n",
        "  binary = b64decode(data.split(',')[1])\n",
        "  with open(filename, 'wb') as f:\n",
        "    f.write(binary)\n",
        "  return filename"
      ]
    },
    {
      "cell_type": "markdown",
      "metadata": {
        "id": "dkBlMa2snYdV"
      },
      "source": [
        "### Webcam\n",
        "\n",
        "É possível acessar e tirar fotos de sua webcam com algumas linhas de código, inseridas automaticamente pelo Google Colab."
      ]
    },
    {
      "cell_type": "code",
      "execution_count": null,
      "metadata": {
        "colab": {
          "base_uri": "https://localhost:8080/",
          "height": 515
        },
        "id": "7QUNBQFmrRQx",
        "outputId": "13806e6a-814e-4429-b540-e610780366c9"
      },
      "outputs": [],
      "source": [
        "from IPython.display import display, Javascript\n",
        "from google.colab.output import eval_js\n",
        "from base64 import b64decode\n",
        "\n",
        "def take_photo(filename='photo.jpg', quality=0.8):\n",
        "  js = Javascript('''\n",
        "    async function takePhoto(quality) {\n",
        "      const div = document.createElement('div');\n",
        "      const capture = document.createElement('button');\n",
        "      capture.textContent = 'Capture';\n",
        "      div.appendChild(capture);\n",
        "\n",
        "      const video = document.createElement('video');\n",
        "      video.style.display = 'block';\n",
        "      const stream = await navigator.mediaDevices.getUserMedia({video: true});\n",
        "\n",
        "      document.body.appendChild(div);\n",
        "      div.appendChild(video);\n",
        "      video.srcObject = stream;\n",
        "      await video.play();\n",
        "\n",
        "      // Resize the output to fit the video element.\n",
        "      google.colab.output.setIframeHeight(document.documentElement.scrollHeight, true);\n",
        "\n",
        "      // Wait for Capture to be clicked.\n",
        "      await new Promise((resolve) => capture.onclick = resolve);\n",
        "\n",
        "      const canvas = document.createElement('canvas');\n",
        "      canvas.width = video.videoWidth;\n",
        "      canvas.height = video.videoHeight;\n",
        "      canvas.getContext('2d').drawImage(video, 0, 0);\n",
        "      stream.getVideoTracks()[0].stop();\n",
        "      div.remove();\n",
        "      return canvas.toDataURL('image/jpeg', quality);\n",
        "    }\n",
        "    ''')\n",
        "  display(js)\n",
        "  data = eval_js('takePhoto({})'.format(quality))\n",
        "  binary = b64decode(data.split(',')[1])\n",
        "  with open(filename, 'wb') as f:\n",
        "    f.write(binary)\n",
        "  return filename\n",
        "\n",
        "from IPython.display import Image\n",
        "try:\n",
        "  filename = take_photo()\n",
        "  print('Saved to {}'.format(filename))\n",
        "\n",
        "  # Show the image which was just taken.\n",
        "  display(Image(filename))\n",
        "except Exception as err:\n",
        "  # Errors will be thrown if the user does not have a webcam or if they do not\n",
        "  # grant the page permission to access it.\n",
        "  print(str(err))"
      ]
    },
    {
      "cell_type": "markdown",
      "metadata": {
        "id": "3z_ZarrboYJa"
      },
      "source": [
        "### Formulário\n",
        "\n",
        "Você também pode se baser em um snippet do Colab para criar um formulário.\n",
        "\n",
        "Os formulários podem receber diversos tipos de dados, como podemos ver abaixo."
      ]
    },
    {
      "cell_type": "code",
      "execution_count": null,
      "metadata": {
        "id": "z5I8wKrokck3"
      },
      "outputs": [],
      "source": [
        "#@title Formulário Python na Prática\n",
        "#@markdown Formulários suportam muitos tipos de dados.\n",
        "\n",
        "Sem tipo específico = ''  #@param\n",
        "Nome (String) = 'example'  #@param {type: \"string\"}\n",
        "Idade (Slider de Valores) = 31  #@param {type: \"slider\", min: 18, max: 100}\n",
        "Número (Integer) = 102  #@param {type: \"number\"}\n",
        "Data = '2010-11-02'  #@param {type: \"date\"}\n",
        "Drop Down = \"wednesday\"  #@param ['monday', 'tuesday', 'wednesday', 'thursday']\n",
        "Selecione ou Acrescente = \"apples\" #@param [\"apples\", \"bananas\", \"oranges\"] {allow-input: true}\n",
        "#@markdown ---\n"
      ]
    },
    {
      "cell_type": "markdown",
      "metadata": {
        "id": "OOzQdQB4oi8_"
      },
      "source": [
        "### Gráficos\n",
        "\n",
        "Você também pode tirar dos snippets ideias de visualização. Existem várias visualizaçõs pré-prontas disponíveis, utilizando diferentes bibliotecas.\n",
        "\n",
        "Abaixo, vamos ver alguns exemplos:"
      ]
    },
    {
      "cell_type": "markdown",
      "metadata": {
        "id": "X4ycGnssozkv"
      },
      "source": [
        "#### Gráfico Interativo Para Preço de Ações\n",
        "\n",
        "Utilizando a biblioteca de visualização de dados `Altair`, o Colab possui esse snippet para gráficos de açoes. O gráfico é interativo, e pode servir de inspiração para os seus."
      ]
    },
    {
      "cell_type": "code",
      "execution_count": null,
      "metadata": {
        "colab": {
          "base_uri": "https://localhost:8080/",
          "height": 367
        },
        "id": "AeXfU1EtowxY",
        "outputId": "3cba7e24-5eac-4b53-da05-984297ef9c25"
      },
      "outputs": [],
      "source": [
        "from vega_datasets import data\n",
        "stocks = data.stocks()\n",
        "\n",
        "import altair as alt\n",
        "alt.Chart(stocks).mark_line().encode(\n",
        "  x='date:T',\n",
        "  y='price',\n",
        "  color='symbol'\n",
        ").interactive(bind_y=False)"
      ]
    },
    {
      "cell_type": "markdown",
      "metadata": {
        "id": "NOL7ivPQpS0X"
      },
      "source": [
        "#### Consumo de Combustível por País de Fabricação dos Veículos"
      ]
    },
    {
      "cell_type": "code",
      "execution_count": null,
      "metadata": {
        "colab": {
          "base_uri": "https://localhost:8080/",
          "height": 367
        },
        "id": "i3q4JWQqpFgQ",
        "outputId": "077dfa68-ce6b-4ce4-f491-6c2e8dfe4753"
      },
      "outputs": [],
      "source": [
        "# load an example dataset\n",
        "from vega_datasets import data\n",
        "cars = data.cars()\n",
        "\n",
        "import altair as alt\n",
        "\n",
        "points = alt.Chart(cars).mark_point().encode(\n",
        "  x='Year:T',\n",
        "  y='Miles_per_Gallon',\n",
        "  color='Origin'\n",
        ").properties(\n",
        "  width=800\n",
        ")\n",
        "\n",
        "lines = alt.Chart(cars).mark_line().encode(\n",
        "  x='Year:T',\n",
        "  y='mean(Miles_per_Gallon)',\n",
        "  color='Origin'\n",
        ").properties(\n",
        "  width=800\n",
        ").interactive(bind_y=False)\n",
        "\n",
        "points + lines"
      ]
    },
    {
      "cell_type": "markdown",
      "metadata": {
        "id": "gOorbtCEpcXG"
      },
      "source": [
        "#### Consumo de Combustível x Potência em Cavalos"
      ]
    },
    {
      "cell_type": "code",
      "execution_count": null,
      "metadata": {
        "colab": {
          "base_uri": "https://localhost:8080/",
          "height": 367
        },
        "id": "XsRugqqTpJT3",
        "outputId": "f53bdee1-c41f-4a3c-a7f3-76d40df7f3f1"
      },
      "outputs": [],
      "source": [
        "# load an example dataset\n",
        "from vega_datasets import data\n",
        "cars = data.cars()\n",
        "\n",
        "import altair as alt\n",
        "\n",
        "interval = alt.selection_interval()\n",
        "\n",
        "alt.Chart(cars).mark_point().encode(\n",
        "  x='Horsepower',\n",
        "  y='Miles_per_Gallon',\n",
        "  color=alt.condition(interval, 'Origin', alt.value('lightgray'))\n",
        ").properties(\n",
        "  selection=interval\n",
        ")"
      ]
    },
    {
      "cell_type": "code",
      "execution_count": null,
      "metadata": {
        "id": "R-iMJepppKD1"
      },
      "outputs": [],
      "source": []
    }
  ],
  "metadata": {
    "colab": {
      "provenance": []
    },
    "kernelspec": {
      "display_name": "Python 3",
      "name": "python3"
    },
    "language_info": {
      "codemirror_mode": {
        "name": "ipython",
        "version": 3
      },
      "file_extension": ".py",
      "mimetype": "text/x-python",
      "name": "python",
      "nbconvert_exporter": "python",
      "pygments_lexer": "ipython3",
      "version": "3.11.0"
    }
  },
  "nbformat": 4,
  "nbformat_minor": 0
}
